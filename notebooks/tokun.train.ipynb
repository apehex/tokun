{
  "cells": [
    {
      "cell_type": "markdown",
      "metadata": {
        "id": "3xXM7DoPpds1"
      },
      "source": [
        "## Import deps"
      ]
    },
    {
      "cell_type": "code",
      "execution_count": null,
      "metadata": {
        "colab": {
          "base_uri": "https://localhost:8080/"
        },
        "id": "W24EKFXaO5yC",
        "outputId": "7d2f1356-eda0-427e-803b-0f664292b948"
      },
      "outputs": [
        {
          "name": "stdout",
          "output_type": "stream",
          "text": [
            "Collecting mlable\n",
            "  Downloading mlable-0.5.1-py3-none-any.whl (19 kB)\n",
            "Collecting tokun\n",
            "  Downloading tokun-0.9.1-py3-none-any.whl (18 kB)\n",
            "Requirement already satisfied: tensorflow>=2.15 in /usr/local/lib/python3.10/dist-packages (from mlable) (2.15.0)\n",
            "Requirement already satisfied: tensorflow-datasets>=4.9 in /usr/local/lib/python3.10/dist-packages (from tokun) (4.9.6)\n",
            "Requirement already satisfied: absl-py>=1.0.0 in /usr/local/lib/python3.10/dist-packages (from tensorflow>=2.15->mlable) (1.4.0)\n",
            "Requirement already satisfied: astunparse>=1.6.0 in /usr/local/lib/python3.10/dist-packages (from tensorflow>=2.15->mlable) (1.6.3)\n",
            "Requirement already satisfied: flatbuffers>=23.5.26 in /usr/local/lib/python3.10/dist-packages (from tensorflow>=2.15->mlable) (24.3.25)\n",
            "Requirement already satisfied: gast!=0.5.0,!=0.5.1,!=0.5.2,>=0.2.1 in /usr/local/lib/python3.10/dist-packages (from tensorflow>=2.15->mlable) (0.6.0)\n",
            "Requirement already satisfied: google-pasta>=0.1.1 in /usr/local/lib/python3.10/dist-packages (from tensorflow>=2.15->mlable) (0.2.0)\n",
            "Requirement already satisfied: h5py>=2.9.0 in /usr/local/lib/python3.10/dist-packages (from tensorflow>=2.15->mlable) (3.11.0)\n",
            "Requirement already satisfied: libclang>=13.0.0 in /usr/local/lib/python3.10/dist-packages (from tensorflow>=2.15->mlable) (18.1.1)\n",
            "Requirement already satisfied: ml-dtypes~=0.2.0 in /usr/local/lib/python3.10/dist-packages (from tensorflow>=2.15->mlable) (0.2.0)\n",
            "Requirement already satisfied: numpy<2.0.0,>=1.23.5 in /usr/local/lib/python3.10/dist-packages (from tensorflow>=2.15->mlable) (1.25.2)\n",
            "Requirement already satisfied: opt-einsum>=2.3.2 in /usr/local/lib/python3.10/dist-packages (from tensorflow>=2.15->mlable) (3.3.0)\n",
            "Requirement already satisfied: packaging in /usr/local/lib/python3.10/dist-packages (from tensorflow>=2.15->mlable) (24.1)\n",
            "Requirement already satisfied: protobuf!=4.21.0,!=4.21.1,!=4.21.2,!=4.21.3,!=4.21.4,!=4.21.5,<5.0.0dev,>=3.20.3 in /usr/local/lib/python3.10/dist-packages (from tensorflow>=2.15->mlable) (3.20.3)\n",
            "Requirement already satisfied: setuptools in /usr/local/lib/python3.10/dist-packages (from tensorflow>=2.15->mlable) (67.7.2)\n",
            "Requirement already satisfied: six>=1.12.0 in /usr/local/lib/python3.10/dist-packages (from tensorflow>=2.15->mlable) (1.16.0)\n",
            "Requirement already satisfied: termcolor>=1.1.0 in /usr/local/lib/python3.10/dist-packages (from tensorflow>=2.15->mlable) (2.4.0)\n",
            "Requirement already satisfied: typing-extensions>=3.6.6 in /usr/local/lib/python3.10/dist-packages (from tensorflow>=2.15->mlable) (4.12.2)\n",
            "Requirement already satisfied: wrapt<1.15,>=1.11.0 in /usr/local/lib/python3.10/dist-packages (from tensorflow>=2.15->mlable) (1.14.1)\n",
            "Requirement already satisfied: tensorflow-io-gcs-filesystem>=0.23.1 in /usr/local/lib/python3.10/dist-packages (from tensorflow>=2.15->mlable) (0.37.0)\n",
            "Requirement already satisfied: grpcio<2.0,>=1.24.3 in /usr/local/lib/python3.10/dist-packages (from tensorflow>=2.15->mlable) (1.64.1)\n",
            "Requirement already satisfied: tensorboard<2.16,>=2.15 in /usr/local/lib/python3.10/dist-packages (from tensorflow>=2.15->mlable) (2.15.2)\n",
            "Requirement already satisfied: tensorflow-estimator<2.16,>=2.15.0 in /usr/local/lib/python3.10/dist-packages (from tensorflow>=2.15->mlable) (2.15.0)\n",
            "Requirement already satisfied: keras<2.16,>=2.15.0 in /usr/local/lib/python3.10/dist-packages (from tensorflow>=2.15->mlable) (2.15.0)\n",
            "Requirement already satisfied: click in /usr/local/lib/python3.10/dist-packages (from tensorflow-datasets>=4.9->tokun) (8.1.7)\n",
            "Requirement already satisfied: dm-tree in /usr/local/lib/python3.10/dist-packages (from tensorflow-datasets>=4.9->tokun) (0.1.8)\n",
            "Requirement already satisfied: immutabledict in /usr/local/lib/python3.10/dist-packages (from tensorflow-datasets>=4.9->tokun) (4.2.0)\n",
            "Requirement already satisfied: promise in /usr/local/lib/python3.10/dist-packages (from tensorflow-datasets>=4.9->tokun) (2.3)\n",
            "Requirement already satisfied: psutil in /usr/local/lib/python3.10/dist-packages (from tensorflow-datasets>=4.9->tokun) (5.9.5)\n",
            "Requirement already satisfied: pyarrow in /usr/local/lib/python3.10/dist-packages (from tensorflow-datasets>=4.9->tokun) (16.1.0)\n",
            "Requirement already satisfied: requests>=2.19.0 in /usr/local/lib/python3.10/dist-packages (from tensorflow-datasets>=4.9->tokun) (2.31.0)\n",
            "Requirement already satisfied: simple-parsing in /usr/local/lib/python3.10/dist-packages (from tensorflow-datasets>=4.9->tokun) (0.1.5)\n",
            "Requirement already satisfied: tensorflow-metadata in /usr/local/lib/python3.10/dist-packages (from tensorflow-datasets>=4.9->tokun) (1.15.0)\n",
            "Requirement already satisfied: toml in /usr/local/lib/python3.10/dist-packages (from tensorflow-datasets>=4.9->tokun) (0.10.2)\n",
            "Requirement already satisfied: tqdm in /usr/local/lib/python3.10/dist-packages (from tensorflow-datasets>=4.9->tokun) (4.66.4)\n",
            "Requirement already satisfied: array-record>=0.5.0 in /usr/local/lib/python3.10/dist-packages (from tensorflow-datasets>=4.9->tokun) (0.5.1)\n",
            "Requirement already satisfied: etils[enp,epath,epy,etree]>=1.6.0 in /usr/local/lib/python3.10/dist-packages (from tensorflow-datasets>=4.9->tokun) (1.7.0)\n",
            "Requirement already satisfied: wheel<1.0,>=0.23.0 in /usr/local/lib/python3.10/dist-packages (from astunparse>=1.6.0->tensorflow>=2.15->mlable) (0.43.0)\n",
            "Requirement already satisfied: fsspec in /usr/local/lib/python3.10/dist-packages (from etils[enp,epath,epy,etree]>=1.6.0->tensorflow-datasets>=4.9->tokun) (2024.6.1)\n",
            "Requirement already satisfied: importlib_resources in /usr/local/lib/python3.10/dist-packages (from etils[enp,epath,epy,etree]>=1.6.0->tensorflow-datasets>=4.9->tokun) (6.4.0)\n",
            "Requirement already satisfied: zipp in /usr/local/lib/python3.10/dist-packages (from etils[enp,epath,epy,etree]>=1.6.0->tensorflow-datasets>=4.9->tokun) (3.19.2)\n",
            "Requirement already satisfied: charset-normalizer<4,>=2 in /usr/local/lib/python3.10/dist-packages (from requests>=2.19.0->tensorflow-datasets>=4.9->tokun) (3.3.2)\n",
            "Requirement already satisfied: idna<4,>=2.5 in /usr/local/lib/python3.10/dist-packages (from requests>=2.19.0->tensorflow-datasets>=4.9->tokun) (3.7)\n",
            "Requirement already satisfied: urllib3<3,>=1.21.1 in /usr/local/lib/python3.10/dist-packages (from requests>=2.19.0->tensorflow-datasets>=4.9->tokun) (2.0.7)\n",
            "Requirement already satisfied: certifi>=2017.4.17 in /usr/local/lib/python3.10/dist-packages (from requests>=2.19.0->tensorflow-datasets>=4.9->tokun) (2024.6.2)\n",
            "Requirement already satisfied: google-auth<3,>=1.6.3 in /usr/local/lib/python3.10/dist-packages (from tensorboard<2.16,>=2.15->tensorflow>=2.15->mlable) (2.27.0)\n",
            "Requirement already satisfied: google-auth-oauthlib<2,>=0.5 in /usr/local/lib/python3.10/dist-packages (from tensorboard<2.16,>=2.15->tensorflow>=2.15->mlable) (1.2.0)\n",
            "Requirement already satisfied: markdown>=2.6.8 in /usr/local/lib/python3.10/dist-packages (from tensorboard<2.16,>=2.15->tensorflow>=2.15->mlable) (3.6)\n",
            "Requirement already satisfied: tensorboard-data-server<0.8.0,>=0.7.0 in /usr/local/lib/python3.10/dist-packages (from tensorboard<2.16,>=2.15->tensorflow>=2.15->mlable) (0.7.2)\n",
            "Requirement already satisfied: werkzeug>=1.0.1 in /usr/local/lib/python3.10/dist-packages (from tensorboard<2.16,>=2.15->tensorflow>=2.15->mlable) (3.0.3)\n",
            "Requirement already satisfied: docstring-parser~=0.15 in /usr/local/lib/python3.10/dist-packages (from simple-parsing->tensorflow-datasets>=4.9->tokun) (0.16)\n",
            "Requirement already satisfied: cachetools<6.0,>=2.0.0 in /usr/local/lib/python3.10/dist-packages (from google-auth<3,>=1.6.3->tensorboard<2.16,>=2.15->tensorflow>=2.15->mlable) (5.3.3)\n",
            "Requirement already satisfied: pyasn1-modules>=0.2.1 in /usr/local/lib/python3.10/dist-packages (from google-auth<3,>=1.6.3->tensorboard<2.16,>=2.15->tensorflow>=2.15->mlable) (0.4.0)\n",
            "Requirement already satisfied: rsa<5,>=3.1.4 in /usr/local/lib/python3.10/dist-packages (from google-auth<3,>=1.6.3->tensorboard<2.16,>=2.15->tensorflow>=2.15->mlable) (4.9)\n",
            "Requirement already satisfied: requests-oauthlib>=0.7.0 in /usr/local/lib/python3.10/dist-packages (from google-auth-oauthlib<2,>=0.5->tensorboard<2.16,>=2.15->tensorflow>=2.15->mlable) (2.0.0)\n",
            "Requirement already satisfied: MarkupSafe>=2.1.1 in /usr/local/lib/python3.10/dist-packages (from werkzeug>=1.0.1->tensorboard<2.16,>=2.15->tensorflow>=2.15->mlable) (2.1.5)\n",
            "Requirement already satisfied: pyasn1<0.7.0,>=0.4.6 in /usr/local/lib/python3.10/dist-packages (from pyasn1-modules>=0.2.1->google-auth<3,>=1.6.3->tensorboard<2.16,>=2.15->tensorflow>=2.15->mlable) (0.6.0)\n",
            "Requirement already satisfied: oauthlib>=3.0.0 in /usr/local/lib/python3.10/dist-packages (from requests-oauthlib>=0.7.0->google-auth-oauthlib<2,>=0.5->tensorboard<2.16,>=2.15->tensorflow>=2.15->mlable) (3.2.2)\n",
            "Installing collected packages: mlable, tokun\n",
            "Successfully installed mlable-0.5.1 tokun-0.9.1\n"
          ]
        }
      ],
      "source": [
        "!pip install -U mlable tokun"
      ]
    },
    {
      "cell_type": "code",
      "execution_count": null,
      "metadata": {
        "id": "W6x6jSIuGHfm"
      },
      "outputs": [],
      "source": [
        "%load_ext tensorboard"
      ]
    },
    {
      "cell_type": "code",
      "execution_count": null,
      "metadata": {
        "id": "VXU-Ebl2pddk"
      },
      "outputs": [],
      "source": [
        "import datetime\n",
        "import functools\n",
        "import itertools\n",
        "import math\n",
        "import os\n",
        "import random\n",
        "import urllib.request\n",
        "\n",
        "import tensorflow as tf\n",
        "import tensorflow_datasets as tfds\n",
        "\n",
        "import mlable.data\n",
        "import mlable.metrics\n",
        "\n",
        "import tokun.data\n",
        "import tokun.evaluation\n",
        "import tokun.meta\n",
        "import tokun.model\n",
        "import tokun.pipeline"
      ]
    },
    {
      "cell_type": "code",
      "execution_count": null,
      "metadata": {
        "colab": {
          "base_uri": "https://localhost:8080/"
        },
        "id": "Pn1ywhSrpin9",
        "outputId": "22fcf15c-37b7-4863-807b-5551285f771e"
      },
      "outputs": [
        {
          "name": "stdout",
          "output_type": "stream",
          "text": [
            "Tensorflow version 2.15.0\n"
          ]
        }
      ],
      "source": [
        "print(\"Tensorflow version \" + tf.__version__)"
      ]
    },
    {
      "cell_type": "markdown",
      "metadata": {
        "id": "_pQCOmISAQBu"
      },
      "source": [
        "## Setup the GPU / TPU"
      ]
    },
    {
      "cell_type": "code",
      "execution_count": null,
      "metadata": {
        "id": "AWMvVNSAJK_n"
      },
      "outputs": [],
      "source": [
        "# MIXED PRECISION #############################################################\n",
        "\n",
        "tf.keras.mixed_precision.set_global_policy('mixed_bfloat16')"
      ]
    },
    {
      "cell_type": "code",
      "execution_count": null,
      "metadata": {
        "colab": {
          "base_uri": "https://localhost:8080/"
        },
        "id": "vFIMfPmgQa0h",
        "outputId": "2c591cb4-dfa6-4b87-fce6-e256b41a057d"
      },
      "outputs": [
        {
          "name": "stdout",
          "output_type": "stream",
          "text": [
            "<tensorflow.python.distribute.tpu_strategy.TPUStrategyV2 object at 0x7ee97ec4faf0>\n"
          ]
        }
      ],
      "source": [
        "# DEVICES #####################################################################\n",
        "\n",
        "tf.debugging.set_log_device_placement(False)\n",
        "\n",
        "CPU = tf.config.list_logical_devices('CPU')\n",
        "GPU = tf.config.list_logical_devices('GPU')\n",
        "TPU = tf.config.list_logical_devices('TPU')\n",
        "\n",
        "if TPU:\n",
        "    RESOLVER = tf.distribute.cluster_resolver.TPUClusterResolver()\n",
        "    tf.config.experimental_connect_to_cluster(RESOLVER)\n",
        "    tf.tpu.experimental.initialize_tpu_system(RESOLVER)\n",
        "    DISTRIBUTION_STRATEGY = tf.distribute.TPUStrategy(RESOLVER)\n",
        "elif GPU:\n",
        "    DISTRIBUTION_STRATEGY = tf.distribute.MirroredStrategy(GPU)\n",
        "else:\n",
        "    DISTRIBUTION_STRATEGY = tf.distribute.MirroredStrategy(CPU)\n",
        "\n",
        "print(DISTRIBUTION_STRATEGY)"
      ]
    },
    {
      "cell_type": "markdown",
      "metadata": {
        "id": "f9066X5EOyAX"
      },
      "source": [
        "## Mode"
      ]
    },
    {
      "cell_type": "code",
      "execution_count": 72,
      "metadata": {
        "id": "lFSPMtQaO1fu"
      },
      "outputs": [],
      "source": [
        "# TOGGLE ######################################################################\n",
        "\n",
        "IMPORT = False\n",
        "TRAINING = True\n",
        "RANDOM = True"
      ]
    },
    {
      "cell_type": "markdown",
      "metadata": {
        "id": "0t1jfsJlM3SX"
      },
      "source": [
        "## Defining The Metadata"
      ]
    },
    {
      "cell_type": "code",
      "execution_count": 73,
      "metadata": {
        "id": "8Z74MlibMWnu"
      },
      "outputs": [],
      "source": [
        "# MODEL PARAMETERS ############################################################\n",
        "\n",
        "N_SEQUENCE_AXIS = 1\n",
        "N_FEATURE_AXIS = -1\n",
        "\n",
        "N_TOKEN_DIM = [4, 4, 4] # G, for each block\n",
        "N_ENCODING_DIM = 256 # U\n",
        "N_EMBEDDING_DIM = N_ENCODING_DIM # E"
      ]
    },
    {
      "cell_type": "code",
      "execution_count": 74,
      "metadata": {
        "id": "21J7WEkhSwph"
      },
      "outputs": [],
      "source": [
        "# TRAINING PARAMETERS #########################################################\n",
        "\n",
        "N_EPOCHS = 8\n",
        "\n",
        "N_BATCH_DIM = 128 # number of samples per batch\n",
        "N_SAMPLE_DIM = 256 # number of characters per sample (=> 4 * N_SAMPLE_DIM integers per sample)\n",
        "\n",
        "R_0, B_1, B_2 = tokun.meta.rates(pretrained=IMPORT, normalization=True, base=0.001)\n",
        "\n",
        "CLASS_WEIGHTS = {__c: 0.3 if __c == 0 else 1. for __c in range(N_ENCODING_DIM)} # there are 3 times more 0s than other bytes"
      ]
    },
    {
      "cell_type": "code",
      "execution_count": 75,
      "metadata": {
        "id": "jm6y63XRBz07"
      },
      "outputs": [],
      "source": [
        "# DERIVED #####################################################################\n",
        "\n",
        "N_TOKEN_SIZES = list(itertools.accumulate(N_TOKEN_DIM, lambda x, y: x * y)) # in bytes\n",
        "N_OFFSET_TICKS = [2 ** __i for __i in range(int(math.log(N_TOKEN_SIZES[-1] // 4, 2)))] # in characters\n",
        "\n",
        "VERSION = tokun.meta.version(units=N_TOKEN_DIM, axis=N_SEQUENCE_AXIS)\n",
        "DATETIME = datetime.datetime.now().strftime(\"%Y%m%d-%H%M%S\")"
      ]
    },
    {
      "cell_type": "code",
      "execution_count": 76,
      "metadata": {
        "id": "xfIZb86Fg0dQ"
      },
      "outputs": [],
      "source": [
        "# IMPORT ######################################################################\n",
        "\n",
        "LABEL = '5.3'\n",
        "URL_IMPORT = 'https://github.com/apehex/tokun/raw/main/models/{}/{}/{}.keras'.format(*VERSION, LABEL)\n",
        "PATH_IMPORT = 'model.keras'\n",
        "\n",
        "if IMPORT:\n",
        "    urllib.request.urlretrieve(URL_IMPORT, PATH_IMPORT)"
      ]
    },
    {
      "cell_type": "code",
      "execution_count": 77,
      "metadata": {
        "id": "m88JtcyGiSZ1"
      },
      "outputs": [],
      "source": [
        "# EXPORT ######################################################################\n",
        "\n",
        "PATH_LOG = os.path.join('.logs/', *VERSION, DATETIME)\n",
        "PATH_EXPORT = 'model.keras'"
      ]
    },
    {
      "cell_type": "markdown",
      "metadata": {
        "id": "dEyFtkcFNGe4"
      },
      "source": [
        "## Loading The Data"
      ]
    },
    {
      "cell_type": "code",
      "execution_count": 78,
      "metadata": {
        "id": "rTK1MPV8qek5"
      },
      "outputs": [],
      "source": [
        "# RANDOM DATASET ##############################################################\n",
        "\n",
        "RANDOM_TRAIN = tokun.data.random_dataset(size=N_BATCH_DIM * 2**14, sample_size=N_SAMPLE_DIM, lower_plane=0, upper_plane=0x40000)\n",
        "RANDOM_TEST = tokun.data.random_dataset(size=N_BATCH_DIM * 2**8, sample_size=N_SAMPLE_DIM, lower_plane=0, upper_plane=0x40000)"
      ]
    },
    {
      "cell_type": "code",
      "execution_count": 79,
      "metadata": {
        "id": "4a3SQUQHNJ6M"
      },
      "outputs": [],
      "source": [
        "# MLQA DATASET ################################################################\n",
        "\n",
        "LANG = ['ar', 'de', 'en', 'es', 'hi', 'vi', 'zh']\n",
        "MLQA_TRAIN = {__l: tfds.load('mlqa/' + __l, split='test', as_supervised=False, shuffle_files=True, data_dir='~/.cache/tensorflow/', batch_size=None) for __l in LANG}\n",
        "MLQA_TEST = {__l: tfds.load('mlqa/' + __l, split='validation', as_supervised=False, shuffle_files=True, data_dir='~/.cache/tensorflow/', batch_size=None) for __l in LANG}"
      ]
    },
    {
      "cell_type": "markdown",
      "metadata": {
        "id": "8cheN52OEchs"
      },
      "source": [
        "## Preprocess"
      ]
    },
    {
      "cell_type": "code",
      "execution_count": 80,
      "metadata": {
        "id": "Gp2WitYVhs8I"
      },
      "outputs": [],
      "source": [
        "# MLQA ########################################################################\n",
        "\n",
        "PIPELINE = [\n",
        "    # join the features\n",
        "    ((lambda x: tf.strings.join(inputs=[x['context'], x['question'], x['answers']['text']], separator='\\u001d')), True),\n",
        "    # offset by 1 to 15 character => (1,) scalar bytes\n",
        "    *[(functools.partial(tokun.pipeline.offset, ticks=__t), False) for __t in N_OFFSET_TICKS], # (offsets 0, ..., (2 ^ i) - 1) + (offsets 2 ^ i, ..., 2 ^ (i+1) - 1)\n",
        "    # encode => (4 * S,) int (4 UTF-32 bytes per character)\n",
        "    (functools.partial(tokun.pipeline.encode, token_size=N_TOKEN_SIZES[-1], sample_size=N_SAMPLE_DIM), True),\n",
        "    # reshape => (4 * S,) int\n",
        "    (functools.partial(tf.reshape, shape=(4 * N_SAMPLE_DIM,)), True),\n",
        "    # one-hot encoding for the targets => (4 * S, E) int (bool)\n",
        "    ((lambda x: (x, tf.one_hot(x, depth=N_ENCODING_DIM, axis=-1))), True)]\n",
        "\n",
        "OPERATIONS, REPLACE = zip(*PIPELINE)\n",
        "\n",
        "MLQA_TRAIN = {__l: mlable.data.process(dataset=__d, pipeline=OPERATIONS, replace=REPLACE) for __l, __d in MLQA_TRAIN.items()}\n",
        "MLQA_TEST = {__l: mlable.data.process(dataset=__d, pipeline=OPERATIONS, replace=REPLACE) for __l, __d in MLQA_TEST.items()}"
      ]
    },
    {
      "cell_type": "code",
      "execution_count": 81,
      "metadata": {
        "id": "RmPWQV6GzkFb"
      },
      "outputs": [],
      "source": [
        "# RANDOM ######################################################################\n",
        "\n",
        "PIPELINE = [\n",
        "    # reshape each sample => (4 * S,) int\n",
        "    (functools.partial(tf.reshape, shape=(4 * N_SAMPLE_DIM,)), True),\n",
        "    # one-hot encoding for the targets => (4 * S, E) int (bool)\n",
        "    ((lambda x: (x, tf.one_hot(x, depth=N_ENCODING_DIM, axis=-1))), True)]\n",
        "\n",
        "OPERATIONS, REPLACE = zip(*PIPELINE)\n",
        "\n",
        "RANDOM_TRAIN = mlable.data.process(dataset=RANDOM_TRAIN, pipeline=OPERATIONS, replace=REPLACE)\n",
        "RANDOM_TEST = mlable.data.process(dataset=RANDOM_TEST, pipeline=OPERATIONS, replace=REPLACE)"
      ]
    },
    {
      "cell_type": "code",
      "execution_count": 82,
      "metadata": {
        "id": "wnzCjLkrlI8d"
      },
      "outputs": [],
      "source": [
        "# TOGGLE ######################################################################\n",
        "\n",
        "DATASET_TRAIN = RANDOM_TRAIN if RANDOM else MLQA_TRAIN['ar'].concatenate(MLQA_TRAIN['en']).concatenate(MLQA_TRAIN['es']).concatenate(MLQA_TRAIN['de']).concatenate(MLQA_TRAIN['hi']).concatenate(MLQA_TRAIN['vi']).concatenate(MLQA_TRAIN['zh'])\n",
        "DATASET_TEST = MLQA_TEST['ar'].concatenate(MLQA_TEST['en']).concatenate(MLQA_TEST['es']).concatenate(MLQA_TEST['de']).concatenate(MLQA_TEST['hi']).concatenate(MLQA_TEST['vi']).concatenate(MLQA_TEST['zh'])"
      ]
    },
    {
      "cell_type": "code",
      "execution_count": 83,
      "metadata": {
        "colab": {
          "base_uri": "https://localhost:8080/"
        },
        "id": "VQ3quJQ4EUKf",
        "outputId": "7ec07753-47dd-48bb-8052-dc79422561b0"
      },
      "outputs": [
        {
          "output_type": "stream",
          "name": "stdout",
          "text": [
            "(TensorSpec(shape=(1024,), dtype=tf.int32, name=None), TensorSpec(shape=(1024, 256), dtype=tf.float32, name=None))\n",
            "(TensorSpec(shape=(1024,), dtype=tf.int32, name=None), TensorSpec(shape=(1024, 256), dtype=tf.float32, name=None))\n",
            "(TensorSpec(shape=(1024,), dtype=tf.int32, name=None), TensorSpec(shape=(1024, 256), dtype=tf.float32, name=None))\n",
            "(TensorSpec(shape=(1024,), dtype=tf.uint8, name=None), TensorSpec(shape=(1024, 256), dtype=tf.float32, name=None))\n",
            "train: -2\n",
            "test:  67,184\n"
          ]
        }
      ],
      "source": [
        "# INSPECT #####################################################################\n",
        "\n",
        "print(RANDOM_TRAIN.element_spec)\n",
        "print(RANDOM_TEST.element_spec)\n",
        "\n",
        "print(DATASET_TRAIN.element_spec)\n",
        "print(DATASET_TEST.element_spec)\n",
        "\n",
        "print('train: {:,}'.format(DATASET_TRAIN.cardinality().numpy()))\n",
        "print('test:  {:,}'.format(DATASET_TEST.cardinality().numpy()))"
      ]
    },
    {
      "cell_type": "markdown",
      "metadata": {
        "id": "VbkaXey44V5Q"
      },
      "source": [
        "## Init The Model"
      ]
    },
    {
      "cell_type": "code",
      "execution_count": 84,
      "metadata": {
        "id": "iEpY1-vFIFX7"
      },
      "outputs": [],
      "source": [
        "# COMPILE ########################################################################\n",
        "\n",
        "with DISTRIBUTION_STRATEGY.scope():\n",
        "    # metrics\n",
        "    byte_accuracy = mlable.metrics.CategoricalGroupAccuracy(group=1, name='byte_accuracy')\n",
        "    character_accuracy = mlable.metrics.CategoricalGroupAccuracy(group=4, name='character_accuracy')\n",
        "    token_accuracy = mlable.metrics.CategoricalGroupAccuracy(group=N_TOKEN_SIZES[-1], name='token_accuracy')\n",
        "    # weights\n",
        "    MODEL = tokun.model.AutoEncoder(sequence_axis=N_SEQUENCE_AXIS, feature_axis=N_FEATURE_AXIS, token_dim=N_TOKEN_DIM, encoding_dim=N_ENCODING_DIM, embedding_dim=N_EMBEDDING_DIM, activation='gelu')\n",
        "    if IMPORT and os.path.isfile(PATH_IMPORT): MODEL = tf.keras.models.load_model(PATH_IMPORT, compile=False)\n",
        "    # compile\n",
        "    MODEL.compile(\n",
        "        optimizer=tf.keras.optimizers.Adam(learning_rate=R_0, beta_1=B_1, beta_2=B_2),\n",
        "        loss=tf.keras.losses.CategoricalCrossentropy(from_logits=False, label_smoothing=0., axis=-1, reduction=tf.keras.losses.Reduction.SUM_OVER_BATCH_SIZE, name='loss'),\n",
        "        metrics=[byte_accuracy, character_accuracy, token_accuracy])"
      ]
    },
    {
      "cell_type": "markdown",
      "metadata": {
        "id": "jRkNkXthBwar"
      },
      "source": [
        "## Train"
      ]
    },
    {
      "cell_type": "code",
      "execution_count": 85,
      "metadata": {
        "colab": {
          "base_uri": "https://localhost:8080/",
          "height": 577
        },
        "id": "beTpALmzFdu1",
        "outputId": "34c99a17-9c18-4d98-922d-4fa185d45e2f"
      },
      "outputs": [
        {
          "output_type": "stream",
          "name": "stdout",
          "text": [
            "Epoch 1/8\n",
            "  16384/Unknown - 1379s 83ms/step - loss: 0.7905 - byte_accuracy: 0.8123 - character_accuracy: 0.3223 - token_accuracy: 3.8266e-05\n",
            "Epoch 1: val_loss improved from inf to 0.45274, saving model to model.keras\n",
            "16384/16384 [==============================] - 1415s 86ms/step - loss: 0.7905 - byte_accuracy: 0.8123 - character_accuracy: 0.3223 - token_accuracy: 3.8266e-05 - val_loss: 0.4527 - val_byte_accuracy: 0.8764 - val_character_accuracy: 0.5082 - val_token_accuracy: 1.4140e-04\n",
            "Epoch 2/8\n",
            "16384/16384 [==============================] - ETA: 0s - loss: 0.2489 - byte_accuracy: 0.9262 - character_accuracy: 0.7098 - token_accuracy: 0.0119\n",
            "Epoch 2: val_loss improved from 0.45274 to 0.21542, saving model to model.keras\n",
            "16384/16384 [==============================] - 1421s 87ms/step - loss: 0.2489 - byte_accuracy: 0.9262 - character_accuracy: 0.7098 - token_accuracy: 0.0119 - val_loss: 0.2154 - val_byte_accuracy: 0.9475 - val_character_accuracy: 0.7905 - val_token_accuracy: 0.0752\n",
            "Epoch 3/8\n",
            " 3252/16384 [====>.........................] - ETA: 18:30 - loss: 0.1697 - byte_accuracy: 0.9562 - character_accuracy: 0.8284 - token_accuracy: 0.0852"
          ]
        },
        {
          "output_type": "error",
          "ename": "KeyboardInterrupt",
          "evalue": "",
          "traceback": [
            "\u001b[0;31m---------------------------------------------------------------------------\u001b[0m",
            "\u001b[0;31mKeyboardInterrupt\u001b[0m                         Traceback (most recent call last)",
            "\u001b[0;32m<ipython-input-85-ded072a920ba>\u001b[0m in \u001b[0;36m<cell line: 3>\u001b[0;34m()\u001b[0m\n\u001b[1;32m      7\u001b[0m         \u001b[0mtb_callback\u001b[0m \u001b[0;34m=\u001b[0m \u001b[0mtf\u001b[0m\u001b[0;34m.\u001b[0m\u001b[0mkeras\u001b[0m\u001b[0;34m.\u001b[0m\u001b[0mcallbacks\u001b[0m\u001b[0;34m.\u001b[0m\u001b[0mTensorBoard\u001b[0m\u001b[0;34m(\u001b[0m\u001b[0mlog_dir\u001b[0m\u001b[0;34m=\u001b[0m\u001b[0mPATH_LOG\u001b[0m\u001b[0;34m)\u001b[0m\u001b[0;34m\u001b[0m\u001b[0;34m\u001b[0m\u001b[0m\n\u001b[1;32m      8\u001b[0m         \u001b[0;31m# fit model\u001b[0m\u001b[0;34m\u001b[0m\u001b[0;34m\u001b[0m\u001b[0m\n\u001b[0;32m----> 9\u001b[0;31m         TRAINING_HISTORY = MODEL.fit(\n\u001b[0m\u001b[1;32m     10\u001b[0m             \u001b[0mx\u001b[0m\u001b[0;34m=\u001b[0m\u001b[0mDATASET_TRAIN\u001b[0m\u001b[0;34m.\u001b[0m\u001b[0mbatch\u001b[0m\u001b[0;34m(\u001b[0m\u001b[0mN_BATCH_DIM\u001b[0m\u001b[0;34m)\u001b[0m\u001b[0;34m.\u001b[0m\u001b[0mprefetch\u001b[0m\u001b[0;34m(\u001b[0m\u001b[0mtf\u001b[0m\u001b[0;34m.\u001b[0m\u001b[0mdata\u001b[0m\u001b[0;34m.\u001b[0m\u001b[0mAUTOTUNE\u001b[0m\u001b[0;34m)\u001b[0m\u001b[0;34m,\u001b[0m\u001b[0;34m\u001b[0m\u001b[0;34m\u001b[0m\u001b[0m\n\u001b[1;32m     11\u001b[0m             \u001b[0mbatch_size\u001b[0m\u001b[0;34m=\u001b[0m\u001b[0;32mNone\u001b[0m\u001b[0;34m,\u001b[0m\u001b[0;34m\u001b[0m\u001b[0;34m\u001b[0m\u001b[0m\n",
            "\u001b[0;32m/usr/local/lib/python3.10/dist-packages/keras/src/utils/traceback_utils.py\u001b[0m in \u001b[0;36merror_handler\u001b[0;34m(*args, **kwargs)\u001b[0m\n\u001b[1;32m     63\u001b[0m         \u001b[0mfiltered_tb\u001b[0m \u001b[0;34m=\u001b[0m \u001b[0;32mNone\u001b[0m\u001b[0;34m\u001b[0m\u001b[0;34m\u001b[0m\u001b[0m\n\u001b[1;32m     64\u001b[0m         \u001b[0;32mtry\u001b[0m\u001b[0;34m:\u001b[0m\u001b[0;34m\u001b[0m\u001b[0;34m\u001b[0m\u001b[0m\n\u001b[0;32m---> 65\u001b[0;31m             \u001b[0;32mreturn\u001b[0m \u001b[0mfn\u001b[0m\u001b[0;34m(\u001b[0m\u001b[0;34m*\u001b[0m\u001b[0margs\u001b[0m\u001b[0;34m,\u001b[0m \u001b[0;34m**\u001b[0m\u001b[0mkwargs\u001b[0m\u001b[0;34m)\u001b[0m\u001b[0;34m\u001b[0m\u001b[0;34m\u001b[0m\u001b[0m\n\u001b[0m\u001b[1;32m     66\u001b[0m         \u001b[0;32mexcept\u001b[0m \u001b[0mException\u001b[0m \u001b[0;32mas\u001b[0m \u001b[0me\u001b[0m\u001b[0;34m:\u001b[0m\u001b[0;34m\u001b[0m\u001b[0;34m\u001b[0m\u001b[0m\n\u001b[1;32m     67\u001b[0m             \u001b[0mfiltered_tb\u001b[0m \u001b[0;34m=\u001b[0m \u001b[0m_process_traceback_frames\u001b[0m\u001b[0;34m(\u001b[0m\u001b[0me\u001b[0m\u001b[0;34m.\u001b[0m\u001b[0m__traceback__\u001b[0m\u001b[0;34m)\u001b[0m\u001b[0;34m\u001b[0m\u001b[0;34m\u001b[0m\u001b[0m\n",
            "\u001b[0;32m/usr/local/lib/python3.10/dist-packages/keras/src/engine/training.py\u001b[0m in \u001b[0;36mfit\u001b[0;34m(self, x, y, batch_size, epochs, verbose, callbacks, validation_split, validation_data, shuffle, class_weight, sample_weight, initial_epoch, steps_per_epoch, validation_steps, validation_batch_size, validation_freq, max_queue_size, workers, use_multiprocessing)\u001b[0m\n\u001b[1;32m   1805\u001b[0m                         ):\n\u001b[1;32m   1806\u001b[0m                             \u001b[0mcallbacks\u001b[0m\u001b[0;34m.\u001b[0m\u001b[0mon_train_batch_begin\u001b[0m\u001b[0;34m(\u001b[0m\u001b[0mstep\u001b[0m\u001b[0;34m)\u001b[0m\u001b[0;34m\u001b[0m\u001b[0;34m\u001b[0m\u001b[0m\n\u001b[0;32m-> 1807\u001b[0;31m                             \u001b[0mtmp_logs\u001b[0m \u001b[0;34m=\u001b[0m \u001b[0mself\u001b[0m\u001b[0;34m.\u001b[0m\u001b[0mtrain_function\u001b[0m\u001b[0;34m(\u001b[0m\u001b[0miterator\u001b[0m\u001b[0;34m)\u001b[0m\u001b[0;34m\u001b[0m\u001b[0;34m\u001b[0m\u001b[0m\n\u001b[0m\u001b[1;32m   1808\u001b[0m                             \u001b[0;32mif\u001b[0m \u001b[0mdata_handler\u001b[0m\u001b[0;34m.\u001b[0m\u001b[0mshould_sync\u001b[0m\u001b[0;34m:\u001b[0m\u001b[0;34m\u001b[0m\u001b[0;34m\u001b[0m\u001b[0m\n\u001b[1;32m   1809\u001b[0m                                 \u001b[0mcontext\u001b[0m\u001b[0;34m.\u001b[0m\u001b[0masync_wait\u001b[0m\u001b[0;34m(\u001b[0m\u001b[0;34m)\u001b[0m\u001b[0;34m\u001b[0m\u001b[0;34m\u001b[0m\u001b[0m\n",
            "\u001b[0;32m/usr/local/lib/python3.10/dist-packages/tensorflow/python/util/traceback_utils.py\u001b[0m in \u001b[0;36merror_handler\u001b[0;34m(*args, **kwargs)\u001b[0m\n\u001b[1;32m    148\u001b[0m     \u001b[0mfiltered_tb\u001b[0m \u001b[0;34m=\u001b[0m \u001b[0;32mNone\u001b[0m\u001b[0;34m\u001b[0m\u001b[0;34m\u001b[0m\u001b[0m\n\u001b[1;32m    149\u001b[0m     \u001b[0;32mtry\u001b[0m\u001b[0;34m:\u001b[0m\u001b[0;34m\u001b[0m\u001b[0;34m\u001b[0m\u001b[0m\n\u001b[0;32m--> 150\u001b[0;31m       \u001b[0;32mreturn\u001b[0m \u001b[0mfn\u001b[0m\u001b[0;34m(\u001b[0m\u001b[0;34m*\u001b[0m\u001b[0margs\u001b[0m\u001b[0;34m,\u001b[0m \u001b[0;34m**\u001b[0m\u001b[0mkwargs\u001b[0m\u001b[0;34m)\u001b[0m\u001b[0;34m\u001b[0m\u001b[0;34m\u001b[0m\u001b[0m\n\u001b[0m\u001b[1;32m    151\u001b[0m     \u001b[0;32mexcept\u001b[0m \u001b[0mException\u001b[0m \u001b[0;32mas\u001b[0m \u001b[0me\u001b[0m\u001b[0;34m:\u001b[0m\u001b[0;34m\u001b[0m\u001b[0;34m\u001b[0m\u001b[0m\n\u001b[1;32m    152\u001b[0m       \u001b[0mfiltered_tb\u001b[0m \u001b[0;34m=\u001b[0m \u001b[0m_process_traceback_frames\u001b[0m\u001b[0;34m(\u001b[0m\u001b[0me\u001b[0m\u001b[0;34m.\u001b[0m\u001b[0m__traceback__\u001b[0m\u001b[0;34m)\u001b[0m\u001b[0;34m\u001b[0m\u001b[0;34m\u001b[0m\u001b[0m\n",
            "\u001b[0;32m/usr/local/lib/python3.10/dist-packages/tensorflow/python/eager/polymorphic_function/polymorphic_function.py\u001b[0m in \u001b[0;36m__call__\u001b[0;34m(self, *args, **kwds)\u001b[0m\n\u001b[1;32m    830\u001b[0m \u001b[0;34m\u001b[0m\u001b[0m\n\u001b[1;32m    831\u001b[0m       \u001b[0;32mwith\u001b[0m \u001b[0mOptionalXlaContext\u001b[0m\u001b[0;34m(\u001b[0m\u001b[0mself\u001b[0m\u001b[0;34m.\u001b[0m\u001b[0m_jit_compile\u001b[0m\u001b[0;34m)\u001b[0m\u001b[0;34m:\u001b[0m\u001b[0;34m\u001b[0m\u001b[0;34m\u001b[0m\u001b[0m\n\u001b[0;32m--> 832\u001b[0;31m         \u001b[0mresult\u001b[0m \u001b[0;34m=\u001b[0m \u001b[0mself\u001b[0m\u001b[0;34m.\u001b[0m\u001b[0m_call\u001b[0m\u001b[0;34m(\u001b[0m\u001b[0;34m*\u001b[0m\u001b[0margs\u001b[0m\u001b[0;34m,\u001b[0m \u001b[0;34m**\u001b[0m\u001b[0mkwds\u001b[0m\u001b[0;34m)\u001b[0m\u001b[0;34m\u001b[0m\u001b[0;34m\u001b[0m\u001b[0m\n\u001b[0m\u001b[1;32m    833\u001b[0m \u001b[0;34m\u001b[0m\u001b[0m\n\u001b[1;32m    834\u001b[0m       \u001b[0mnew_tracing_count\u001b[0m \u001b[0;34m=\u001b[0m \u001b[0mself\u001b[0m\u001b[0;34m.\u001b[0m\u001b[0mexperimental_get_tracing_count\u001b[0m\u001b[0;34m(\u001b[0m\u001b[0;34m)\u001b[0m\u001b[0;34m\u001b[0m\u001b[0;34m\u001b[0m\u001b[0m\n",
            "\u001b[0;32m/usr/local/lib/python3.10/dist-packages/tensorflow/python/eager/polymorphic_function/polymorphic_function.py\u001b[0m in \u001b[0;36m_call\u001b[0;34m(self, *args, **kwds)\u001b[0m\n\u001b[1;32m    866\u001b[0m       \u001b[0;31m# In this case we have created variables on the first call, so we run the\u001b[0m\u001b[0;34m\u001b[0m\u001b[0;34m\u001b[0m\u001b[0m\n\u001b[1;32m    867\u001b[0m       \u001b[0;31m# defunned version which is guaranteed to never create variables.\u001b[0m\u001b[0;34m\u001b[0m\u001b[0;34m\u001b[0m\u001b[0m\n\u001b[0;32m--> 868\u001b[0;31m       return tracing_compilation.call_function(\n\u001b[0m\u001b[1;32m    869\u001b[0m           \u001b[0margs\u001b[0m\u001b[0;34m,\u001b[0m \u001b[0mkwds\u001b[0m\u001b[0;34m,\u001b[0m \u001b[0mself\u001b[0m\u001b[0;34m.\u001b[0m\u001b[0m_no_variable_creation_config\u001b[0m\u001b[0;34m\u001b[0m\u001b[0;34m\u001b[0m\u001b[0m\n\u001b[1;32m    870\u001b[0m       )\n",
            "\u001b[0;32m/usr/local/lib/python3.10/dist-packages/tensorflow/python/eager/polymorphic_function/tracing_compilation.py\u001b[0m in \u001b[0;36mcall_function\u001b[0;34m(args, kwargs, tracing_options)\u001b[0m\n\u001b[1;32m    137\u001b[0m   \u001b[0mbound_args\u001b[0m \u001b[0;34m=\u001b[0m \u001b[0mfunction\u001b[0m\u001b[0;34m.\u001b[0m\u001b[0mfunction_type\u001b[0m\u001b[0;34m.\u001b[0m\u001b[0mbind\u001b[0m\u001b[0;34m(\u001b[0m\u001b[0;34m*\u001b[0m\u001b[0margs\u001b[0m\u001b[0;34m,\u001b[0m \u001b[0;34m**\u001b[0m\u001b[0mkwargs\u001b[0m\u001b[0;34m)\u001b[0m\u001b[0;34m\u001b[0m\u001b[0;34m\u001b[0m\u001b[0m\n\u001b[1;32m    138\u001b[0m   \u001b[0mflat_inputs\u001b[0m \u001b[0;34m=\u001b[0m \u001b[0mfunction\u001b[0m\u001b[0;34m.\u001b[0m\u001b[0mfunction_type\u001b[0m\u001b[0;34m.\u001b[0m\u001b[0munpack_inputs\u001b[0m\u001b[0;34m(\u001b[0m\u001b[0mbound_args\u001b[0m\u001b[0;34m)\u001b[0m\u001b[0;34m\u001b[0m\u001b[0;34m\u001b[0m\u001b[0m\n\u001b[0;32m--> 139\u001b[0;31m   return function._call_flat(  # pylint: disable=protected-access\n\u001b[0m\u001b[1;32m    140\u001b[0m       \u001b[0mflat_inputs\u001b[0m\u001b[0;34m,\u001b[0m \u001b[0mcaptured_inputs\u001b[0m\u001b[0;34m=\u001b[0m\u001b[0mfunction\u001b[0m\u001b[0;34m.\u001b[0m\u001b[0mcaptured_inputs\u001b[0m\u001b[0;34m\u001b[0m\u001b[0;34m\u001b[0m\u001b[0m\n\u001b[1;32m    141\u001b[0m   )\n",
            "\u001b[0;32m/usr/local/lib/python3.10/dist-packages/tensorflow/python/eager/polymorphic_function/concrete_function.py\u001b[0m in \u001b[0;36m_call_flat\u001b[0;34m(self, tensor_inputs, captured_inputs)\u001b[0m\n\u001b[1;32m   1321\u001b[0m         and executing_eagerly):\n\u001b[1;32m   1322\u001b[0m       \u001b[0;31m# No tape is watching; skip to running the function.\u001b[0m\u001b[0;34m\u001b[0m\u001b[0;34m\u001b[0m\u001b[0m\n\u001b[0;32m-> 1323\u001b[0;31m       \u001b[0;32mreturn\u001b[0m \u001b[0mself\u001b[0m\u001b[0;34m.\u001b[0m\u001b[0m_inference_function\u001b[0m\u001b[0;34m.\u001b[0m\u001b[0mcall_preflattened\u001b[0m\u001b[0;34m(\u001b[0m\u001b[0margs\u001b[0m\u001b[0;34m)\u001b[0m\u001b[0;34m\u001b[0m\u001b[0;34m\u001b[0m\u001b[0m\n\u001b[0m\u001b[1;32m   1324\u001b[0m     forward_backward = self._select_forward_and_backward_functions(\n\u001b[1;32m   1325\u001b[0m         \u001b[0margs\u001b[0m\u001b[0;34m,\u001b[0m\u001b[0;34m\u001b[0m\u001b[0;34m\u001b[0m\u001b[0m\n",
            "\u001b[0;32m/usr/local/lib/python3.10/dist-packages/tensorflow/python/eager/polymorphic_function/atomic_function.py\u001b[0m in \u001b[0;36mcall_preflattened\u001b[0;34m(self, args)\u001b[0m\n\u001b[1;32m    214\u001b[0m   \u001b[0;32mdef\u001b[0m \u001b[0mcall_preflattened\u001b[0m\u001b[0;34m(\u001b[0m\u001b[0mself\u001b[0m\u001b[0;34m,\u001b[0m \u001b[0margs\u001b[0m\u001b[0;34m:\u001b[0m \u001b[0mSequence\u001b[0m\u001b[0;34m[\u001b[0m\u001b[0mcore\u001b[0m\u001b[0;34m.\u001b[0m\u001b[0mTensor\u001b[0m\u001b[0;34m]\u001b[0m\u001b[0;34m)\u001b[0m \u001b[0;34m->\u001b[0m \u001b[0mAny\u001b[0m\u001b[0;34m:\u001b[0m\u001b[0;34m\u001b[0m\u001b[0;34m\u001b[0m\u001b[0m\n\u001b[1;32m    215\u001b[0m     \u001b[0;34m\"\"\"Calls with flattened tensor inputs and returns the structured output.\"\"\"\u001b[0m\u001b[0;34m\u001b[0m\u001b[0;34m\u001b[0m\u001b[0m\n\u001b[0;32m--> 216\u001b[0;31m     \u001b[0mflat_outputs\u001b[0m \u001b[0;34m=\u001b[0m \u001b[0mself\u001b[0m\u001b[0;34m.\u001b[0m\u001b[0mcall_flat\u001b[0m\u001b[0;34m(\u001b[0m\u001b[0;34m*\u001b[0m\u001b[0margs\u001b[0m\u001b[0;34m)\u001b[0m\u001b[0;34m\u001b[0m\u001b[0;34m\u001b[0m\u001b[0m\n\u001b[0m\u001b[1;32m    217\u001b[0m     \u001b[0;32mreturn\u001b[0m \u001b[0mself\u001b[0m\u001b[0;34m.\u001b[0m\u001b[0mfunction_type\u001b[0m\u001b[0;34m.\u001b[0m\u001b[0mpack_output\u001b[0m\u001b[0;34m(\u001b[0m\u001b[0mflat_outputs\u001b[0m\u001b[0;34m)\u001b[0m\u001b[0;34m\u001b[0m\u001b[0;34m\u001b[0m\u001b[0m\n\u001b[1;32m    218\u001b[0m \u001b[0;34m\u001b[0m\u001b[0m\n",
            "\u001b[0;32m/usr/local/lib/python3.10/dist-packages/tensorflow/python/eager/polymorphic_function/atomic_function.py\u001b[0m in \u001b[0;36mcall_flat\u001b[0;34m(self, *args)\u001b[0m\n\u001b[1;32m    249\u001b[0m         \u001b[0;32mwith\u001b[0m \u001b[0mrecord\u001b[0m\u001b[0;34m.\u001b[0m\u001b[0mstop_recording\u001b[0m\u001b[0;34m(\u001b[0m\u001b[0;34m)\u001b[0m\u001b[0;34m:\u001b[0m\u001b[0;34m\u001b[0m\u001b[0;34m\u001b[0m\u001b[0m\n\u001b[1;32m    250\u001b[0m           \u001b[0;32mif\u001b[0m \u001b[0mself\u001b[0m\u001b[0;34m.\u001b[0m\u001b[0m_bound_context\u001b[0m\u001b[0;34m.\u001b[0m\u001b[0mexecuting_eagerly\u001b[0m\u001b[0;34m(\u001b[0m\u001b[0;34m)\u001b[0m\u001b[0;34m:\u001b[0m\u001b[0;34m\u001b[0m\u001b[0;34m\u001b[0m\u001b[0m\n\u001b[0;32m--> 251\u001b[0;31m             outputs = self._bound_context.call_function(\n\u001b[0m\u001b[1;32m    252\u001b[0m                 \u001b[0mself\u001b[0m\u001b[0;34m.\u001b[0m\u001b[0mname\u001b[0m\u001b[0;34m,\u001b[0m\u001b[0;34m\u001b[0m\u001b[0;34m\u001b[0m\u001b[0m\n\u001b[1;32m    253\u001b[0m                 \u001b[0mlist\u001b[0m\u001b[0;34m(\u001b[0m\u001b[0margs\u001b[0m\u001b[0;34m)\u001b[0m\u001b[0;34m,\u001b[0m\u001b[0;34m\u001b[0m\u001b[0;34m\u001b[0m\u001b[0m\n",
            "\u001b[0;32m/usr/local/lib/python3.10/dist-packages/tensorflow/python/eager/context.py\u001b[0m in \u001b[0;36mcall_function\u001b[0;34m(self, name, tensor_inputs, num_outputs)\u001b[0m\n\u001b[1;32m   1484\u001b[0m     \u001b[0mcancellation_context\u001b[0m \u001b[0;34m=\u001b[0m \u001b[0mcancellation\u001b[0m\u001b[0;34m.\u001b[0m\u001b[0mcontext\u001b[0m\u001b[0;34m(\u001b[0m\u001b[0;34m)\u001b[0m\u001b[0;34m\u001b[0m\u001b[0;34m\u001b[0m\u001b[0m\n\u001b[1;32m   1485\u001b[0m     \u001b[0;32mif\u001b[0m \u001b[0mcancellation_context\u001b[0m \u001b[0;32mis\u001b[0m \u001b[0;32mNone\u001b[0m\u001b[0;34m:\u001b[0m\u001b[0;34m\u001b[0m\u001b[0;34m\u001b[0m\u001b[0m\n\u001b[0;32m-> 1486\u001b[0;31m       outputs = execute.execute(\n\u001b[0m\u001b[1;32m   1487\u001b[0m           \u001b[0mname\u001b[0m\u001b[0;34m.\u001b[0m\u001b[0mdecode\u001b[0m\u001b[0;34m(\u001b[0m\u001b[0;34m\"utf-8\"\u001b[0m\u001b[0;34m)\u001b[0m\u001b[0;34m,\u001b[0m\u001b[0;34m\u001b[0m\u001b[0;34m\u001b[0m\u001b[0m\n\u001b[1;32m   1488\u001b[0m           \u001b[0mnum_outputs\u001b[0m\u001b[0;34m=\u001b[0m\u001b[0mnum_outputs\u001b[0m\u001b[0;34m,\u001b[0m\u001b[0;34m\u001b[0m\u001b[0;34m\u001b[0m\u001b[0m\n",
            "\u001b[0;32m/usr/local/lib/python3.10/dist-packages/tensorflow/python/eager/execute.py\u001b[0m in \u001b[0;36mquick_execute\u001b[0;34m(op_name, num_outputs, inputs, attrs, ctx, name)\u001b[0m\n\u001b[1;32m     51\u001b[0m   \u001b[0;32mtry\u001b[0m\u001b[0;34m:\u001b[0m\u001b[0;34m\u001b[0m\u001b[0;34m\u001b[0m\u001b[0m\n\u001b[1;32m     52\u001b[0m     \u001b[0mctx\u001b[0m\u001b[0;34m.\u001b[0m\u001b[0mensure_initialized\u001b[0m\u001b[0;34m(\u001b[0m\u001b[0;34m)\u001b[0m\u001b[0;34m\u001b[0m\u001b[0;34m\u001b[0m\u001b[0m\n\u001b[0;32m---> 53\u001b[0;31m     tensors = pywrap_tfe.TFE_Py_Execute(ctx._handle, device_name, op_name,\n\u001b[0m\u001b[1;32m     54\u001b[0m                                         inputs, attrs, num_outputs)\n\u001b[1;32m     55\u001b[0m   \u001b[0;32mexcept\u001b[0m \u001b[0mcore\u001b[0m\u001b[0;34m.\u001b[0m\u001b[0m_NotOkStatusException\u001b[0m \u001b[0;32mas\u001b[0m \u001b[0me\u001b[0m\u001b[0;34m:\u001b[0m\u001b[0;34m\u001b[0m\u001b[0;34m\u001b[0m\u001b[0m\n",
            "\u001b[0;31mKeyboardInterrupt\u001b[0m: "
          ]
        }
      ],
      "source": [
        "# TRAIN #######################################################################\n",
        "\n",
        "if TRAINING:\n",
        "    with DISTRIBUTION_STRATEGY.scope():\n",
        "        # callbacks\n",
        "        cp_callback = tf.keras.callbacks.ModelCheckpoint(PATH_EXPORT, monitor='val_loss', verbose=1, save_best_only=True, save_weights_only=False, mode='auto', save_freq='epoch')\n",
        "        tb_callback = tf.keras.callbacks.TensorBoard(log_dir=PATH_LOG)\n",
        "        # fit model\n",
        "        TRAINING_HISTORY = MODEL.fit(\n",
        "            x=DATASET_TRAIN.batch(N_BATCH_DIM).prefetch(tf.data.AUTOTUNE),\n",
        "            batch_size=None,\n",
        "            epochs=N_EPOCHS,\n",
        "            validation_split=None,\n",
        "            validation_data=DATASET_TEST.batch(N_BATCH_DIM).prefetch(tf.data.AUTOTUNE),\n",
        "            validation_freq=list(range(1, N_EPOCHS + 1, 1)),\n",
        "            class_weight=CLASS_WEIGHTS,\n",
        "            verbose=1,\n",
        "            callbacks=[cp_callback, tb_callback])"
      ]
    },
    {
      "cell_type": "code",
      "execution_count": 86,
      "metadata": {
        "colab": {
          "base_uri": "https://localhost:8080/"
        },
        "id": "EuRwWdjpPQBM",
        "outputId": "b9db4709-68f0-410c-e627-bb732f3638be"
      },
      "outputs": [
        {
          "output_type": "stream",
          "name": "stdout",
          "text": [
            "Model: \"auto_encoder_4\"\n",
            "_________________________________________________________________\n",
            " Layer (type)                Output Shape              Param #   \n",
            "=================================================================\n",
            " encoder_4 (Encoder)         multiple                  854272    \n",
            "                                                                 \n",
            " decoder_4 (Decoder)         multiple                  856832    \n",
            "                                                                 \n",
            "=================================================================\n",
            "Total params: 1711104 (6.53 MB)\n",
            "Trainable params: 1711104 (6.53 MB)\n",
            "Non-trainable params: 0 (0.00 Byte)\n",
            "_________________________________________________________________\n"
          ]
        }
      ],
      "source": [
        "MODEL.summary()"
      ]
    },
    {
      "cell_type": "markdown",
      "metadata": {
        "id": "NMqMBhAidTZ9"
      },
      "source": [
        "## Export"
      ]
    },
    {
      "cell_type": "code",
      "execution_count": 107,
      "metadata": {
        "id": "00maJbmdeeBi"
      },
      "outputs": [],
      "source": [
        "# SAMPLES #####################################################################\n",
        "\n",
        "IO = {}\n",
        "TOKENS = {__i: {} for __i in N_TOKEN_SIZES} # length in bytes\n",
        "EMBEDDINGS = {__i: {} for __i in N_TOKEN_SIZES} # same\n",
        "\n",
        "for __lang, __dataset in MLQA_TEST.items():\n",
        "    # compute predictions\n",
        "    __batch = iter(__dataset.batch(N_BATCH_DIM)) # iterate over batches of samples\n",
        "    __inputs, __targets = next(__batch)\n",
        "    __outputs = MODEL(__inputs)\n",
        "    # sample predictions (targets, preditions)\n",
        "    IO[__lang] = (__targets, __outputs)"
      ]
    },
    {
      "cell_type": "code",
      "execution_count": 108,
      "metadata": {
        "id": "3SIXwdQb1BPA"
      },
      "outputs": [],
      "source": [
        "# TOKENS ######################################################################\n",
        "\n",
        "# unique (G ^ i)-tokens\n",
        "for __lang, __sample in IO.items():\n",
        "    for __size in TOKENS:\n",
        "        TOKENS[__size][__lang] = tokun.pipeline.chunk(seq=tokun.pipeline.postprocess(__sample[0]), size=__size // 4, repeats=False)\n",
        "\n",
        "# unique tokens, for all languages\n",
        "for __size in TOKENS:\n",
        "    TOKENS[__size]['all'] = list(set(__t for _, __s in TOKENS[__size].items() for __t in __s))"
      ]
    },
    {
      "cell_type": "code",
      "execution_count": 109,
      "metadata": {
        "id": "tuIEmJcDVk71"
      },
      "outputs": [],
      "source": [
        "# EMBEDDINGS ##################################################################\n",
        "\n",
        "for __depth, __size in enumerate(N_TOKEN_SIZES):\n",
        "    for __lang, __tokens in TOKENS[__size].items():\n",
        "        # re-encode without token repeats\n",
        "        __input = tokun.pipeline.preprocess(text=''.join(__tokens), token_size=math.prod(N_TOKEN_DIM), expand=N_SEQUENCE_AXIS * [1])\n",
        "        # UTF-32 embedding\n",
        "        __embedding = MODEL._encoder._encoder.layers[0](__input)\n",
        "        # iterative CNN tokenization\n",
        "        for __i in range(__depth + 1):\n",
        "            __embedding = MODEL._encoder._encoder.layers[__i + 1](__embedding)\n",
        "        # mixed precision: bfloat16 => float32\n",
        "        __embedding = tf.cast(__embedding, dtype=tf.dtypes.float32)\n",
        "        # remove the (tokenized) padding\n",
        "        EMBEDDINGS[__size][__lang] = tf.squeeze(__embedding)[:len(__tokens)] # TODO squeeze?"
      ]
    },
    {
      "cell_type": "code",
      "execution_count": 111,
      "metadata": {
        "id": "9GIVWLr2Rblq"
      },
      "outputs": [],
      "source": [
        "# NEIGHBORHOODS ###############################################################\n",
        "\n",
        "__unit = N_TOKEN_SIZES[-1]\n",
        "__count = 256\n",
        "\n",
        "TOKENS['local'] = {'all': []}\n",
        "EMBEDDINGS['local'] = {'all': []}\n",
        "\n",
        "for __lang, __tokens in TOKENS[__unit].items():\n",
        "    # stats on the embeddings for the current language\n",
        "    __std = tf.math.reduce_std(EMBEDDINGS[__unit][__lang], axis=0, keepdims=True)\n",
        "    __radius = 2. ** (1 - math.log(__unit, 4)) * tf.reduce_mean(__std).numpy()\n",
        "    # choose a single token\n",
        "    __t = tokun.pipeline.preprocess(text=random.choice(__tokens), token_size=math.prod(N_TOKEN_DIM), expand=N_SEQUENCE_AXIS * [1])\n",
        "    # encode it\n",
        "    __e = tf.cast(MODEL._encoder(__t), dtype=tf.dtypes.float32)\n",
        "    # add noise to generate random neighbors\n",
        "    __n = tokun.evaluation.neighbors(point=__e, radius=__radius, count=__count)\n",
        "    # decode the noisy embeddings\n",
        "    __d = MODEL._decoder(__n)\n",
        "    # postprocess\n",
        "    __m = tokun.pipeline.chunk(seq=tokun.pipeline.postprocess(__d), size=__unit // 4, repeats=True)\n",
        "    # save\n",
        "    TOKENS['local']['all'].extend(__m)\n",
        "    EMBEDDINGS['local']['all'].append(tf.squeeze(__n))\n",
        "\n",
        "# merge all the embedding tensors\n",
        "EMBEDDINGS['local']['all'] = tf.concat(values=EMBEDDINGS['local']['all'], axis=0)"
      ]
    },
    {
      "cell_type": "code",
      "execution_count": null,
      "metadata": {
        "id": "fzVnrexqVo5K"
      },
      "outputs": [],
      "source": [
        "# SAVE ########################################################################\n",
        "\n",
        "for __size in TOKENS:\n",
        "    mlable.data.write(data=[__c + ' ' + mlable.data.label(__c) for __c in TOKENS[__size]['all']][:8192], path='./metadata.' + str(__size) + '.label.tsv', tsv=False)\n",
        "    mlable.data.write(data=TOKENS[__size]['all'][:8192], path='./metadata.' + str(__size) + '.tsv', tsv=False)\n",
        "    mlable.data.write(data=EMBEDDINGS[__size]['all'].numpy()[:8192], path='./embeddings.' + str(__size) + '.tsv', tsv=True)"
      ]
    },
    {
      "cell_type": "markdown",
      "metadata": {
        "id": "FHtROW1K1R7c"
      },
      "source": [
        "## Dataviz"
      ]
    },
    {
      "cell_type": "code",
      "execution_count": 90,
      "metadata": {
        "id": "EiRVgG-oSfb7"
      },
      "outputs": [],
      "source": [
        "# DATA ########################################################################\n",
        "\n",
        "SAMPLES = [\n",
        "    \"\"\"위키백과, 우리 모두의 백과사전.\\nt-분포 확률적 임베딩(t-SNE)은 데이터의 차원 축소에 사용되는 기계 학습 알고리즘 중 하나로, 2002년 샘 로이스Sam Rowise와 제프리 힌튼에 의해 개발되었다.[1] t-SNE는 비선형 차원 축소 기법으로, 고차원 데이터를 특히 2, 3차원 등으로 줄여 가시화하는데에 유용하게 사용된다. 구체적으로 t-SNE는 비슷한 데이터는 근접한 2, 3차원의 지점으로, 다른 데이터는 멀리 떨어진 지점으로 맵핑한다.\"\"\",\n",
        "    \"\"\"class Encoder(tf.keras.models.Model):\\n    def __init__(self, depth: int, token_dim: int, encoding_dim: int, embedding_dim: int, batch_dim: int=None, attention: bool=False, **kwargs) -> None:\\n        super(Encoder, self).__init__(**kwargs)\\n        self._encoder = tf.keras.Sequential([\\n            tf.keras.Input(shape=(encoding_dim,), batch_size=batch_dim, name='input'), # (B * G ^ D, U)\\n            tf.keras.layers.Dense(units=embedding_dim, activation=None, use_bias=False, kernel_initializer='glorot_uniform', bias_initializer=None, name='embed-1'),] # (B * G ^ D, U) => (B * G ^ D, E)\\n            + [tokun.layers.TokenizeBlock(left_axis=-2, right_axis=-1, token_dim=token_dim, attention=attention, name='tokenize' + (__i + 1) * '-4') for __i in range(depth)]) # (B * G ^ i, E) => (B * G ^ (i-1), E)\\n\\n    def call(self, x: tf.Tensor) -> tf.Tensor:\\n        return self._encoder(x)\\n\"\"\",\n",
        "    \"\"\"class AutoEncoder(tf.keras.models.Model):\\n    def __init__(self, token_dim: int, encoding_dim: int, embedding_dim: int, batch_dim: int=None, **kwargs) -> None:\\n        super(AutoEncoder, self).__init__(**kwargs)\\n        self._encoder = Encoder(token_dim=token_dim, encoding_dim=encoding_dim, embedding_dim=embedding_dim, batch_dim=batch_dim)\\n        self._decoder = Decoder(token_dim=token_dim, encoding_dim=encoding_dim, embedding_dim=embedding_dim, batch_dim=batch_dim)\\n\\n    def call(self, x: tf.Tensor) -> tf.Tensor:\\n        return self._decoder(self._encoder(x))\"\"\",\n",
        "    \"\"\"class AutoEncoder(tf.keras.models.Model):\\n  def __init__(self, token_dim: int, encoding_dim: int, embedding_dim: int, batch_dim: int=None, **kwargs) -> None:\\n    super(AutoEncoder, self).__init__(**kwargs)\\n    self._encoder = Encoder(token_dim=token_dim, encoding_dim=encoding_dim, embedding_dim=embedding_dim, batch_dim=batch_dim)\\n    self._decoder = Decoder(token_dim=token_dim, encoding_dim=encoding_dim, embedding_dim=embedding_dim, batch_dim=batch_dim)\\n\\n  def call(self, x: tf.Tensor) -> tf.Tensor:\\n    return self._decoder(self._encoder(x))\"\"\"]"
      ]
    },
    {
      "cell_type": "code",
      "execution_count": 94,
      "metadata": {
        "id": "R-iGpXb15m83"
      },
      "outputs": [],
      "source": [
        "# COMPUTE ######################################################################\n",
        "\n",
        "__i = 0\n",
        "__x, __e, __p, __y = tokun.pipeline.sample(model=MODEL, text=SAMPLES[__i], token_size=math.prod(N_TOKEN_DIM), expand=N_SEQUENCE_AXIS * [1])"
      ]
    },
    {
      "cell_type": "code",
      "execution_count": 95,
      "metadata": {
        "id": "wKdaYXR5SyY9",
        "colab": {
          "base_uri": "https://localhost:8080/"
        },
        "outputId": "5788a939-08f6-44ec-a585-14c5d04a229f"
      },
      "outputs": [
        {
          "output_type": "stream",
          "name": "stdout",
          "text": [
            "# INPUT ################################################################\n",
            "\n",
            "위키백과, 우리 모두의 백과사전.\n",
            "t-분포 확률적 임베딩(t-SNE)은 데이터의 차원 축소에 사용되는 기계 학습 알고리즘 중 하나로, 2002년 샘 로이스Sam Rowise와 제프리 힌튼에 의해 개발되었다.[1] t-SNE는 비선형 차원 축소 기법으로, 고차원 데이터를 특히 2, 3차원 등으로 줄여 가시화하는데에 유용하게 사용된다. 구체적으로 t-SNE는 비슷한 데이터는 근접한 2, 3차원의 지점으로, 다른 데이터는 멀리 떨어진 지점으로 맵핑한다.\n",
            "\n",
            "# OUTPUT ###############################################################\n",
            "\n",
            "위키백과, 우륬 모두잆 백과사전.\n",
            "\u0007-분포 확률적 임볌딩(\u0007-mNE)은 데이터잆 쳝원 축쇿에 사왩되는 기계 학싹 알고리즘 중 픞나로, 2002년 삚 로이스Sam Ro^se와 제프리 힌튁에 잆해 개발되었다.[1] t-mNE는 비선형 차원 축소 기법으로, 고차원 𻌓이터를 특히 2, )차원 등으로 줄여 겄시화픞는덣에 유왩픞게 사용된다. 구체적으로 t-ýN¬는 비슷한 덣윇터는 근졈한 2, q차원잆 지점으로, 다른 댓이터는 멀리 떨어진 지점으로 맵핌한다.\u0003Æ\u0003Æ\n",
            "\n",
            "# SCORE ################################################################\n",
            "\n",
            "0.8650793650793651\n"
          ]
        }
      ],
      "source": [
        "print('# INPUT ################################################################\\n\\n' + SAMPLES[__i])\n",
        "print('\\n# OUTPUT ###############################################################\\n\\n' + __y)\n",
        "print('\\n# SCORE ################################################################\\n\\n' + str(tokun.evaluation.compare(SAMPLES[__i], __y)))"
      ]
    },
    {
      "cell_type": "code",
      "execution_count": 96,
      "metadata": {
        "id": "lK2XC4zLNco4",
        "colab": {
          "base_uri": "https://localhost:8080/"
        },
        "outputId": "de2d330f-dd11-44d8-f62b-51f85ce3c8af"
      },
      "outputs": [
        {
          "output_type": "stream",
          "name": "stdout",
          "text": [
            "Trường hợp đầu tiên của nhiễm M. marinum kết hợp với một bể cá ('u hạt cá bể')  đã được báo cáo vào năm 1962 bởi Swift và Cohen.  M. marinum nhiễm trùng có thể là một mối nguy hiểm nghề nghiệp cho một số nghề nghiệp như công nhân cửa hàng vật nuôi, nhưng hFifield bị đột biến quay lại tàu Promethus và giết một số người trong đoàn trước khi bị giết chết. Thuyền trưởng của tàu là Janek cho rằng khối kiến trúc này là căn cứ quân sự của những Engineers không may bị diệt vong và sơ tán bởi vũ khí sinh học là chấtNhóm nhị diện (nêu ở trên) là nhóm hữu hạn có bậc 8. Bậc của r1 là 4, hay chính là bậc của nhóm con R mà nó sinh ra(xem ở trên). Bậc của các phần tử phản xạ fvv.v bằng 2. Cả hai đều là ước của 8 đúng như định lý Lagrange tiên đoán. Nhóm Fp× ở trên có bậc pBulgaria Air được thành lập vào tháng 11 năm 2002 do Quyết định của Bộ trưởng Bộ Giao thông Vận tải Bulgaria để kế thừa hãng Balkan Bulgarian Airlines bị phá sản. Bulgaria Air bắt đầu hoạt động từ ngày 4.12.2002. Tên và logo của hãng được chọn từ 1 cuộc thThiếu nhà ở công cộng tốt, vệ sinh kém, và tỷ lệ thất nghiệp cao dẫn đến các vấn đề xã hội từ tội phạm đến y tế. Sự gia tăng của các khu định cư lấn chiếm dẫn đến những mối nguy hiểm về tính an toàn và dẫn đến hỏa hoạn Bukit Ho Swee trong năm 1961 khiến chgiây. Nó được nêu ra từ năm 1980 với mục đích giải thích một số kết quả quan sát không là hệ quả của mô hình vũ trụ học cổ điển, như sự đồng nhất gần như hoàn hảo của bức xạ nền vũ trụ. Những khảo sát gần đây về bức xạ nền vi sóng vũ trụ cho kết quả về chứCó 12.961 hộ, trong đó 40,20% có trẻ em dưới 18 tuổi sống chung với họ, 58,00% là các cặp vợ chồng sống với nhau, 15,20% có chủ hộ là nữ không có mặt chồng, và 22,10% là không lập gia đình. 19,70% của tất cả các hộ gia đình đã được tạo thành từ các cá nhânJQuery thư viện JavaScript đa trình duyệt được thiết kế để đơn giản hóa lập trình phía máy người dùng của HTML , phát hành vào tháng 1 năm 2006 tại BarCamp NYC bởi John Resig. Được sử dụng bởi hơn 52% trong 10.000 truy cập nhiều nhất các trang web, jQuery Jolie bắt đầu có ý thức cá nhân về các cuộc khủng hoảng nhân đạo trên toàn thế giới trong quá trình quay bộ phim Tomb Raider tại Campuchia. Sau đó cô chuyển chú ý sang Cao ủy Liên Hiệp Quốc về người tị nạn (UNHCR) để biết thêm thông tin về những điểm trongNgày 6 tháng 7 năm 2005, Jolie nhận nuôi một bé gái 6 tháng tuổi tên là Zahara Marley, từ một trại mồ côi tại Addis Ababa, Ethiopia. Cô bé sinh ngày 8 tháng 1 năm 2005 với tên Yemsrach tại Awasa. Jolie ban đầu nghĩ Zahara là trẻ mồ côi mắc bệnh AIDS, dựa tNhiều nền văn minh thời kì tiền Colombo đã đạt những thành tựu nổi bật, thể hiện qua các khu định cư lâu dài, các thành phố, đền đài, nền nông nghiệp,... Một số trong số đó đã phai tàn từ lâu trước cả khi dân châu Âu và châu Phi sang châu Mỹ định cư (khoảnKamen sinh ngày 27.8.1913 tại Toronto, Canada, là con của một gia đình người Nga nhập cư. Ông lớn lên ở Chicago, Hoa Kỳ. Ông học ở Đại học Chicago, đậu bằng cử nhân hóa học năm 1933 và bằng tiến sĩ hóa lý năm 1936. Sau đó ông xin làm nhà nghiên cứu hóa họcTrong quãng thời gian John hoạt động trên Tây Bắc Thái Bình Dương, Trung tâm Cảnh báo Bão Liên hợp (JTWC) đã đặc biệt gặp khó khăn trong việc dự báo cũng như ước tính cường độ cơn bão. John đã suy yếu đáng kể sau khi đi vào khu vực Tây Bắc Thái Bình Dương,Hầu hết các con sư tử hiện sống ở Đông và Nam Phi; số lượng của chúng đang giảm nhanh chóng và giảm khoảng 30%-50% mỗi 20 năm vào cuối thế kỷ 20. Chúng được liệt kê là loài sắp nguy cấp trong Sách đỏ IUCN. Vào năm 1975, người ta ước tính rằng từ những năm Sinh ra ở Dudley, ông gia nhập câu lạc bộ Manchester United khi còn thiếu niên và ông trở thành cầu thủ trẻ tuổi nhất chơi ở giải vô địch bóng đá Anh và cũng là cầu thủ trẻ tuổi nhất chơi cho đội tuyển quốc gia kể từ sau chiến tranh thế giới thứ 2. Duncan Sử dụng CS-4 có thể đạt được tốc độ người dùng là 20,0 kbit/s trên một khoản thời gian. Tuy nhiên, sử dụng bộ mã này độ bao phủ di động chỉ bằng 25% bình thường. CS-1 có thể đạt được tốc độ người dùng chỉ 8,0 kbit/s trên một khoản thời gian, nhưng có 98% đHarvard được thành lập vào năm 1636 theo sau cuộc bỏ phiếu của Cơ quan Lập pháp vùng Thuộc địa Vịnh Massachusetts. Ban đầu được gọi là New College hay \"trường đại học ở New Towne\". Năm 1638, trường đại học này trở thành nơi có chiếc máy in đầu tiên được biCuối năm đó, Tuyên cáo Hoàng gia đặt ra một giới hạn về sự mở rộng về phía tây các thuộc địa ở châu Mỹ. Tuyên ngôn nhấn mạnh việc chuyển hướng mở rộng thuộc địa lên phía bắc (tới Nova Scotia) và xuống phía nam (Florida). Tuyên ngôn không nói nhiều đến đa sTrong lịch sử, Reims được xem như một câu lạc bộ huyền thoại trong vòng tròn bóng đá Pháp, không chỉ vì những thành tích trong nước và châu Âu, mà còn đóng góp cho đội tuyển bóng đá quốc gia Pháp suốt những năm 1940 và 1950. Reims có đóng góp to lớn cho thKyrgyzstan là một trong hai trong số năm nước cộng hòa thuộc Liên Xô cũ ở Trung Á còn giữ tiếng Nga là một ngôn ngữ chính thức (tiếng Kazakh là ngôn ngữ kia). Nước này đã thêm tiếng Kyrgyz để trở thành quốc gia có hai ngôn ngữ chính thức vào tháng 9 năm 19Khí hậu khác biệt theo từng vùng. Thung lũng Fergana phía tây nam thuộc kiểu khí hậu cận nhiệt đới và rất nóng vào mùa hè, với nhiệt độ đạt tới 40 °C (104 °F.) Các vùng đồi phía bắc thuộc khí hậu ôn hoà và Tian Shan từ kiểu khí hậu lục địa khô tới khí hậu Một trong những cảnh gây sốc nhất của phim là cảnh nhà sản xuất phim ngủ dậy với một chiếc đầu ngựa đầy máu. Theo Coppola, đây là chiếc đầu ngựa thật và nó được chuyển tới bởi một công ty thức ăn cho chó chứ không có con ngựa nào được giết chỉ để phục vụ cThu nhập trung bình cho một hộ gia đình trong thành phố là $ 46.795, và thu nhập trung bình cho một gia đình là $ 60.424. Phái nam có thu nhập trung bình $ 41.192 so với 29.454 $ cho phái nữ. Thu nhập bình quân đầu người của thành phố là 23.562 $. Khoảng 4P-38G được bắt đầu sản xuất từ đầu năm 1943, gắn động cơ mạnh hơn Allison 1.400 mã lực (1.040 kW) mỗi chiếc và trang bị radio tốt hơn. P-38G lại được tiếp nối bởi P-38H, với động cơ nâng cấp Allisons 1.425 mã lực (1.060 kW), pháo 20 mm cải tiến và mang đượNh­ư những ma cà rồng khác trong Chạng vạng, Edward được miêu tả theo lời Bella là sở hữu một vẻ đẹp không tưởng. Nhiều khi cô so sánh chàng với chàng trai đẹp nhất Adonis trong thần thoại Hy Lạp xưa. Làn da trắng, lạnh băng như cẩm thạch và lấp lánh dưới Ở thời điểm năm 2006 đa số trong 552,438 người dân Quần đảo Solomon là người Melanesia (94.5%). Người Polynesia (3%) và Micronesia (1.2%) là hai nhóm sắc tộc đáng chú ý khác. Có vài nghìn người là người Trung Quốc. 74 ngôn ngữ được sử dụng trên Quần đảo SoCâu chuyện xoay quanh nhân vật Nagate Tanikaze, người đã sống dưới tầng ngầm của Sidonia kể từ khi sinh ra và được nuôi dạy bởi ông của anh. Chưa bao giờ gặp bất cứ ai khác, anh tự rèn luyện trong một bộ giả lập đào tạo phi công cũ mỗi ngày, cuối cùng làm Ngày 2 tháng 5 năm 2014, hai trận lở đất phát sinh tại huyện Argo, tỉnh Badakhshan, Afghanistan. Tổng số người thiệt mạng dao động từ 350 đến 2.700. Khoảng  300 ngôi nhà bị chôn vùi và trên 14.000 người chịu tác động. Lực lượng cứu hộ đang phản ứng trước tHệ thống tư pháp độc lập với các nhánh khác của chính phủ, và được tạo thành từ một hệ thống phân cấp của các tòa án thông qua Tòa án Tối cao của Giám đốc thẩm và Tư pháp, là tòa án tối cao của România. Ngoài ra còn có các tòa án kháng cáo, tòa án quận và Một tháng sau, ông được rửa tội một lần nữa tại Norfolk House, cũng bởi Secker. Những người đỡ đầu của ông bao gồm Vua của Thụy Điển (thông qua đại diện là Lord Baltimore), cậu của ông, Công tước Saxe-Gotha (thông qua đại diện là Lord Carnarvon) và bà cô HARN thông tin (mRNA) là RNA mang thông tin từ DNA đến ribosome, các vị trí dịch mã để sinh tổng hợp protein trong tế bào. Trình tự mã hóa của mRNA xác định lên trình tự axit amin trong protein được tổng hợp ra. Tuy nhiên, nhiều RNA không có vai trò mã hóa Trong vài cuộc thảo luận để hoàn thiện album, nhà sản xuất Chris Thomas được lựa chọn để có \"một đôi tai tươi mới\". Thomas vốn là một người trong nghề nhạc hơn là một kỹ thuật viên âm thanh. Ông từng cộng tác với nhà sản xuất của The Beatles, George MartinTrong quãng thời gian John hoạt động trên Tây Bắc Thái Bình Dương, Trung tâm Cảnh báo Bão Liên hợp (JTWC) đã đặc biệt gặp khó khăn trong việc dự báo cũng như ước tính cường độ cơn bão. John đã suy yếu đáng kể sau khi đi vào khu vực Tây Bắc Thái Bình Dương,Danh tiếng của Jolie bắt đầu thay đổi một cách tích cực sau khi cô trở thành Đại sứ thiện chí của Cao ủy Liên Hiệp Quốc về người tị nạn ở tuổi 26, khẳng định \"Trong những năm đầu tiên của tuổi 20 tôi đã vật lộn với chính mình. Giờ đây tôi mang sự nổi loạn Sư tử châu Á là một mô típ phổ biến trong nghệ thuật Trung Quốc; nó được sử dụng lần đầu tiên trong nghệ thuật vào cuối mùa xuân và mùa thu (thế kỷ thứ năm hoặc thứ sáu trước công nguyên) và trở nên phổ biến hơn vào thời nhà Hán (206 trước Công nguyên - năTrong tài chính, mô hình định giá tài sản vốn (CAPM) được sử dụng để xác định tỷ suất sinh lợi yêu cầu của một tài sản khi tài sản đó được thêm vào một danh mục đã được đa dạng hóa tốt, với rủi ro không thể đa dạng hóa của tài sản đó được cho trước. Mô hìnNhững năm này, Viktoria đã dành một nhiều thời gian để vẽ tranh và đến thăm khu thuộc địa của Kronberg, nơi bà thường xuyên gặp gỡ họa sĩ Norbert Schrödl. Trong mấy năm cuối đời bà có thói quen đi bộ vào buổi sáng và dành nhiều giờ để viết thư hoặc đọc sácFifield bị đột biến quay lại tàu Promethus và giết một số người trong đoàn trước khi bị giết chết. Thuyền trưởng của tàu là Janek cho rằng khối kiến trúc này là căn cứ quân sự của những Engineers không may bị diệt vong và sơ tán bởi vũ khí sinh học là chấtNgày 2 tháng 2 năm 1945, con trai của Milton và Rose, David Director Friedman, ra đời.\u001dCon trai của Friedman ra đời năm nào? \u001d1945,\u0000\u0000\u0000\u0000\u0000\u0000\u0000\u0000\u0000\u0000\u0000\u0000\u0000\u0000\u0000\u0000\u0000\u0000\u0000\u0000\u0000\u0000\u0000\u0000\u0000\u0000\u0000\u0000\u0000\u0000\u0000\u0000\u0000\u0000\u0000\u0000\u0000\u0000\u0000\u0000\u0000\u0000\u0000\u0000\u0000\u0000\u0000\u0000\u0000\u0000\u0000\u0000\u0000\u0000\u0000\u0000\u0000\u0000\u0000\u0000\u0000\u0000\u0000\u0000\u0000\u0000\u0000\u0000\u0000\u0000\u0000\u0000\u0000\u0000\u0000\u0000\u0000\u0000\u0000\u0000\u0000\u0000\u0000\u0000\u0000\u0000\u0000\u0000\u0000\u0000\u0000\u0000\u0000\u0000\u0000\u0000\u0000\u0000\u0000\u0000\u0000\u0000\u0000\u0000\u0000\u0000\u0000\u0000\u0000\u0000\u0000\u0000\u0000\u0000\u0000\u0000\u0000\u0000\u0000\u0000\u0000\u0000\u0000\u0000\u0000Trong giai đoạn chuẩn bị hoàn thành bằng thạc sĩ tại South Dakota State University năm 1986, tiến sĩ Mardon nhận được lời mời làm thành viên 1986-87  đội viễn chinh châu Nam Cực cho NASA và National Science Foundation. 170 dặm từ trạm Nam Cực khi mà đội củGL(n, R) chứa mọi ma trận khả nghịch n x n với các phần tử thực. Các nhóm con của nó được coi như là nhóm ma trận hay nhóm tuyến tính. Ví dụ về nhóm nhị diện đề cập ở trên có thể coi như là nhóm ma trận (có bậc rất nhỏ). Một nhóm ma trận quan trọng khác làWolf 359 là một ngôi sao lùn đỏ nằm trong chòm sao Leo, gần Hoàng đạo. Ở khoảng cách khoảng 7,9 năm ánh sáng từ Trái Đất, nó có cấp sao biểu kiến 13,54 và chỉ có thể nhìn thấy bằng kính thiên văn lớn. Wolf 359 là một trong những ngôi sao gần Mặt Trời nhất;Từ thế kỷ 16 đến thế kỷ 19, quần đảo Mã Lai dần bị các cường quốc thực dân châu Âu chiếm giữ, bắt đầu khi người Bồ Đào Nha đến Malacca vào năm 1509. Trong thế kỷ 17, người Hà Lan thách thức ưu thế ban đầu của người Bồ Đào Nha, Hà Lan kiểm soát hầu hết các Sự kết hợp của một chu kỳ thay thế kính mắt và tăng cường cắt gió gây ra suy yếu bắt đầu vào ngày 31 tháng 8. Vào lúc 03:00 UTC ngày 31 tháng 8, Norman quay về phía tây-tây nam do một rìa áp cao sâu xuống ở phía bắc.Norman rơi xuống trạng thái hạng 2 trongFriedman là người khởi xướng trường phái trọng tiền trong kinh tế. Ông kiên định với luận điểm rằng có một mối liên hệ chặt chẽ giữa lạm phát và lượng cung tiền, qua đó lạm phát có thể được kiềm chế với những điều chỉnh tỷ lệ tăng cơ sở tiền tệ đúng đắn. ÔMột giai đoạn hòa hoãn ngắn với Pháp cho phép Pitt hướng sự chú ý tới Ireland, nơi đã chứng kiến một cuộc nổi dậy và một âm mưu tấn công của người Pháp vào năm 1798. Năm 1800, Quốc hội Đại Anh và Icreland thông qua Đạo luật liên minh có hiệu lực từ 1 thángBays sống tại Los Angeles cùng vợ và hai đứa con gái. Bays tốt nghiệp ở trường đại học Wesleyan vào năm 1997. Hai bé gái của anh đều xuất hiện trong các sản phẩm truyền hình của anh. Một bé xuất hiện ở tập cuối phim Trilogy Time, bé còn lại có tham gia cảnNghị viện của Charles ban hành bộ luật gọi là Điều luật Clarendon, được lập ra nhằm chống đỡ cho địa vị của Giáo hội Anh vừa được tái lập. Charles chiều theo Clarenndon dù rằng ông hướng về tư tưởng khoan dung tôn giáo. Vấn đề đối ngoại trong những năm đầuCác album đầu tiên được bán tại Mỹ của Pink Floyd đều được phát hành bởi nhà đại diện của họ tại đây, Capitol Records. Giám đốc mới của hãng, Bhaskar Menon, quyết định cần những đột phá để cải thiện tình hình sau thất bại của album trước đó, Meddle. Tuy nhTheo điều tra dân số 2 năm 2000, quận đã có dân số 39.326 người, 12.961 hộ gia đình, và 10.096 gia đình sống trong quận. Mật độ dân số là 46 người cho mỗi dặm vuông (18/km ²). Có 14.819 đơn vị nhà ở với mật độ trung bình là 17 cho mỗi dặm vuông (7/km ²). CSinh tại quận Colombia, Washington, Grover Furr tốt nghiệp Đại học McGill University ở Montreal, Quebec, Cananda với học vị cử nhân chuyên ngành tiếng Anh. Sau ông học và nhận được học vị tiến sĩ thi pháp học (comparative literature) tại trường đại học PriBiển Laptev được đặt tên theo các nhà thám hiểm người Nga là D. Ya. Laptev và Kh. P Laptev. Trước đó biển Laptev được gọi là biển Nordenskjold (tiếng Nga chuyển tự: more Nordenshel'd), lấy theo tên nhà thám hiểm Adolf Erik Nordenskiöld.\u001dAdolf Erik NordenskNhiều hệ thống số, như các số nguyên và số hữu tỉ thể hiện bản chất cấu trúc nhóm một cách tự nhiên. Trong một số trường hợp, như đối với số hữu tỉ, cả phép cộng và phép nhân đều làm xuất hiện cấu trúc nhóm. Những hệ thống số này là tiền tổ của những cấu tSundar lớn lên trong một căn hộ hai phòng ở 46th Street, 7th Avenue, tại Ashok Nagar, Madras.Pichai hoàn thành khóa X tại Trường Trung học Jawahar Vidyalaya, Chennai và hoàn thành khóa XII tại Vana Vani school ở IIT campus, Chennai. Pichai nhận bằng IndianJohn đã tác động đến cả quần đảo Hawaii và đảo Johnston, tuy nhiên không đáng kể. Khi cơn bão di chuyển trên vùng biển cách Hawaii 345 dặm (550 km) về phía Nam, nó đã làm tăng cường gió mậu dịch và gây sóng cao dọc đường bờ biển Đông Nam, Nam; và Tây khi nJQuery thư viện JavaScript đa trình duyệt được thiết kế để đơn giản hóa lập trình phía máy người dùng của HTML , phát hành vào tháng 1 năm 2006 tại BarCamp NYC bởi John Resig. Được sử dụng bởi hơn 52% trong 10.000 truy cập nhiều nhất các trang web, jQuery Bà sinh tại Uppsala, là con trưởng trong một gia đình khá giả. Bà học ngành tâm lý học và xã hội học tại Đại học Uppsala. Bà được công chúng biết đến từ thập niên 1930, và được coi là người có công lớn trong việc thành lập nhà nước phúc lợi Thụy Điển.\u001dMyrdVì lý do lịch sử, các phiên bản của Windows mà không hỗ trợ NTFS đều giữ thời gian bên trong như múi giờ địa phương, và do đó mọi hệ thống tập tin khác ngoài NTFS được hỗ trở bởi các phiên bản hiện nay của Windows cũng làm vậy. Tuy nhiên, Windows NT và cácSau khi các cuộc đấu súng, nó được tiết lộ rằng TJ đã lẻn vào phía sau của van của kẻ bắt cóc và theo họ về nhà của họ. Ông lấy tên đường phố và cho phép Matt biết. Trong ngôi nhà của họ, Albert bóp cổ Ray với một Garrote trong tầng hầm. Ông đi lên lầu để Mặc dù không có hợp chất hóa học nào của argon hiện đã được công nhận, nhưng argon có thể tạo ra các mắt lưới với nước khi các nguyên tử của nó bị mắc kẹt trong lưới các phân tử nước. Các tính toán lý thuyết trên các máy tính đã chỉ ra vài hợp chất của argAnne mang thai lần cuối cùng vào năm 1699, vào ngày 25 tháng 1 năm 1700, bà hạ sinh ra một đứa con trai đã chết lưu trong bụng mẹ. Bà đã từng mang thai ít nhất mười bảy lần qua 16 năm, và đã bị sẩy thai hoặc sinh con chết non ít nhất 12 lần. Trong số năm nTìm kiếm tài liệu và trình bày kết quả nghiên cứu.Các thí nghiệm về nghiên cứu hành vi con người có mối liên quan đặc biệt. Các nghiên cứu nổi tiếng của Hawthorne, nghiên cứu về những thay đổi trong môi trường làm việc tại nhà máy Hawthorne của Công ty WesVăn hóa Trung Quốc là một trong những nền văn hóa lâu đời nhất và phức tạp nhất trên thế giới. Các vùng mà văn hóa Trung Quốc thống trị trải dài trên một khu vực địa lý rộng lớn ở miền Đông châu Á với các phong tục và truyền thống rất nhiều điểm khác nhau Những phát hiện mà Cassini mang lại đã khiến Enceladus trở thành đích ngắm cho những dự án trong tương lai. Năm 2007, NASA đưa ra ý tưởng về một tàu vũ trụ quay quanh Enceladus và thực hiện xem xét kĩ lưỡng hơn cột bụi bốc lên từ cực nam của nó. Tuy nhiên Shawn Peter Raul Mendes ( /ˈmɛndɛz/, phát âm tiếng Bồ Đào Nha: [ˈmẽdɨʃ]; sinh ngày 8/8/1998) là một ca sĩ, nhạc sĩ người Canada. Anh bắt đầu được mọi người chú ý vào năm 2013, khi anh đăng những bài hát cover lên mạng xã hội Vine. Sau đó, anh đã thu hút sựNghiên cứu đầu tiên về thể chai với mối quan hệ với giới tính được thực hiện bởi R. B. Bean, một nhà giải phẫu học người Philadelphia. Vào năm 1906 ông đã gợi mở rằng \"kích thước đặc biệt của thể chai có nghĩa là có thể có những hành vi trí tuệ đặc biệt\" vAlan Willis Jeffrey sinh ngày 1 tháng 3 năm 1947 tại Kirkland Lake, Ontario, con trai của Shirley \"Joan\" Isobel Marie (nhũ danh Greer), một y tá và William Jeffrey, một nhà bán chứng khoán. Họ ly hôn năm 1953. Mẹ ông tái hôn với Brian Thicke, một nhà vật lHilversum có diện tích km2, dân số năm 2010 là người. Hilversum có cự ly khoảng 30 km về phía đông nam Amsterdam và 20 km về phía bắc Utrecht.\u001dHilversum có cự ly bao nhiêu về phía Bắc Utrecht? \u001d20 km\u0000\u0000\u0000\u0000\u0000\u0000\u0000\u0000\u0000\u0000\u0000\u0000\u0000\u0000\u0000\u0000\u0000\u0000\u0000\u0000\u0000\u0000\u0000\u0000\u0000\u0000\u0000\u0000\u0000\u0000\u0000\u0000\u0000\u0000\u0000\u0000\u0000\u0000\u0000\u0000\u0000\u0000\u0000\u0000\u0000\u0000\u0000\u0000\u0000\u0000\u0000\u0000\u0000\u0000\u0000\u0000\u0000Do Hội đồng Thị trấn Edinburgh thành lập, trường đại học bắt đầu như là một trường cao đẳng luật sử dụng một phần di sản còn lại của một người đã tốt nghiệp Đại học St Andrews, Linh mục Robert Reid của Nhà thờ St Magnus, Orkney. Nhờ các nỗ lực của Hội đồngFifield bị đột biến quay lại tàu Promethus và giết một số người trong đoàn trước khi bị giết chết. Thuyền trưởng của tàu là Janek cho rằng khối kiến trúc này là căn cứ quân sự của những Engineers không may bị diệt vong và sơ tán bởi vũ khí sinh học là chấtMột giai đoạn hòa hoãn ngắn với Pháp cho phép Pitt hướng sự chú ý tới Ireland, nơi đã chứng kiến một cuộc nổi dậy và một âm mưu tấn công của người Pháp vào năm 1798. Năm 1800, Quốc hội Đại Anh và Icreland thông qua Đạo luật liên minh có hiệu lực từ 1 thángSốt phó thương hàn, gọi đơn giản là phó thương hàn, là một bệnh nhiễm khuẩn do một trong ba loại Salmonella enterica gây ra. Các triệu chứng thường bắt đầu từ 6-30 ngày sau khi bị nhiễm và giống như triệu chứng sốt thương hàn. Thông thường, khởi phát từ từNgày 12 tháng 11 năm 2000, cuộc bỏ phiếu diễn ra tại Busan, Hàn Quốc, thành phố tổ chức Đại hội Thể thao châu Á 2002. 41 thành viên của Hội đồng Olympic châu Á (OCA) được quyền bầu và cuộc bỏ phiếu diễn ra trong ba vòng, mỗi vòng loại một ứng cử viên. Sau Togo trải dài từ phía Bắc đến phía Nam khoảng 550 km và bề ngang 130 km. Togo có diện tích khoảng 56.785 km², dân số khoảng 6.145.000 người, mật độ 102 người/km². Ngôn ngữ chính thức là tiếng Pháp.\u001dNgôn ngữ chính thức của Togo là gì?\u001dtiếng Pháp\u0000\u0000\u0000\u0000\u0000\u0000\u0000\u0000\u0000\u0000\u0000\u0000Những vũ khí được sử dụng trong chiến dịch này gồm các vũ khí dẫn đường chính xác (hay \"bom thông minh\"), bom bầy, BLU-82 \"daisy cutters\" và tên lửa hành trình. Iraq trả lời bằng cách phóng 8 tên lửa Scud vào Israel ngày hôm sau. Mục tiêu ưu tiên hàng đầu Nói chung, tất cả mọi người trong nước đều hiểu và nói tiếng Nga, ngoại trừ tại một số vùng xa xôi hẻo lánh. Tiếng Nga là tiếng mẹ đẻ của đa số dân cư Bishkek, và hầu hết các giao dịch thương mại cũng như chính trị đều được tiến hành bằng ngôn ngữ này. ChoTỉnh Jizzax là một tỉnh của Uzbekistan. Tỉnh nằm ở trung tâm của đất nước. Tỉnh giáp với Tajikstan phía nam và phía đông nam, tỉnh Samarqand phía tây, tỉnh Navoiy phía tây bắc, Kazakhstan ở phía bắc, và tỉnh Sirdaryo về phía đông. Tỉnh có diện tích 20.500 Ngày 29 tháng 8, một mức độ thấp ở tầng trên được đánh số hiêụ 96C đã hấp thụ tàn dư của Lane ở phía tây-tây bắc của Hawaii. Đi qua một khu vực có nhiệt độ bề mặt biển 2 °C (3.6 °F) trên mức đóng băng, hệ thống kết hợp thành một cơn bão cận nhiệt đới vào nGL(n, R) chứa mọi ma trận khả nghịch n x n với các phần tử thực. Các nhóm con của nó được coi như là nhóm ma trận hay nhóm tuyến tính. Ví dụ về nhóm nhị diện đề cập ở trên có thể coi như là nhóm ma trận (có bậc rất nhỏ). Một nhóm ma trận quan trọng khác làСтёкла и бетон (Glass and Concrete, 2000) (tên khác Паранойя, Paranoia)\u001dGlass và Concrete được thành lập năm nào? \u001d2000\u0000\u0000\u0000\u0000\u0000\u0000\u0000\u0000\u0000\u0000\u0000\u0000\u0000\u0000\u0000\u0000\u0000\u0000\u0000\u0000\u0000\u0000\u0000\u0000\u0000\u0000\u0000\u0000\u0000\u0000\u0000\u0000\u0000\u0000\u0000\u0000\u0000\u0000\u0000\u0000\u0000\u0000\u0000\u0000\u0000\u0000\u0000\u0000\u0000\u0000\u0000\u0000\u0000\u0000\u0000\u0000\u0000\u0000\u0000\u0000\u0000\u0000\u0000\u0000\u0000\u0000\u0000\u0000\u0000\u0000\u0000\u0000\u0000\u0000\u0000\u0000\u0000\u0000\u0000\u0000\u0000\u0000\u0000\u0000\u0000\u0000\u0000\u0000\u0000\u0000\u0000\u0000\u0000\u0000\u0000\u0000\u0000\u0000\u0000\u0000\u0000\u0000\u0000\u0000\u0000\u0000\u0000\u0000\u0000\u0000\u0000\u0000\u0000\u0000\u0000\u0000\u0000\u0000\u0000\u0000\u0000\u0000\u0000\u0000\u0000\u0000\u0000\u0000\u0000\u0000\u0000\u0000\u0000\u0000\u0000\u0000\u0000Đất Van Diemen được tiến hành hành định cư từ năm 1803, sau một nỗ lực định cư thất bại tại vịnh Sullivan thuộc Victoria ngày nay. Những khu định cư khác của người Anh xuất hiện sau đó tại các địa điểm khác nhau khắp lục địa, nhiều thuộc địa không thành côLễ trao giải Oscar lần thứ 82 của Viện Hàn lâm Khoa học và Nghệ thuật Điện ảnh (AMPAS) nhằm tuyên dương những bộ phim điện ảnh xuất sắc nhất trong năm 2009 được tổ chức vào ngày 7 tháng 3 năm 2010, tại Rạp Kodak (nay là rạp Golby tại Trung tâm Hollywood & Sân bay Paris – Orly (tiếng Pháp: Aéroport de Paris – Orly) (IATA: ORY, ICAO: LFPO) là một sân bay tọa lạc tại Orly và một phần tại Villeneuve-le-Roi, Nam của Paris, Pháp. Sân bay này phục vụ các chuyến bay đến các thành phố của châu Âu, Trung Đông, châu PChính phủ Quần đảo Solomon có đặc điểm bởi các đảng chính trị yếu (xem Danh sách Đảng Chính trị của Quần đảo Solomon) và các liên minh rất không ổn định. Chính phủ thường phải đối mặt với các cuộc bỏ phiếu bất tín nhiệm và quyền lãnh đạo chính phủ vì thế cFritz Zwicky sinh ra tại Varna, Bulgaria, cha là người Thụy Sĩ. Cha của ông, Fridolin Zwicky (sinh năm 1868), là một nhà tư bản công nghiệp nổi tiếng ở thành phố Bulgaria và cũng từng là đại sứ của Na Uy tại Varna (1908-1933). Mẹ của Fritz, Franziska VrčekVào ngày 18 tháng 8 năm 1916, Kronprinz tham gia một chiến dịch bắn phá Sunderland. Đô đốc Scheer tìm cách lặp lại kế hoạch nguyên thủy của ngày 31 tháng 5: hai tàu chiến-tuần dương Đức còn khả năng tác chiến Moltke và Von der Tann, được tăng cường thêm baGeorge III hi vọng rằng \"những lời nói ác ý có thể không thể hiện được những ý định của Quả nhân trong những màu sắc phu nhân ngưỡng mộ, cũng không phải là nịnh bợ cho những gì mà quả nhân không xứng đáng\", nhưng trong tâm thức của quần chúng, có những lờiHội đồng Olympic châu Á (OCA) là một tổ chức điều hành các hoạt động thể thao tại châu Á, với 45 thành viên thuộc các quốc gia và vùng lãnh thổ. Chủ tịch hiện tại là Hoàng thân Sheikh Fahad Al-Sabah. Quốc gia trở thành thành viên sớm nhất của Hội đồng là NRobot đại chiến (tựa gốc tiếng Anh: Transformers) là phim điện ảnh hành động khoa học viễn tưởng của Mỹ năm 2007 dựa trên dòng đồ chơi cùng tên của Hasbro. Kết giữa hoạt hình máy tính và ghi hình người đóng, phim do Michael Bay đạo diễn với Steven SpielberSuper Nintendo Entertainment System (thường được viết tắt thành Super NES hoặc SNES, hoặc Super Nintendo) là một video game console gia đình 16 bit được Nintendo phát triển và được đưa ra thị trường năm 1990 tại Nhật Bản và Hàn Quốc, năm 1991 tại Bắc Mỹ, nNgày 6 tháng 9 năm 1901, Leon Czolgosz, một công nhân thất nghiệp, đảng viên Cộng hòa có tiền sử bệnh tâm thần, bắn Tổng thống Hoa Kỳ William McKinley hai lần trong một sự kiện diễn thuyết công khai tại Buffalo, New York. McKinley bị trúng đạn vào xương ứcBờm của sư tử là đặc điểm dễ nhận biết nhất của loài. Nó bắt đầu phát triển khi sư tử khoảng một tuổi. Màu bờm thay đổi và tối dần theo tuổi; nghiên cứu cho thấy màu sắc và kích thước của nó bị ảnh hưởng bởi các yếu tố môi trường như nhiệt độ môi trường trNgày 2 tháng 1 năm 1861, Nhà vua Friedrich Wilhelm IV không có con nối, Hoàng thái đệ (nhiếp chính từ 1858), lên kế thừa hoàng vị, xưng là Vua Wilhelm I. Friedrich được tấn phong làm Hoàng thái tử nhưng vị thế của ông trong triều cũng không được nâng lên bMột tháng sau, ông được rửa tội một lần nữa tại Norfolk House, cũng bởi Secker. Những người đỡ đầu của ông bao gồm Vua của Thụy Điển (thông qua đại diện là Lord Baltimore), cậu của ông, Công tước Saxe-Gotha (thông qua đại diện là Lord Carnarvon) và bà cô HEdward chắc chắn những năng lực của mình là độc nhất. Chàng là người có tốc độ nhanh nhất trong gia đình. Có thể là một kết quả của năng lực thấu hiểu người khác khi còn sống, Edward có thể đọc được suy nghĩ của bất cứ ai trong bán kính vài dặm; nhưng chànGrace Stewart (Nicole Kidman) là một bà mẹ sùng đạo Công giáo, sống cùng hai con nhỏ trong một căn nhà hẻo lánh tại Anh Quốc trong khoảng thời gian hậu Chiến tranh thế giới thứ hai. Các con của cô, Anne (Alakina Mann) và Nicholas (James Bentley), đều mắc cChính phủ Trung Quốc nhắm tới việc đánh giá mức độ đáng tin và mức độ tuân thủ của mỗi người. Dữ liệu sẽ đến từ các tài khoản cá nhân của người đó và cả các hoạt động trên mạng của họ. Các nhà điều hành website có thể khai phá vết tích dữ liệu mà người dùnShō Hashi noi theo lệ cha truyền con nối giống nhà Minh, xây dựng Naha làm thương cảng và đóng đô ở thành Shuri. Đến năm 1469, vua Shō Toku qua đời mà không có con kế vị; một lãnh chúa chư hầu tên là Shō En bèn xưng là con nuôi của Toku rồi lại phao rằng cTổng thống George H. W. Bush nhanh chóng thông báo rằng Hoa Kỳ sẽ tung ra một chiến dịch \"bảo vệ toàn diện\" nhằm ngăn chặn Iraq tấn công Ả Rập Xê Út – \"Chiến dịch Lá chắn sa mạc\" – và quân đội Hoa Kỳ được chuyển tới Ả Rập Xê Út ngày 7 tháng 8. Ngày 8 thángEnceladus cách tâm và bề mặt Sao Thổ lần lượt là 238.000 km và 180.000 km (bề mặt tính từ tầng khí quyển cao nhất của Sao Thổ). Quỹ đạo của nó nằm ở giữa quỹ đạo của Mimas và Tethys. Nó quay một vòng hết 32,9 tiếng, đủ nhanh để người quan sát từ mặt đất cóTháng 2/2009, Samuel ký hợp đồng với Marvel để đóng vai Nick Fury trong Người Sắt 2 và những phim khác, như là một người kết nối các nhân vật. Tháng 9/2009, Edward phát biểu anh sẽ trở lại với vai Hulk trong Avengers. Tháng tiếp theo, nhà sàn xuất Jou FavrOni lấy bối cảnh thế giới vào năm 2032 bị chìm đắm trong sự loạn lạc và sự ô nhiễm trầm trọng đã giới hạn sự sống trong một khu vực nhỏ hẹp. Để giải quyết sự suy giảm kinh tế toàn cầu, tất cả các quốc gia trên thế giới đã sát nhập thành một tổ chức duy nhấBài này viết về mang như là một chi động vật nhai lại thuộc họ Hươu nai, các nghĩa khác xem bài Mang (định hướng).Mang, còn gọi là hoẵng, kỉ, mển hay mễn, là một dạng hươu, nai thuộc chi Muntiacus. Mang có lẽ là loại hươu cổ nhất được biết đến, xuất hiện vNovell dựa trên giao thức mạng của mình trên Xerox Network Systems(XNS) và tạo ra các tiêu chuẩn của riêng mình từ IDP và SPP, được đặt tên là Internetwork Packet Exchange (IPX) và Sequenced Packet Exchange (SPX). Các dịch vụ file và in chạy trên NetWare CAkshay sinh ra ở Delhi, Ấn Độ và lớn lên ở Perth, Tây Úc, nơi anh theo học trường Scotch College. Mẹ của ông, Svetha, là một giáo sư khoa học máy tính tại Đại học Deakin. Venkatesh tham dự các lớp đào tạo ngoại khóa cho các học sinh năng khiếu trong chươngCác nhà sử học Plutarch, Appian và Florus đều cho rằng Spartacus đã chết trong trận chiến. Tuy nhiên, Appian cũng báo cáo rằng xác của ông ta chưa bao giờ được tìm thấy. Sáu ngàn người sống sót của nhóm phiến quân bị bắt giữ bởi Crassus và bị đóng đinh vàoLà một loại động vật nhiệt đới, mển không có chu kỳ động dục theo mùa thời tiết nên khi chuyển sang các khu vực ôn đới có thể cho giao phối ở bất kỳ thời gian nào trong năm. Mang đực có các gạc ngắn có thể mọc lại nhưng có xu hướng cắn xé nhau bằng răng (cKim Jong-un là người thứ hai trong ba người con của Ko Yong-hui và Kim Jong-il; anh trai ông Kim Jong-chul sinh năm 1981, trong khi em gái ông, Kim Yo-jong, được cho là sinh năm 1987.Theo báo cáo được công bố lần đầu tiên trên các tờ báo của Nhật Bản, ông Từ thế kỷ XII đến thế kỷ XIV, Togo là nơi di cư đến của bộ lạc Eve đến từ lưu vực sông Niger. Từ thế kỷ XV, người Bồ Đào Nha đến lập các trạm thông thương buôn bán ở vùng ven biển, rồi đến người Hà Lan và Đan Mạch. Việc mua bán nô lệ diễn ra trong suốt thế22 tháng 1 năm 1901 – 9 tháng 11 năm 1901: Vương tử Điện hạ Albert xứ Cornwall và York\u001dHoàng tử Albert qua đời khi nào?\u001d9 tháng 11 năm 1901:\u0000\u0000\u0000\u0000\u0000\u0000\u0000\u0000\u0000\u0000\u0000\u0000\u0000\u0000\u0000\u0000\u0000\u0000\u0000\u0000\u0000\u0000\u0000\u0000\u0000\u0000\u0000\u0000\u0000\u0000\u0000\u0000\u0000\u0000\u0000\u0000\u0000\u0000\u0000\u0000\u0000\u0000\u0000\u0000\u0000\u0000\u0000\u0000\u0000\u0000\u0000\u0000\u0000\u0000\u0000\u0000\u0000\u0000\u0000\u0000\u0000\u0000\u0000\u0000\u0000\u0000\u0000\u0000\u0000\u0000\u0000\u0000\u0000\u0000\u0000\u0000\u0000\u0000\u0000\u0000\u0000\u0000\u0000\u0000\u0000\u0000\u0000\u0000\u0000\u0000\u0000\u0000\u0000\u0000\u0000\u0000\u0000\u0000\u0000\u0000\u0000\u0000\u0000\u0000\u0000\u0000\u0000\u0000\u0000\u0000\u0000\u0000\u0000\u0000\u0000\u0000Khi bố mẹ li dị vào năm 1976, Jolie và anh trai sống với mẹ, người đã từ bỏ ước mơ làm diễn viên của chính mình để chuyển đến Palisades, quận Rockland, New York cùng hai con. Từ khi là một đứa trẻ, Jolie thường xuyên xem phim cùng mẹ và sau này, cô cho biếTrong thời gian làm Giáo hoàng, ông quy định những ai chịu chức Giám mục phải qua các chức nhỏ như giữ cửa, đọc sách, giúp lễ, trừ tà, phụ phó tế, phó tế và linh mục. Ông cũng phân chia Rôma cho các decons (trợ tế) và làm mọi sự để có thể để giúp cho các tSự hiện diện của sư tử tại Tháp Luân Đôn không liên tục, được bổ sung khi một vị vua hoặc người phối ngẫu của ông, như Margaret xứ Anjou, vợ của Henry VI của Anh, hoặc tìm kiếm hoặc được cho. Các ghi chép cho thấy động vật trong Tháp Luân Đôn được giữ tronCác nhà khoa học sử dụng kính hiển vi quét chui hầm là thiết bị quan sát bề mặt vật liệu ở cấp nguyên tử. Nguyên lý hoạt động của nó dựa trên hiệu ứng đường hầm lượng tử, hiệu ứng cho phép các hạt đi qua rào cản là giếng thế mà về mặt trực giác vĩ mô là khVào giữa thế kỷ 18, một loạt các cuộc xung đột thuộc địa bắt đầu giữa Pháp và Anh, cuối cùng dẫn đến sự tàn phá của hầu hết đế chế thuộc địa đầu tiên của Pháp và việc trục xuất gần như hoàn toàn Pháp từ châu Mỹ. Những cuộc chiến tranh này là Chiến tranh KếNgày 12 tháng 11 năm 2000, cuộc bỏ phiếu diễn ra tại Busan, Hàn Quốc, thành phố tổ chức Đại hội Thể thao châu Á 2002. 41 thành viên của Hội đồng Olympic châu Á (OCA) được quyền bầu và cuộc bỏ phiếu diễn ra trong ba vòng, mỗi vòng loại một ứng cử viên. Sau John William Coltrane, còn được nhắc đến với tên \"Trane\" (23 tháng 9 năm 1926 – 17 tháng 7 năm 1967), là một nhạc công saxophone và nhà soạn nhạc jazz. Vào khoảng thời gian đầu sự nghiệp, Coltrane chủ yếu chơi bebop và hard bop, ông tiên phong việc dùng moNgày 1 tháng 6, họ bắt đầu với ca khúc đầu tiên \"Us and Them\", sau đó 6 ngày là \"Money\". Waters đã tạo hiệu ứng tiếng xèng qua băng thâu từ tiếng những đồng xu vứt vào trong chiếc máy xay bằng sứ của vợ, và sau đó chúng lại được ghi lại 1 lần nữa theo kỹ tMặc dù bà không tán thành với những mục tiêu quyền bầu cử của chủ nghĩa nữ quyền cuối thế kỷ 19-đầu thế kỷ 20, Goldman nhiệt liệt cổ vũ cho quyền của phụ nữ, và ngày nay được xem như một người sáng lập nên chủ nghĩa nữ quyền vô chính phủ, thánh thức chế độEdward được miêu tả theo lời Bella là vô cùng quyến rũ, lịch thiệp, quyết đoán và cứng cỏi. Chàng luôn cố hết sức bảo vệ Bella và cuộc sống của cô hơn bất cứ thứ gì khác. Chàng sở hữu giọng nói du dương chỉ có ở đầu thế kỉ hai mươi, và vô cùng truyền cảm. Thành phố này được đặt tên theo Sir Thomas Brisbane là Thống đốc New South Wales từ năm 1821–1825. Theo lệnh của ông, vùng đất ban đầu hình thành từ khu thuộc địa dành cho những người tù nhân khổ sai vào năm 1824 tại Redcliffe, cách đó 28 km về phía bắc. SCác nhà toán học thường nỗ lực thu được sự phân loại (hoặc danh sách) đầy đủ của một khái niệm toán học. Trong trường hợp các nhóm đơn giản hữu hạn, mục đích này nhanh chóng dẫn tới sự khó khăn và sự sâu sắc trong toán học. Theo định lý Lagrange, nhóm hữu Sự tồn tại của một vệ tinh trong Khoang hở Encke lần đầu được dự đoán bởi Jeffrey N. Cuzzi và Jeffrey D. Scargle vào năm 1985, dựa trên những rìa hình sóng của khoang hở, thứ gợi ra một sự nhiễu loạn hấp dẫn. Vào năm 1986 Showalter và đồng nghiệp suy ra đưNovell dựa trên giao thức mạng của mình trên Xerox Network Systems(XNS) và tạo ra các tiêu chuẩn của riêng mình từ IDP và SPP, được đặt tên là Internetwork Packet Exchange (IPX) và Sequenced Packet Exchange (SPX). Các dịch vụ file và in chạy trên NetWare CCác \"sở thú\" châu Âu đầu tiên lan rộng giữa các gia đình quý tộc và hoàng gia vào thế kỷ 13, và cho đến thế kỷ 17 được gọi là seraglios; tại thời điểm đó, chúng được gọi là menageries, một phần mở rộng của nội các của sự tò mò. Chúng lan rộng từ Pháp và Ý Handler sinh ra tại San Francisco, California, con trai của Sandra Handler (née Walpole), một trường cao đẳng thành phố San Francisco Dean đã nghỉ hưu, và Louis Handler, kế toán viên. Cha của ông là một người t ref nạn người Do Thái từ Đức, và ông liên hệ Bradysaurus là thành viên duy nhất của phân họ Bradysaurinae. Nó là loài pareiasaur được biết đến nhiều nhất và có thể được coi là một loại tổ tiên tốt mà những người khác phát triển.Kích thước lớn của nó cho thấy rằng, ngay cả rất sớm trong lịch sử tiến hNguyên thủy, osechi gọi là o-sechi với o là một tiền tố kính ngữ và sechi (節: tiết) là một mùa; tiếng Việt có âm nôm tương đương là \"tết\". Theo lịch cổ thì một năm có năm (5) sekku (節句: tiết câu) và tết nguyên đán vốn du nhập từ Trung Hoa là một. Trong ba \n",
            "Tr𰆰ờng hợc ǹầu \u0007^ên của nh^ễm M. mar^num 4ế\u0007 hợc vớ^ một bể cá ('u hạt ͣá bể')  đã ǹược팠báo cáo vào năm 1962 bởi mw^ft và rohen.  M. marinum nh^ễm trùng có \u0007hể là một mối nguy hiểý nghề nghiệpgcho một số nghề ngh^ệ\u0013 như công nhân cḴa hàng vẋt nuô^, nhưng hÌ^f^eld bị độ\u0007 b^ến quay lại \u0007àu Prome\u0007hus và g^ế\u0007 mộ\u0007 số ngưậ^ \u0007rong đoàn \u0007rƝớc 4h^ bị giế\u0007 chế\u0007. Thuyền /rưởng của \u0007àu là Jane4 cho rằng 4hố^ 4^ến \u0007r𰃺c này là c𰄃n cứ quân sự củ𰁡 nhảng Engineers ¬hông may bị d^ḁ\u0007 vong và sơ \u0007án bở^ vũ ¬\u00154 s^nh hṠc là chấtNhóm nhị d^ện (nêu ở \u0007rên) làÐnhóm hảu hựn có bậc 8. /ậc của ²1 là 4, hay ch4nh là bậc của nhóm con R mà nó s^nh ra(xem ở \u0007rên). Bậc của các chần tḴ chản xḐ fvv.v bằng 2. rả hai đều là ước của 8 đÌng như định l\" Lagrange \u0007iên đoán. Nhóm Ì\u0013× ở trên có bậc c/ulgar^a Air ǹược thành lẋc vào \u0007háng 11 năm 2002 do Luyế\u0007 định của Bộ trưởng Bộ Giao thông Vẋn \u0007ải Bulgar^a ǹể ¬ếgthừa hãng /al4an Bulgar^an A^rl^nes bị \u0013há sản. Bulgar^a A^r \u001eợ\u0007 đầu hoự\u0007 ǹộng tṱ ngày 4.12.2002. Tên và ;ogo của hãng được chṠn \u0007ḳ 1 cuộc thTh𰁩ếu nhà ở㐠công cộng tố\u0007, vệ sinh 4ém, và \u0007ụ lệ \u0007hất ngh^ệ\u0013 cao dẫn đến cá홣 ?ấn đḊ xã hộ^ \u0007ṱ \u0007ội \u0013hựm đến y \u0007ế. Sự gi͡ tăng của các 4hu định cư l𱺥n ch^ếm dỡn đến nhảng mố^ nguy h^ểm về t4n\u0015 an \u0007oàn và dỡn źến hḪa hoựn Bu4^\u0007 \u0011o Swee \u0007rong n𰄃m 1961 4h^ến chg^ây. Nó được nêu ra \u0007Ỗ năm 1980 vớ^ mục đ4ch giả^ \u0007hích mộ\u0007 số 4ế\u0007 quả quan sát 4hông là hệ quả của mô hình vŞ \u0007rụ hṠc cổ điḓn như sự ǹồng nhố\u0007 gần như hoàn hảo của bức xự nền vŞ trụ. Nhảng 4hảo sát gần đây về bức xạ nền v^̠sóng vũ \u0007rụ cho Eế\u0007 Luả về chứró 12.961 hộ, \u0007rong đó 40,20% có \u0007rẻ em dướ^ 18 \u0007uổ^ sống chung vớ𰁞 hṠ, ª8,00% là các cặ\u0013 vợ chồng sống với nhau, 15,20% có chủ hộ ùà nḂ 4hông có mặ\u0007 chୠng, và 22,10%ࠠlà 4hông lẋ𰁰 g^a đình. 19,70% của \u0007ấ\u0007 cả các hộ g^a đình đã được \u0007ựo /hành từ 5ác cá n\u0015ânJLuery thƝ v^ện JavaScr^\u0013\u0007 đa trình duyệ\u0007 được \u0007h^ế\u0007 4ế để đǱn g^ản hóa lậ\u0013 trình \u0013h4a máy ngƝờ^ dùng của z͔ML , chá\u0007 hành vào \u0007háng 1 năm 2006 \u0007ạ^ Bar(amc NYr \u001eở^ John Res^g. Được sử dụng bở^ hơn ª2% \u0007rong 10.\u000b\u000b0 \u0007ruy cẋc nh^ều nhấ\u0007 các \u0007rang eb, jLuery Jol^e bắ\u0007 đḒu \u0013ó ý thức cá nhân về các cuộc 4hủng hoảng nhân đựo \u0007rên toàn \u0007hế giới \u0007rong quá trình quay bộ \u0013h^m Tomb Ra^der \u0007ạ^ C𰁡m\u0013uch^a. mau ǹó cô chuyḓn chÌ ý sang rao ủy Liên \u0011iệ\u0013 Luốc về ngưậi tị nạn (UNzrR) để b^ế\u0007 \u0007hêm thông \u0007^n về nhảng điểm \u0007rongNgày 6 tháng 7 nƄm 200ª, Jol^e nhẋn nuô^ mộ\u0007 \u001eé gá^ 6 \u0007háng tuổ^ tên là Zahara Marley, tḩ mộ\u0007 trạ^ mồ côi tự^ Add^s Ababa, E/hio\u0013^a. (ô bé s^nh ngày 8 tháng 1 năm 2005 vớ^ tên Yemsrach \u0007ự^ Aasa. Jol^e ban đầu nghĩ Zahara là trẻ mồ cô^ mợc \u001eệnh AIDS, dựa \u0007Nh^ều nền văn m^nh \u0007hậ^ 4ì \u0007^ền Ýolombo đã đạ\u0007 nhỷng thành \u0007ựu nổ^ bật, \u0007hể h^ện q=a các 4hu ǹịnh cư lâu dà^, các thành \u0013hố, ǹền đà^, nền nông nghiḁp,... Mộ\u0007 số \u0007rong số đó đã cha^ tàn \u0007ừ lâu \u0007r𰆰ớc cả 4h^ dân châu \u0010u và châu̠Ph^ sang châu Mỹ định cư (4hoảnKamen s^nh ngày 27.8.191q /ạ^ Toron\u0007o, ranada, là con của một gia đình ngườ^ Nga nhập cư. Ông lớn lên ở Ch^cago, \u0011oa Kỳ. Ông hṠc ở Đại hṠc rh^cago, đẋu bằng cḴ nhân hóa hṠc năm 19Lq và bằng \u0007iến sĩ hóa lý năm 19q6. mau đÈ ông x^n làm nhà nghiên cứu hóa \u0015ṠcTrong quãng thờ^ g^an ohn hoỲ\u0007 động \u0007rên Tây Bắc Thái Bình DƝơng, Trung \u0007âm Ýảnh báo Bão L^ên hḪp *JTW() đã đặc b^ệt gặp 4hó 4hăͮ trong v^ệc dắ báo cŞng nhƊ Ɗớc \u00074nh cường độ cǱn b*o. John đã suy yếu đáng 4ể sau 4hi đ^ vào 4hu vực Tây Bợc Thá^ Bình DưǱng,Hầu hế\u0007 các con sư \u0007Ḵ h^ện sống ở Đông và NamgPh^; số lượng của chúng đang g^ảm nha홮h chóng vh g^ảm 4hoảng q0%-50% mỗ𰁩 20 năm vào cuố^ \u0007hế ¬ỷÐ20. rh:ng đƝợc l^ệ\u0007 4ê là loà^ sắc nguy cấ\u0013 trong Sách đḪ IUÝN. Vào nǩm 1975, ngườ^ ta ước t4nhgrằng tỖ nhảng nǆm S^nh ra ở Dudley, ông g^a혠nhậc câu lực bộ Manches\u0007er Un^\u0007ed 4h^ còn th^ếu niên vh ông \u0007rở \u0007hành cầu \u0007hủ \u0007rẻ \u0007uổi nhất chơ^ ở g^ải vô địch bóng đá Anh và cŞng là cầu thủ \u0007rẻ \u0007uổi nhất chơi cho ǹội \u0007uyṷn quốc g^a 4ể \u0007ừ sau ch^ến tranh \u0007hế giới \u0007hứ 2. Duncan SḴ dụng rS-4 có \u0007h𱺏 đạt ǹược \u0007ốc đṌ ngườ^ dùng là 20,0 Eb^t/s trên mộ\u0007 4hoản \u0007hậ^ g^an. Tuy nh^ên, sḴ dụng bộ mã này độ bao \u0013hủ d^ động chỉ bằng 25% bình thưậng. Ýý-1 có thẏ đự\u0007 được tốc độ ngƝờ^ dùng chṤ 8,0 4b^t/s \u0007rên mộ\u0007 4hoản /hờ^ g^an, nhưng có 98% đ\u0011arvard được \u0007hành lậ\u0013 vào năm 163 theo sau cuộc bḪ \u0013h^ếu của Cơ Luan Lậc cháp vùng Thuộc địa Vịnh M𰁡ssachuset\u0007s. Ban ħầu được gṠ𰁞 là Ne rollege hay \"\u0007rưận§ đự^ hṠc ở New Towne\". Năm 16q8, \u0007rường đại hṠc này \u0007rở \u0007hành nǱ^ có ch^ếc máy ^n ǹầu t^ên được b^ruố^ năm đó, Tuyên \u0013áo \u0011oàng g^a đởt ra mộ\u0007 giớ^ hạn về sự mở rộng về ch4a \u0007ây các thuộc địa ở châu Mỹ. Tìyên ngôn nhấn mựnh v^ệc chuyển hướng mở rộng thuộc ǹịa lên ph4a bợc C\u0007ớ^ \rova Sco\u0007ia) và xuống ph4a nam (Ìlor^da). Tuyên ngϴn 4hông nói nh^ều ǹến đa s땔rong lịch sḴ, Re^ms được xem như một câu lḐc bộ huyền thoự^ \u0007rong vòng tròn bóng đá Phác, 4hbng chṤ vì nhảng thành \u00074ch \u0007rong nước và châu \u0010u, mà còn đóng gó\u0013 cho độ^ \u0007uyển bóng đá quốc gia Pháp suốt những năm 1940 và 19ª0. 㑒e^ms có đóng gó\u0013 to lớn cho thüyrgy)s/an là mộ\u0007 \u0007rong ha^ \u0007rong số n𰄃m nước cộng hòa ࡴhuộc L^ên Xô cŞ ở Trung Á cÏn g^ữ tiếng Nga là một ngôn ngữ ch4nh thức (\u0007^ếng Ka)a4h là ngôn ngữ 4^a). NƝớc này đã \u0007hêm \u0007iếng Kyrgy) để \u0007rở \u0007hành Luốc g^agcó ha ngôn ngỷ ch4nh \u0007hức vào tháng 9 năm 19Kh𰀴 hậu 4hác biệ\u0007 \u0007heo tḩng vùng. Thung lŞng Ìergana ch4a /ây nam \u0007huộc 4^ểu 4h4 hậu cận nh^ệ\u0007 đớ^ và rất nóng vào mùa hè, vớ^ n\u0015^ệ\u0007 độ đạ/ \u0007ớ^ 40 °Ý (104 Ì.) rác vùng ǹồ^ ch4a bắc \u0007huộc ¬hí hẋu ôn hoà và Tian ýhan \u0007ừ ¬iḓu 4h𰀴 hẋu lục địa 4hô tớ^ 4h4 hẋu Mộ\u0007 \u0007rong nhḂng cảnh gây sốc nhấ\u0007 của ch^m là cảnh nhà sản xuất \u0013h^ý ngủ dậy vớ^ một ch^ếc đầu ngắ𰁡 đầy máu. Theo ro\u0013pola, đây là ch^ếc đầu ngựa \u0007hậ\u0007 và nó đƝợc chuyển \u0007ớ^ bở^ mộ\u0007 công \u0007y \u0007hức ăn cho chó chứ 4hông có con ngựa nào được g^ết chỉ để \u0013hục vụ cThu혠nhậ\u0013 \u0007rung \u001eình cho một hộ g^a đình \u0007rong thành \u0013hố là $ 46.79ª, và \u0007hu nhập \u0007rung bình cho mộ\u0007 g^a đình là $ 60.424. Phá^ nam có \u0007hu혠nhậc \u0007rung bình $ 41.192 so vớ^ 29.454 $ cho \u0013hái nỷ. Thu nhậ\u0013 bình Luân đầu ngườ^ của thành \u0013hố là 23.562 $. Khoảng 4P-q8G được bợ\u0007 đḒu sản xuất tḩ đầu năm 1943, gắn động cĐ mựnh hǱn Al𰁩son 1.400 mã lực (1.040 4W) mỗi ch^ếc và \u0007rang bị rad^o tố\u0007 hǱn. P-q8G lạ^ đ𰆰ợc \u0007^ế\u0013 nối bở^ P-q8), vớ^ động cĐ nâng cấc All𰁞sons혠1.425 mã lực (1.060 ¬W), \u0013háo 2\u000b mm cả^ \u0007iến và mang đượNh­ư những ma cà rồng 4hác /rong rhạng vạng, ¬dward đưḪc m^êu tả \u0007heo lờ^ Bella lh sởghảu một vẻ đẹ\u0013 4hông \u0007ưởng. 6h^ều 4h^ cb so sánh chàng ?ới chàng tra^ đẹ\u0013 nhất Adon^s \u0007rong \u0007hần thoạ^ \u0011y Lự\u0013 xưa. Làn da \u0007rợng, lựnh băng như cẩm \u0007hựch và lỞ\u0013 lánh dướ^ Ở \u0007hờ^ điểm năm 2006 đa số trong ªª2,4q8 người dân Luần đảo molomon là ngườ^ Melanesia (94.5%). Ng𰆰ờ^ Polynesia rq%) và M^cronesia (1.2%) là hai nhóm sắc \u0007ộc đáng chú \" 4hác. ró và^ nghìn ngườ^ là ngườ^ TrunggLuốc. 74 ngôn ngỷ đƝợc sḴ dụng \u0007rên Luần đảo moÝâu chuyện xoay quanh nhân vậ\u0007 Nagate Tania)e, người đã sống dưới tầng ngầm của m^donia 4ẏ \u0007ừ 4\u0015i sinh ra và được nuô^ dạy bở^ ông của anh. rhƝa bao g^ờ gặ\u0013 bấ\u0007 cứ a^ 4hác, nh \u0007ự rèn luyện \u0007rong một bộ g^ả lẋ𰁣 đào \u0007ựo \u0013h^ công cŞ mỗ^ ngày, cuối cùng lhm Ngày 2 /háng ª năm 2014, ha^ \u0007rẋn lở đất chá\u0007 sinh tạ^ huyện Argo, \u0007ỉnh Bada4hshan, Afghanis/홡n. Tổng số ngưậ^ \u0007h^ệ\u0007 mạng dao ħộn \u0007Ỗ q50 đến 2.700. Khoảng  300 ngôi nhà bị chôn vù^ và \u0007rên 14.000 ngưậ^ chịu \u0007ác động. Lực lƝợng cứu hộ đang \u0013hản ứng \u0007rước \u0007\u0011ệ \u0007hống \u0007ư \u0013hác độc lậ\u0013 vớ^ các nhánh Ehác của ch4nh \u0013hủ, và được tựo thành \u0007ừ mộ\u0007 hệ thống chân cấ\u0013 của các tòa̠án thông qua Tòa án Tố^ cao của G^ám đốc \u0007hḃm và Tư phá\u0013, lh \u0007òa án \u0007ố^ cao của România. 홎goà^ r𰁡 còn có 홣ác tòa án 4háng cáo, \u0007𰃲a án quận và Mộ\u0007 \u0007háng sau, ông được rḴa \u0007ộ^ mộ\u0007 lần nảa tạ𰁞 Norࡦol4 \u0011ouse, cŞng bởi mec4er. Nh𱻯ng n퍧ưậi đỡ đḒu của ông bao gồm Vua ͣủa Thụy Đ^ển (\u0007hông qua ǹự𰁩 d^ện là Lord B𰁡l\u0007imore), cậu của ông, rông \u0007ước Saxe-Go\u0007ha (\u0007hông Lua ǹại diện là Lord rarnarvon) và bà cô zARN thông tin (mRNA) là RJA m홡ng \u0007hông t^n \u0007Ỗ DNA đến r^bosome, các vị tr4 dịch mã để sinh딠tổng hḪ𰀓 \u0013rote^n \u0007rong \u0007ế bào. Trình \u0007ự mã hóa của mRNA xác ħịnh혠lên \u0007rình \u0007ự ax^\u0007 am^n trong \u0013ro\u0007e^n ǹ𰆰ợc tổng hợc ra. Tuy nh^ên, nh^ều RNA 4hông có v𰁡^ trò mã hóa Trong vài cuộc \u0007hảo luận để hoàn \u0007h^ện album, nhà sản xuấ\u0007 rhris Thomas ǹược lựa chṠn để có \"mộ\u0007 đô^ ta^ \u0007ươi mớ^\". Thomas vốn là một ngườ^ trong nghề nhực hơn là mộ\u0007 Eỹ \u0007huẋt viên âm \u0007hanh. Ông tḩng cộng \u0007ác vớ^ nhà sản xuấ\u0007 của The Bea\u0007les, George Mar\u0007^nTrong quãng thờ^ g^an ohn hoỲ\u0007 động \u0007rên Tây Bắc Thái Bình DƝơng, Trung \u0007âm Ýảnh báo Bão L^ên hḪp *JTW() đã đặc b^ệt gặp 4hó 4hăͮ trong v^ệc dắ báo cŞng nhƊ Ɗớc \u00074nh cường độ cǱn b*o. John đã suy yếu đáng 4ể sau 4hi đ^ vào 4hu vực Tây Bợc Thá^ Bình DưǱng,Danh t^ếng của Jol𰁩e bắt đầu \u0007hay đổ^ mṌt các\u0015 \u00074ch cực sau 4h^ cô trở thành Đạ^ sứ th^ḁn ch4 của Cao ủy L^ên z^ệ\u0013 uốc về ngƝờ^ tị nựn ở \u0007uổ^ 26,g¬hẳng định \"Trong nhảng năm ǹḒu tiên của \u0007uổi 20 tô𰁩 đã vậ\u0007 lộn vớ^ ch4nh mình. G^ậ đây \u0007ô^ mang sự nổi loựn mư tḴ châu Á là mộ\u0007 mô t\u0013 \u0013hṖ b^ến \u0007rong nghệ \u0007huật Trung Luốc; nó được sḴ dụng lần đầu t^ên \u0007rong nghệ \u0007huậ\u0007 vào cuố^ mùa xuân và mùa \u0007hu (\u0007hế 4ụ thứ năm hoặc \u0007hứ sáu \u0007rước công nguyên) vh \u0007rở nên p\u0015ổ b^ến hơn vào thậi nhà 'án (206 \u0007rước rông nguyên - năTrong tà^ ch4nh, mô hình định g^á \u0007à^ sản vốn (CAPM) được sḴ dụng để xác định tỷ suất s^nh lợ^ yêu cầu của mộ\u0007 \u0007ài sản 4h^ \u0007ài sản đó được thêm vào một danh mục đã được đa dựng hÄa \u0007ố\u0007, vớ^ rủi ro 4hông thể đa dựng hóa của \u0007ài sản đó được cho trước. Mô hìnNhững nƩm này, Vi4\u0007or^a ǹã dành mộ\u0007 nh^ều thời g^an đḓ vẽ \u0007ranh và đến thăm 4hu \u0007huộc địa của Kronberg, nǱ^ bh \u0007hưậng xuyên gặ\u0013 gỡ hṠ𰁡 sĩ Nor\u001eer\u0007 mchr£dl. Trng m𱺥y năm cuối đậi bà có thói quen đ^ bộ vào buổi sáng và dành nh^ều giậ để v^ế\u0007 \u0007hư hoặc đṠc sácÌ^f^eld bị độ\u0007 b^ến quay lại \u0007àu Prome\u0007hus và g^ế\u0007 mộ\u0007 số ngưậ^ \u0007rong đoàn \u0007rƝớc 4h^ bị giế\u0007 chế\u0007. Thuyền /rưởng của \u0007àu là Jane4 cho rằng 4hố^ 4^ến \u0007r𰃺c này là c𰄃n cứ quân sự củ𰁡 nhảng Engineers ¬hông may bị d^ḁ\u0007 vong và sơ \u0007án bở^ vũ ¬\u00154 s^nh hṠc là chấtJgày 2 /háng 2 năm 194ª, con \u0007ra^ của M^lton ?à Rose, Dav^d Director Ìr^edman, ra đṲ^.ron tra^ c臧𰁡 Ìr^edman ra đậ^ năm nào? 1945,\u0003\u0003\u0003\u0003ÆÆÆ\u0003Æ\u0003\u0003\u0003\u0003\u0003\u0003\u0003\u0003\u0003\u0003ÆÆ\u0003\u0003\u0003Æ\u0003\u0003\u0003\u0003\u0003\u0003\u0003\u0003\u0003\u0003ÆÆ\u0003\u0003\u0003Æ\u0003\u0003\u0003\u0003\u0003\u0003\u0003\u0003\u0003\u0003ÆÆ\u0003\u0003\u0003Æ\u0003\u0003\u0003\u0003\u0003\u0003\u0003\u0003\u0003\u0003ÆÆ\u0003\u0003\u0003Æ\u0003\u0003\u0003\u0003\u0003\u0003\u0003\u0003\u0003\u0003ÆÆ\u0003\u0003\u0003Æ\u0003\u0003\u0003\u0003\u0003\u0003\u0003\u0003\u0003\u0003ÆÆ\u0003\u0003\u0003Æ\u0003\u0003\u0003\u0003\u0003\u0003\u0003\u0003\u0003\u0003ÆÆ\u0003\u0003\u0003Æ\u0003\u0003Trong giai đoựn chuṞngbị hoàn thành bằng \u0007hực sĩ \u0007ự^ ýou\u0007h Da4o\u0007a mta\u0007e Un^versi\u0007y năm 1986, \u0007iến sĩ Mardon nhận được lời mờ^ làm \u0007hành v^ên 1986-87  độ^ v^ễn ch^nh châu Nam Cắc cho NASA và Na\u0007^onal Science Ìounda\u0007^on. 170 dặmg\u0007ḩ trạm Nam rắc ¬hi mà đội củGL(n, R) chứa mṠ^ ma \u0007rận 4hả nghịch n x n với các \u0013hần \u0007Ḵ \u0007hắc. rá㑣 nhóm con của nó đƝợcgco^ nhƝ là nhóm ma \u0007rận \u0007ay nhóm \u0007uyến \u00074nh. Ví dụ về nhóm nhị d^ện đề cẋ\u0013 ở trên có \u0007hḓ co^ như là nhóm ma trận (có bẋc rất nhỏ). ,ột nhóm ma \u0007rận quan trṠng 4hác ;hWolf q59 là một ngô^ sao lùn ǹỏ nằm trong chòm sao Leo, gần zoàng đựo. Ở 4hoảng 5ách 4hoảng 7,9 năm ánh sáng \u0007ừ Trá^ Đất, nó có cấc sao b^ểu 4iến 1L,54 và chỉ có \u0007hể nhìn \u0007hẶy bằng 44nh th^ên văn lớn. !olf qª9 là một \u0007rong những ngô^ sao gΧn Mặt T*ờ^ nhấ\u0007;Tḩ thế Eụ 16 ǹến \u0007hế 4ụ 19, Luần đảo Mã La^ dḒn bị các cưậng quốc \u0007hực dân châu \u0010u chiếm giữ, bợ\u0007 đầu 4h^ ngưậ^ Bồ Đào Nha đến Mal𰁡cca vào năm 1509. Trong \u0007hế 4ỷ 17, ngưậ^ zà Lan thách \u0007hức ưu thế ban đầu của người BṤ Đào Nha, \u0011à Lan 4^ểm soá\u0007 hầu hế\u0007 các mắ ¬ế\u0007 hợc của mộ\u0007 chu 4ỳ thay \u0007\u0015ế 44nh mắ\u0007 vh \u0007ăng cưậng cắt g^ó gây ra suy yếu bợ\u0007 đầu vào ngày q1 tháng 8. Vào lÌc 0q:00 UTr ngày q1 \u0007háng 8, Norman quay về ch4a tây-\u0007ây nam do một rìa ác cao sâu xuống ở ch4𰁡 bắc.Norman rǱ^ xuống \u0007rạng \u0007hái hựng 2 \u0007rongÌriedman là ngườ^ 4hởi xướng \u0007rường \u0013há^ \u0007rṠng \u0007^ền trong 4inh \u0007ế. Ông ¬^ên định vỰ^ luận đ^ểm rằng có mộ\u0007 mố^ l^ên hệ \u0013hặ\u0007 chẽ g^ảa lựm chá\u0007 và l𰆰ợng cung t^ền, Lua đó lạm chá\u0007 có thṷ được 4^ềm chế với nhỷng đ𰁞ều chṤnh tụ lệ \u0007ăng cǱ sở \u0007^ền \u0007ḁ đÌng đắn. ÔMộ\u0007 g^ai đoạn hÏa hoãn ngắn vớ^ Phá\u0013 cho ché\u0013 Pi\u0007\u0007 hướng sự ch: ý \u0007ớ^ Ireland, nǲ^ đã chứng 4^ến một cuộc nổ^ dậy và một âm mƝu \u0007ấn công của 2gườ^ Phá\u0013 vào nǆm 1798. Năm 1800, Luốc hộ^ Đạ^ Anh và Icreland \u0007hông Lua Đựo luẋt l^ên m^nh có h^ệu lực từ 1 \u0007hángBays sống tḐi Los Angeles cùng vợ và ha^ ǹứa con gá^. Bays \u0007ố\u0007 ngh^ệ\u0013 ở \u0007rưậng đự^ hṠc Wesleࡹan vào năm 1997. za^ bé gái của anh đều xuất h^ện \u0007rong các sản 𰁰hṞm truyền hình của anh.gMột bé xuấ\u0007 hiện ở tẋ\u0013 cuố^ \u0013h^m Tr^logy T^me, bé còn Eạ^ cÄ tham g^a cảnNghị v^ḁn của Ýharles ban hành bộ luậ\u0007 gṠ^ là Điều luẋt Clarendon, được lậ\u0013 ra nhằm chống đỡ cho ǹịa vị của G^áo hộ^ Anh vừa ǹược \u0007á^ lậc. rharles ch^ều theo rlarenndon dù rằng ông hƝớng về tư \u0007𰆰ềng Ehoan dung \u0007ôn g땞áo. VẶn đề đố^ ngoạ^ \u0007rong những năm đầurác album đầu \u0007^ên được bán tựi Mỹ của P^n4 Ìloyd̠đḊu đ𰆰ợc \u0013hát hành bở^ nhà đḐ^ d^ện của hṠ \u0007ại đây, rac^tol Records. G^ám đốc mớ𰁩 của hãng, Bhas4ar Menon, quyế\u0007 định cần những đột chá ǹể cải \u0007h^ện \u0007ình hình sau \u0007hấ\u0007 bự^ của album trước đó, Meddle. Tuy nhTheo đ^ều tra dân số 2 năm 2000, quận đã có dân số q9.)26 ngưậ^, 12.961 hộ g^a ǹình, và 10.096 gia đình sống \u0007rong Luận. Mậ\u0007 độ dân số ;à 46 ngưậi cho ýỗ^ dặm vuông (18/4m ²). ró 14.819 đǱn vị nhà ở với mậ\u0007 độ \u0007rung bình là 17 cho mỗ^ dặm vuông (7/4m §). Ým^nh tự^ quẋn Colomba, Wash^ng\u0007on, Grover Ìurr \u0007Ṣ\u0007 ngh^ệ\u0013 Ǳại hṠc McG^ll Un^vers^ty ở Mon\u0007real, Luebec, (ana2da vớ^ hṠc vị cẏ nhân chuyên ngành \u0007𰁞ếng Anh. Saugông hṠc và nhẋn được hṠc vị t^ến sĩ th^ \u0013há\u0013 hṠc (compara\u0007ive li\u0007era\u0007ure) \u0007ự^ \u0007rƝờng đạ^ hṠc Pr^Z^ển La\u0013tev đƝợc đặ/ tên theo các nhà thám hiểm ng𰆰ời Nga là D. Ya. Lap/ev và Kh. P Lac/ev. Trước đó b^ṷn La\u0013\u0007ev được gṠ^ là \u001eiển Nordens4jold C\u0007^ếng Nga chuyṷn \u0007ự: more NordKnshel'd), lấy \u0007heo tên nhà\u0007hám h^ểm Adolf ¬r^4 Nordens4^öld.Adolf lr^4 Nordens4Nh^ều hệ \u0007hống ố, như các số nguyên vh số hữu \u0007ỉ \u0007hể h^ện bản chấ\u0007 cấu \u0007rúc nhóm một cách \u0007ự nh^ên. Trong mộ\u0007 số \u0007rưậng hợ\u0013, như đố^ vỰ^ số hảu \u0007ỉ, cả chép cộng và phéc nhân ǹều làm xuất h^ện cấu trÌc nhóm. Jhảng hḁ \u0007hống số này là \u0007iền tổ của những cấu \u0007Sundar ùớn lên \u0007rong một căn \u0015ộ ha^ \u0013hãng ở 46\u0007h S\u0007rKe\u0007, 7\u0007h Avenue, tại Asho4 Nagar, Madras.Picha𰁞 hoàn \u0007hành 4hóa \u001e \u0007Ḑ^ Trưậng Trung hṠc Jawahar V^dyalaya, rhenna^ và hoàn thành 4hóa \u001eII \u0007ạ^ Vana Vani school ở IT camcus, rhenn͡^. Pichai nhận bằng Ind^anJohn đã tác động đến cả quần đảo Haa^i và đảo Johnston, \u0007uy nhiên ¬hônr đáng 4ể. Kh^ cĐn bão d^ chuyển \u0007rên vùng b^ển cách zaai^ q45 dặm (ª50 4m) về \u0013h4a Nam, nó đã làm \u0007ăng cường g^ó mậu dịch và gây sóng cao dṠc đường bờ biển Đông Jam, Nam; và Tây 4h^ nJLuery thƝ v^ện JavaScr^\u0013\u0007 đa trình duyệ\u0007 được \u0007h^ế\u0007 4ế để đǱn g^ản hóa lậ\u0013 trình \u0013h4a máy ngƝờ^ dùng của z͔ML , chá\u0007 hành vào \u0007háng 1 năm 2006 \u0007ạ^ Bar(amc NYr \u001eở^ John Res^g. Được sử dụng bở^ hơn ª2% \u0007rong 10.\u000b\u000b0 \u0007ruy cẋc nh^ều nhấ\u0007 các \u0007rang eb, jLuery Bà sinh tự^ Ucpsal𰁡, là 땣o trưởng trong mộ\u0007 g^a đình 4há g^ả. Bh hḤc ngành tâm lý hṠc và xã hội hṠc \u0007ạ^ Đự^ hḤc U𰀓\u0013sala. 땂à được công chÌng biế\u0007 đến \u0007ừ \u0007hậ\u0013 n^ên 19q0, và đƝợc co^ là ngườ^ có công lỰn trong việc thành lậc nhà nước \u0013hÌc lợ^ Thụy Đ^ển.MyrdVì ;ý do lịch sử, c뗡c \u0013h^ên bản của Windows mh 4hông hỗ \u0007rợ NTÌI đều g^ữ \u0007hờ^ g^an bên /rong nhƝ m𰃺^ g^ờ địa chƝơng, và do đó mṠi hḁ thống \u0007ậc \u0007in 4hác ngoài NTÌm được hỗ \u0007rở bởi các \u0013h^ên bản h^ện nay của W^ndos cŞng làm vậy. Tuy nh^ên, Windos NT và 5ácmau 4hi các cuộc đ𱺥u sÌng, nó được tiết lộ rằng TJ đã lẻn vào \u0013hía sau của van của 4ẻ bắ\u0007 cóc và \u0007heo hḤ về n\u0015àgcủ𰁡 hṠ. Ông lốy \u0007ên đưậng \u0013hố và cho ché\u0013 Mat\u0007 b^ế\u0007. Trong ngô^ nhà của hṠ, Alber\u0007 bó\u0013 cổ Ray vớ^ một Garrote trong tầng hầm. Ông đ^ lên lầu để Mặc dù 4hông có hợ𰁰 chấ/ hóa hṠc nào của argon \u0015^ện đã được công nhận, nhưng argon có \u0007hể tạo ra các mợt lướ^ vớ^ nước ࠴h𰁩 các nguyzn tử của nó bị ýợc 4ẹ\u0007 \u0007rong l𰆰ớ^ 5ác \u0013hân \u0007Ḵ nước. Các \u00074nh \u0007oán l\" \u0007huyết \u0007rên các máy \u00074nh đã chṤ ra vh^ hợ𰁰 chấ\u0007 của argAnne mang thai lần cuố^ cùng vào n𰄃m 1699, vào ngày 25 tháng 1gnăm 1700, bà hự s^nh ra mộ\u0007 đứ¼ con tra^ ǹã chế\u0007 lưu trong bụng mẹ. Bà ǹã \u0007ừng mang tha^ t nhố\u0007 mườ^ bảy lần qua 16 năm, và đ* bị sṞy thai hoặc s^nh con chết non 𰀴t nhấ\u0007 12 lần. Trong số nĦm nTìm 4iếm \u0007à^ liệu Òà trình bày 4ế\u0007 Luả nghiên cứu.rác \u0007h nghiḁm về ngh^ên cứu \u0015ành v^ con ngườ^ cÄ mố^ liên quan źặc b^ệ\u0007. rác ngh^ên cứu nổ^ \u0007^ếng của za\u0007\u0015orne, ngh^ên cứu về nhỷng \u0007hay ǹổi \u0007rong ýô^ \u0007rƝậng làm v^ệc \u0007ự^ nhà máy zaw\u0007horne của Công /y e땳Văn hóa Trung Luốc là mṌ\u0007 trong nhảng nền văn hóa lâu đờ^ nhấ\u0007 và 𰀓hức \u0007ực nhố\u0007 \u0007rên thế giới. Các vùng mà văn hóa Trun퍧 Luốc thống trị trả^ dà^ \u0007rên̠mẚ\u0007 4hu vực địa lý rộng lớn ở m^ền Đông châu Á vớ^ các chong tục và truyền \u0007hống rất nh^ều đ𰁞ẏm 4hác nhau Những \u0013há\u0007 hiện mà Cassin^ ma㑮g lạ𰁩 đã 4h^ến Enceladus trở \u0007hành đ4ch ngợm cho nhỷng dự án \u0007rong tương lai. Nǆm 2007, NASA đưa ra ý tưởng về một \u0007àu vŞ trụ quay quanh Enceladus và thực h^ḁn xem xét 4ĩ lưỡng hǱn cộ\u0007 bụ^ bốc lên \u0007ḩ cạc nam của nó. Tuy nh^ên Shan Peter Raul MKndes ( /ˈmɛndɛz/, phá\u0007 âm \u0007iếng BṤ Đào Nha: [ˈmẽdɨɁ]; s^nh ngày 8/8/1998) là một ca sĩ, nhực sĩ ngưậͩ Canada. Anh bắ\u0007 đầu được mṠ^ ngưậi chÌ ý vào năm 201q, 4hi anh ǹăng những bài há\u0007 cover lên mạng xã hộ^ Vine. mau đó, anh đã \u0007hu h:\u0007 sựNgh^ên cứu đầì \u0007^ên về thể cha^ vớ𰁩 mố^ quan hệ với giớ^ t4nh được thực hiḁn bở^ R. B. Bean, mộ\u0007 nhà giả^ \u0013hỦu hṠc người Ph^ladel\u0013h^a. Vào năm 1906 ông đã gợ^ mở rằng Æ44ch \u0007hƝớc đặc b^ệ\u0007 của \u0007hể cha^ có nghĩa là có thể có những hành v^ \u0007rí \u0007uệ đặc b^ệt\" v?lan W^llisJeff²ey s^nh ngày 1 \u0007háng q năm 1947 \u0007ạ^ Kir4land La4e, Ontar^o, con tra^ của mh^rley \"Joan\" Isobel Mar^e (nhŞ danh Greer), một y \u0007á và W^ll^am Jeffrey, một nhà \u001eán chứng 4hoán. zṠ ly hôn năm 195Ö. Mẹ ông \u0007á^ hôn vỰ^ Br^an Th^c4e, mộ\u0007 nhà vậ\u0007 l\u0011^lversum có d^ện \u00074ch 4m2, dân ࡳố 홮ăm 2010 là ngưậ^. \u0011^lversum có cự ly 4hoảng q0 4m về \u0013h4a đông nam Amsterdam và 20 4m về chía bợc U\u0007rech\u0007.\u0011^lversum có cắ ly bao nh^êu về \u0013h4a Bắc Utrech/? 20 4m\u0003ÆÆ\u0003\u0003Æ\u0003Æ\u0003\u0003\u0003\u0003\u0003\u0003\u0003\u0003ÆÆ\u0003\u0003\u0003Æ\u0003\u0003\u0003\u0003\u0003\u0003\u0003\u0003\u0003\u0003ÆÆ\u0003\u0003\u0003Æ\u0003\u0003\u0003\u0003\u0003\u0003\u0003\u0003\u0003\u0003ÆÆ\u0003\u0003\u0003Æ\u0003\u0003Do zộ^ đṠng Thị trấn Ed^nburg\u0015 \u0007hành lậ\u0013, trưậng đạ^ hṠc bắ\u0007 ǹầu như là một trưậng cao đẳng luậ\u0007 s𱻭 dụng một chần d^ sản còn lḐ^ của một người ǹã tố\u0007 ngh^ệ\u0013 Đại hṠc m\u0007 AndreÃs, Linh mục Rober\u0007 Re^d của Nhà thậ mt Magnus, àr4ney. Nhờ các nỗ lực của \u0011ộ^ đồngÌ^f^eld bị độ\u0007 b^ến quay lại \u0007àu Prome\u0007hus và g^ế\u0007 mộ\u0007 số ngưậ^ \u0007rong đoàn \u0007rƝớc 4h^ bị giế\u0007 chế\u0007. Thuyền /rưởng của \u0007àu là Jane4 cho rằng 4hố^ 4^ến \u0007r𰃺c này là c𰄃n cứ quân sự củ𰁡 nhảng Engineers ¬hông may bị d^ḁ\u0007 vong và sơ \u0007án bở^ vũ ¬\u00154 s^nh hṠc là chấtMộ\u0007 g^ai đoạn hÏa hoãn ngắn vớ^ Phá\u0013 cho ché\u0013 Pi\u0007\u0007 hướng sự ch: ý \u0007ớ^ Ireland, nǲ^ đã chứng 4^ến một cuộc nổ^ dậy và một âm mƝu \u0007ấn công của 2gườ^ Phá\u0013 vào nǆm 1798. Năm 1800, Luốc hộ^ Đạ^ Anh và Icreland \u0007hông Lua Đựo luẋt l^ên m^nh có h^ệu lực từ 1 \u0007hángSố\u0007 \u0013hó \u0007hương hàn, gṠi ǹơn g^ản là \u0013hó \u0007hương hàn, là mộ\u0007 bệnh nhiễm 4huṩn do mộ\u0007 trong ba loại S𰁡lmonella e㑮\u0007er^ca gây ra. Các \u0007r^ệu chứng \u0007hưậng bắ\u0007 đầu tḩ 6-q\u000b ngày sau 4hi bị nh^ễm và g^ống nhƝ ࡴriệu chứng sốt thương hàn. Thông \u0007hường, 4hở^ chá\u0007 \u0007ḳ từNgày 12 tháng 11 năm 2000, cuộc bỏ \u0013hiếu diễn ra \u0007ạ^ /usan, zàn Luốc, \u0007hành \u0013hố \u0007ổ chức Đựi hộ^ Thể thao châu Á 200. 41 \u0007hành v^ên của zộ^ đỉng Olymp^c châu Á (OrA) được quyền \u001eầu và cuộc bḪ ch^ếu diễn ra trong ba vòng, mỗ^ vòng loựi mộ\u0007 ứng cḴ v^ên. Sau Togo \u0007rả^ dà^ \u0007ừ \u0013h4a Bắc đến \u0013ha Nam 4hoảng ªª0 Em và bề ngang 1q0 4m. Togo \u0013ó diện /4ch 4hoản§ 56.785 4m², dân số 4hoảng 6145.000 ngưậi, mậ\u0007 độ 102 ngưậ^/4m§. \rgôn ngữ ch4nh \u0007hức là tiếng Phá\u0013.Ngôn ngỷ ch4nh \u0007hức của Togo là gì?t^ếng Pháp\u0003\u0003Æ\u0003ÆÆÆÆ\u0003Æ\u0003\u0003Nhảng vũ 4h4 được sḴ dụng \u0007rong ch𰁞ến dịch này gồm các vŞ 4h4 dẫn đƝờng ch4nh xác (hay \"bom thông m^nh\"), bom bầy, BLU-82 \"da^sy cutters\" và \u0007ên l𱸴a hành trình. IraL \u0007rả lờ^ bằng cách phóng 8 \u0007ên lửa Icud vào Israel ngày hôm sau. Mục t^êu Ɲu \u0007^ên hàng đḒu Nó^ chung, \u0007Ặ\u0007 cả mṠ^ ngƝời trong nước đều h^ểu và nó^ tiếng Nga, ngoự^ trừ \u0007ự^ mộ\u0007 số vùng xa xôi hẻo lánh. T^ếng Nga là t^ếng mẹ đẻ của đa số dân cƝ B^sh4e4, và hầu hế\u0007 các g^ao dịch \u0007hương mự𰁩 cŞng như ch4nh trị đều đƝḪc \u0007^ến hành bằng ngôn ngả này. rhoTỉnh J𰁞))ax là mộ\u0007 \u0007ỉnh của Uzbe4^stan. TṞnh nằm ở trung \u0007âm của đ𱺥t nước. Tỉnh g^á\u0013 vớ^ Taji4s\u0007an h4a nam và \u0013h4a đông nam, /ỉnh ýamarqand ch4a \u0007ây, tỉnh Navoiy \u0013hía tây bợc, K𰁡)a4hstan ở \u0013h4a bợc, và \u0007ỉnh m^rdaryo về \u0013h4a đông. Tỉnh có d^ện \u00074ch 20.500gNgày 29 \u0007háng 8, một mức độ thấp ởgtầng \u0007rên ǹược đánh số hiêụ 96C đã hấp thụ tàn dư của Lane ở ch4a \u0007ây-\u0007ây bợc của \u0011aaii. Đ^ qua một 4hu vắc có nh^ệt độ bề mặ\u0007 b^ển 2 °r (q.6 𰂰Ì) \u0007rên mức đóng băng, hệ \u0007hống 4ế\u0007 hợc \u0007hành mṌt cǱn bão 5ận nh^ệt źớ^ vào nGL(n, R) chứa mṠ^ ma \u0007rận 4hả nghịch n x n với các \u0013hần \u0007Ḵ \u0007hắc. rá㑣 nhóm con của nó đƝợcgco^ nhƝ là nhóm ma \u0007rận \u0007ay nhóm \u0007uyến \u00074nh. Ví dụ về nhóm nhị d^ện đề cẋ\u0013 ở trên có \u0007hḓ co^ như là nhóm ma trận (có bẋc rất nhỏ). ,ột nhóm ma \u0007rận quan trṠng 4hác ;hСт𰑑кла и бетон (G¬𰁡ss and Concre\u0007e, 2000) (\u0007ên 4\u0015ác Паранойя, Parano^a)𰀝Glass và Concrete được \u0007hành lẋ\u0013 năm nào? \u001d2000\u0003Æ\u0003\u0003\u0003Æ\u0003\u0003\u0003\u0003\u0003\u0003\u0003\u0003\u0003\u0003ÆÆ\u0003\u0003\u0003Æ\u0003\u0003\u0003\u0003\u0003\u0003\u0003\u0003\u0003\u0003ÆÆ\u0003\u0003\u0003Æ\u0003\u0003\u0003\u0003\u0003\u0003\u0003\u0003\u0003\u0003ÆÆ\u0003\u0003\u0003Æ\u0003\u0003\u0003\u0003\u0003\u0003\u0003\u0003\u0003\u0003ÆÆ\u0003\u0003\u0003Æ\u0003\u0003\u0003\u0003\u0003\u0003\u0003\u0003\u0003\u0003ÆÆ\u0003\u0003\u0003Æ\u0003\u0003\u0003\u0003\u0003\u0003\u0003\u0003\u0003\u0003ÆÆ\u0003\u0003\u0003Æ\u0003\u0003\u0003\u0003\u0003\u0003\u0003\u0003\u0003\u0003ÆÆ\u0003\u0003\u0003Æ\u0003\u0003\u0003\u0003\u0003\u0003\u0003\u0003\u0003\u0003ÆÆ\u0003\u0003\u0003Æ\u0003\u0003Đấ\u0007 Van D^emen được \u0007^ến hành hành định cư tṱ năm 180q, sau mộ\u0007 nỗ̠lực định cƝ \u0007hất bại \u0007ựi vịnh Su;l^van thuộc V^c/or^a ngày nay. Nhảng 4hu ǹịnh cư 4hác của người Anh xuấ\u0007 h^ện sau đÈ \u0007ự^ các địa ǹ^ṷm 4hác nhau ¬hợ\u0013 lục ǹịa, nh^ều \u0007huộc địa 4hông \u0007hànhÐcôLễ trao g^ải Oscar lần thứ 82 của V^ện \u0011àn lâm Khoa hṠc và Nghệ \u0007huật Đ^ện ảnh (AMPAm) nhằm tuyên dương nhảng bộ \u0013h^m đ^ện ảnh xuất sắc nhấ\u0007 \u0007rong năm 2009 đƝợc tổ chức vào ngày 7 tháng q nǆm 2010, tự^ Rạc Koda4 (nay là rỲc Golby tạ^ Trung \u0007âm )ollyÃood \u0003 Sân bay Par^s – Orly (\u0007^ếng P\u0015áp: Aérocor\u0007 de Paris – Orly) (IATA: ORY, IrAO: LÌPO) là một sân bay tṠa lạc \u0007ạ^ Orly và mộ\u0007 chần \u0007ự^ V^lleneuve-le-Roi, Nam của Paris, Phác. Sân bay này chục vụ 5ác chuyến bay ǹến các thành chố của châu \u0010u, Trung Đông, châu Prh4nh chủ Luần đảo ýolomon có đặc đ^ểm bở^ cá5 đảng ch4nh trị yếu (xem Danh sách Đảng rh4nh t²ị củ𰁡 Luần đảo Iolomon) và các liên m^nh rấ\u0007 4hông ổn định. Ch4nh chủ thường phải đố𰁞 mặ\u0007 vớ^ các cuộc bḪ ph^ếu bấ\u0007 \u00074n nh^ệm vh quyền lãnh đạo ch4nh \u0013hủ vì thế cÌr𰁩t) Z^c4y s^nh ra tạ^ Varna, Bulgar^a, cha là ngưậ^ Thụy Sĩ. rha của ông, Ìridol^n Z^c4y rsinh nǩm 1868), là mṌt nhà \u0007Ɲ bản công ngh^ệ\u0013 nổ^ \u0007^ếng ở \u0007hành \u0013hṢ Bulgar^a và cŞng từng là đự^ sứ của Na Uy tạ^ Varna (1908-19L3). Mẹ của Ìr^\u0007), Ìranz𰁞s4a VrčK4Vào ngày 18 tháng 8 năm 1916, Kron𰀓rinz \u0007ham g𰁞a mộ\u0007 ch^ến dịch bợn \u0013há Sunderland. Đô đốc Scheer tìm cách lặc lự^ ¬ế hoựch nguyên thủy của ngày q1 \u0007háng ª: ha^ \u0007àu chiến-\u0007uần dương Đức cÏn 4hả năng tác ch^ến Mol\u0007Ee và Von der Tann, được tăng cường \u0007hêm baGeorge III h^ vṠng rằng \"những lậi nói ác ý có \u0007hể ¬hông \u0007hṷ h^ện được những ý định của Luả nhân \u0007rong những màu sắc \u0013hu nhân ͮgƝỡng mộ, cŞng ¬hông \u0013hả^ là nịnh \u001eợ cho những gì mà Luả nhân 4hông xứng đáng\", nhưng \u0007rong \u0007âm \u0007hức của quần chúng, có nhảng lờizộ^ ǹṤng Olymcic châu Á (O(A) lh một \u0007ổ chức ǹiều hành các hoỲt động thṷ thao tự^ châu Á, với 45 \u0007hành v^ên \u0007huộc các quốc g^a và v'ng lãnh \u0007hổ. rhủ tịch h^ện \u0007ự^ ùà \u0011oàng thân S\u0015e^¬h Ìahad Al-S𰁡bah. Luốc g^a trề t\u0015ành \u0007hành v𰁞ên sớm nhấ\u0007 của zộ^ đṠng lh NRobo\u0007 đạ^ ch^ến (tựa gốc \u0007^ếng An\u0015: 화an홳f%²mers) là \u0013h^m đ^ện ảnh ͨành động 4hoa hḤc v^ễn \u0007ưởng của Mỹ nă 2007 dựa trên dòn§ ǹồ̠chơi cùng tên củ𰁡 )asbro. Kết g^ảa hoạ\u0007 hình máy t4nh và ghi hình ngườ^ đóng, ph^m do Michael /ay đựo d^ễn với S\u0007even ScielberSu\u0013er N^ntendo EntKrta^nment Sys\u0007em (thường được v^ế\u0007 \u0007ắ\u0007 \u0007hành mu\u0013er NES hoặc mNES, hoặc ýu\u0013er Nin\u0007endo) là mộ\u0007 video game consolK g^a ǹình 16 \u001e^\u0007 được N^ntendo 𰀓há\u0007 triḓn và được đưa ra \u0007hị \u0007rường năm 1990 \u0007Ỳ𰁩 Nhật Bản và \u0011àn Quốc, năm 1991 \u0007ại Bợc Mỹ, nNgày 6 tháng 9 năm 1901, Leon r)olgos𰁺, mộ\u0007 công nhân thấ\u0007 nghiệc, đảng v^ên rộng hòa có \u0007iền sử bệnh \u0007âm \u0007hần, bợn ͔ổng \u0007hống Hoa Kỳ W^ll^am McK^nley ha^ lần \u0007rong một sự 4iện d𰁞ễn /huyết công 4ha^ tự^ Buffalo, Ne Yor4. McK^nley bị trÌng ǹạn vào xương ứcBậm của są \u0007Ḵ là đặc đ^ểm dễ nhẋn b^ết nhỞ\u0007 của loà^. Nó bắ\u0007 ǹầu \u0013há\u0007 \u0007r^ển 4h^ sƝ \u0007Ḵ 4hoảng mộ\u0007 \u0007uổ^. Màu bờm \u0007hay đổi và \u0007ố^ dần theo \u0007uổi; ng\u0015iên cứu cho \u0007hấy màu sắc và 4𰀴ch \u0007hước của nó bị ảnh hưởng bở^ các yếu tố môi \u0007rường như nhiệt độ ýô^ trưậng trNgày 2 tháng 1 năm 1861, Nhà vua Ìr^edrich W^lhelm IV 4hông có con nố^, \u0011oàngÐ\u0007há^ đệ (nh^ế\u0013 chínhgtừ 1858), lên 4ế thừa hoàng vị, xưng là Vua Wilhelm I. Ìr^edr^ch được \u0007ấn ch땯ng làm zoàng \u0007hái \u0007Ḵ nhưng vị ࠇhế của ông \u0007rong \u0007r^ều c𰅞ng 4hông ǹ𰆰ợc nâng lên bMộ\u0007 \u0007háng sau, ông được rḴa \u0007ộ^ mộ\u0007 lần nảa tạ𰁞 Norࡦol4 \u0011ouse, cŞng bởi mec4er. Nh𱻯ng n퍧ưậi đỡ đḒu của ông bao gồm Vua ͣủa Thụy Đ^ển (\u0007hông qua ǹự𰁩 d^ện là Lord B𰁡l\u0007imore), cậu của ông, rông \u0007ước Saxe-Go\u0007ha (\u0007hông Lua ǹại diện là Lord rarnarvon) và bà cô zEdard chợc chắn nhảng năng lắc của mình là độ\u0013 nhất. rhàng là ngườ^ có \u0007ốc độ nhanh nhấ\u0007 trong g^a đình. ró \u0007hể là mộ\u0007 4ế\u0007 Luả của năng lực \u0007hấu h^ểu ngƝờ^ 4hác ¬h^ c𰃲n sống, Edard có \u0007hể đṠc được suy nghĩ củ𰁡 \u001eấ\u0007 cứ a^ trong bán 44nh và^ dặý; nhưng chànGrace Steart (N^cole K^dman) là một bà mẹ sùng ǹạo rông giáo, sṢng cùng hai con nhḪ \u0007rong mộ\u0007 căn nhà hẻo lánh \u0007ạ𰁞 Anh Luốc \u0007rong 4hoảng /hời g^an hậu rhiến tranh thế g^ới \u0007hứ ha^. rác con của cô, Anne (Ala4^na Mann) và N^cho;as (James /en\u0007ley), đều mắc crh4nh \u0013hủ Trung Luốc nhắm \u0007ớ^ v^ệc đánh giá mức ǹộ đáng \u0007^n và mức độ \u0007uân thủ của mỗi ngườ^. Dữ l𰁩ệu sẽ đến \u0007ừ 5ác \u0007à^ 4hoản cá nhân của ngưậ^ đó và cả các hoự\u0007 đỀng /rên mạng của hṠ. Ýác nhà đ^ều hành webs^\u0007e \u0013ó \u0007hể 4ha^ \u0013há vế\u0007 tch dỷ l^ệu mà ngườ^ dùnmhō \u0011ashi no^ theo lệ cha truyền con nố^ g^ống nhà Minh, xây dựng Naha làm \u0007hƝơng cảng và đóng đô ở thành mhuri. Đến năm 1469, vua Shō To4u qua đậ𰁩 mà 4hông có con 4ế vị; mộ\u0007 lãnh chúa chư hầu tên là Shō En b\u0007n xŢng là con nuô^ của To4u rồi lạ^ \u0013hao rằng cTổng thống George z. W. /ush nhanh chóng \u0007hông báo rằng \u0011oa Kỳ sẽ tung ra mộ\u0007 ch^ến dịch \"bảo vệ \u0007oàn d^ện\" nhằm ngǩn chặn Iraq \u0007ấn công ẘ Rậ\u0013 ê Ú\u0007 – \"Ch^ến dịch Lá chợn sa mạc\" – và quân độ^ \u0011oa Kỳ được chuyḓn tớ^ Ả Rậ\u0013 ê Ú\u0007 ngày 7 tháng 8. Ngày 8 thángEnceladus các\u0015 tâm và bề mặ\u0007 Sao Thổ lần lƝợt là 2q8.00\u000b 4m vh 180.000 4m (bề mặ\u0007 \u00074nh tḩ tầng 4h4 Luyển cao nhấ\u0007 của Sao Thổ). Luỹ đạo của nó nằm ở g^ữa Luỹ đựo của Mimas và Te\u0007hys. Nó Luay một vòng hết q2,9g\u0007𰁩ếng, đủ nhanh đ𱻃 người quan sát \u0007ừ mặt đất cóThá㑮g 2/딲009, Samuel ¬ý hợ\u0013 ǹồng vớ^ Marvel đḓ đóng va^ Nic4 Ìury \u0007rong Ngườ^ Sợ\u0007 2 và những ch^m 4hác, nhƝ ;à một người 4ế\u0007 㑮ố^ các nhân vật. Tháng 9/2009, EdÃard phát b^ểu anh sẽ trở lự^ với va^ zul4 trong ?veͮgers. 땔háng \u0007^ế\u0013 \u0007heo, nhà sàn xuấ\u0007 Jou FavrOn^ lấy bố^ cảnh \u0007hế g^Ự^ vào năm 2032 bị chìm đợm \u0007rong sự loạn lạc và sự ô nh^ễm trầm trṠng đã §𰁩ớ^ hạn sự sống \u0007rong một 4hu vực nhḪ hẹ\u0013. Để giả^ Luyế\u0007 sự suy g^ảm 4^nh \u0007ế \u0007oàn cầu, \u0007ất cả các quốc g^a \u0007rên thế g^ớ^ đã sá\u0007 nhẋp thành mộ\u0007 \u0007ổ chức duy nhấBài này viết về mang như là mộ\u0007 ch^ động vậ\u0007 nha^ lự^ thuộc hṠ HưǱu na^, các nghĩa 4hác xem bà^ Mang (định hƝớng).Mang, còn gṠ^ là hoỹng, 4ỉ, mển hay mễn, làgmộ\u0007 dạng hưǱu, na𰁞 \u0007huộc ch^ Mun\u0007^acus. Mang có lẽ là loại hươu cổ nhấ\u0007 được b^ết đến, xuất h^ệ2 vNovell dắa \u0007rên g^ao thức mựng của ýình \u0007rên erox Netor4 Sys/ems(Nm) vh \u0007ạo ra các /^êu chuẩn của riêng mình \u0007ừ IDP và mPP, đƝḪc đặt \u0007ên lh Interne\u0007or4 Pac4e\u0007 Exchange (IP) và ýeLuenced Pac4et 𰁅xchange (mPX). rác dịc\u0015 vụ f^le và in chựy \u0007rên Ne\u0007Ware rA4shay s^nh ra ở Delhi, Ấn Độgvà lớn lên ở Pe²\u0007h, Tây Úc, nơ^ anh \u0007heo hṠc \u0007rƝờng mco\u0007ch College. Mẹ của ông, mvetha, là mộ\u0007 g^áo sư 4hoa hṠc máy t4nh \u0007ự^ Đựi hṠc Dea4^n. Ven¬a\u0007esh tham dự các lớ\u0013 ħào \u0007ạo ngoự^ Ehóa cho các hṠc s^nh năng 4h^ếu trong chươngCác nhà sḴ hṠc lu/arch, Accian và Ìlorus đều cho rằng ý\u0013ar\u0007acus ǹ* chết \u0007rong \u0007rận ch𰁩ến. Tuy nh^ên, A\u0013\u0013^an cŞng báo cáo rằng xác của ông \u0007a chưa bao g^ậ đưḪc \u0007ìm thấy. máu ngàn ng𰆰ṃ^ sống só\u0007 của nhóm ph^ến quân bị bắ\u0007 g𰁩ả bở^ Crassus và bị đóng ǹ^nh vàoLà một loạ^ động vật nh^ệ\u0007 đới, mṷn 4hông \u0013ó chu ¬ỳ động dục \u0007heo mùa \u0007hời \u0007^ết nên 4h^ chuyẏn sang các 4hu vắc ôn đớ^ có \u0007hể cho g^ao \u0013hố^ ở bấ\u0007 4ỳ thậ^ g^an nho \u0007rong năm. Mang đực có các gạc ngắn có thể ýṠc lḐ^ nhưng có xu \u0007ướng cắn xé nhau bằng răng (cüim Jong-un là ngƝờ^ thứ hai \u0007rong ba ngườ^ con của Ko Yong-hì^ và Kim Jong-il; anh tra^ ông K^m Jong-chul s^nh năm 1981, trong 4h^ em gá^ ông, K^m Yo-jong, ǹược cho là s^nh năm 1987.Theo báo cáo được công bố lần đầu t^ên \u0007rên các tờ báo \u0013ủa Nhẋt Bản, ông Tḩ thế ¬ụ II đến thế 4ả XIV, Togo là nĐi d^ cư ǹến củ땡 bộ lực 𰁅ve đến tḩ lưu vực sông N^ger. Từ \u0007hế 4ụ XV, người BṠ Đào Nha đến lậ\u0013 các \u0007rạm \u0007hông thƝĐng buôn bán ở vùng ven b^ển, rồi đến ngưậi zà Lan và Đan Mạch. V^ệc mua bán nô lệ diễn ra \u0007rong 땳uốt \u0007hế22 tháng 1 n𰄃m 190\u0006 – 9 \u0007háng 11 năm 19\u000b1: Vương \u0007Ḵ Điện hạ Alber\u0007 xứ rornall và Yor4zoàng \u0007Ḵ Albert Lua đời 4hi nào?9 tháng 11 n𰄃m 1901:\u0003Æ\u0003\u0003\u0003\u0003\u0003\u0003\u0003\u0003\u0003ÆÆ\u0003\u0003\u0003Æ\u0003\u0003\u0003\u0003\u0003\u0003\u0003\u0003\u0003\u0003ÆÆ\u0003\u0003\u0003Æ\u0003\u0003\u0003\u0003\u0003\u0003\u0003\u0003\u0003\u0003ÆÆ\u0003\u0003\u0003Æ\u0003\u0003\u0003\u0003\u0003\u0003\u0003\u0003\u0003\u0003ÆÆ\u0003\u0003\u0003Æ\u0003\u0003\u0003\u0003\u0003\u0003\u0003\u0003\u0003\u0003ÆÆ\u0003\u0003\u0003Æ\u0003\u0003\u0003\u0003\u0003\u0003\u0003\u0003\u0003\u0003ÆÆ\u0003\u0003\u0003Æ\u0003\u0003\u0003\u0003\u0003\u0003\u0003\u0003\u0003\u0003ÆÆ\u0003\u0003\u0003Æ\u0003\u0003Kh^ bố mẹ l^ dị vào năm 1976, Jol^e và anh \u0007ra^ sống vớ^ mẹ, ngưậ^ đã \u0007ḳ bḪ ước mơ làm d^ễn v^ên của ch4nh mình ǹể chuyển đến Pal^sades, quận Roc4land, Ne Yor4 cùng ha^ con. Tḩ 4h^ là một ǹứa trẻ, Jol^e t\u0015𰆰ậng xuyên xem chim cùng mẹ và sau này, cô cho biếTrong t퍨ời gian làm G^áo hoàng, xng quy định nhảng ai chịu chức Giám mục \u0013hả^ Lu͡ các chức nhḪ nhƝ g^ữ cḴa, đṠc sách, g^Ìc lễ, \u0007rḩ \u0007à, \u0013hụ chó tế, \u0013hó \u0007ế và l𰁩nh mục. Ông cŞng chân ch𰁩a Rôma cho các decons *trợ \u0007ế) và làm mṠ^ sự để có \u0007h娓 để g^:c cho cá \u0007mựgh^ệͮ d^ện của s𰆰 \u0007𱸴 tựi Thác Luân Đôn 4hông l^ên tục, được bổ sung 4hi mộtÐvị vua hoặc ngưậ𰁞 phố^ ngỡu của ông, nhƝ Margare\u0007 xứ Anjou, vợ của \u0011enry VI của Anh, hoặc \u0007ìm 4^ếm hoặc được cho. rác ghi chép cho \u0007hấy động vậ\u0007 \u0007rong Thá\u0013 Luân Đôn źược giả tronÝác nhà̠4hoa hṠc sḴ dụng 44nh h^ển v^ Lué\u0007 chu^ hầm là \u0007hiế\u0007 bị quan sát bề mặ\u0007 vậ\u0007 liệu ở cấc nguy\u000fn tḴ. Nguyên lý hoạt động của nó dựa \u0007rên h^ệu ứng đường hầm l𰆰ợng tḴ, h^ệu ứng cho ché\u0013 các hạ\u0007 đ^ qua rho cản là g^ếng \u0007hế mà về mặ\u0007 \u0007rực g^ác vĩ mô làg4hVào giảa \u0007hế 4ỷ 18, mộ\u0007 loựt các cuộc xung độ\u0007 \u0007huộc địa bắ\u0007 đầu g^ảa Phác và Anh, cuố^ cùng dỡn đến sự \u0007àn \u0013há của hầu hế\u0007 đế chế \u0007huộc địa ǹầu \u0007^ên của Phác vh v^ệc trục xuấ\u0007 gần như hoàn \u0007oàn Phá\u0013 \u0007ừ châu Mỹ. Nhảng cuộ5 ch^ến tranh này là Ch^ến tranh KếNgày 12 tháng 11 năm 2000, cuộc bỏ \u0013hiếu diễn ra \u0007ạ^ /usan, zàn Luốc, \u0007hành \u0013hố \u0007ổ chức Đựi hộ^ Thể thao châu Á 200. 41 \u0007hành v^ên của zộ^ đỉng Olymp^c châu Á (OrA) được quyền \u001eầu và cuộc bḪ ch^ếu diễn ra trong ba vòng, mỗ^ vòng loựi mộ\u0007 ứng cḴ v^ên. Sau John W^lliam Ýol\u0007rane, c¯n ǹược nhợc đến vớ^ \u0007ên \"Trane\" (2q \u0007háng 9 năm 1926 – 17 tháng 㐷 năm 1967Ö, là một nhực công saxochone và nhà soạn nhực ja)z. Vào ¬hoảng thời g^an đầu sự ngh^ệ\u0013, rol\u0007rane chủ yếu chơ^ bebo\u0013 và ha²d bo𰁰, ông \u0007iên \u0013hong việc dùng moNgày 1 tháng 6, hṠ bợt đầu vớ^ ca 4hÌc đầu \u0007iên \"Us and Them\", sau đó 6 ngày là \"Money\". Wa\u0007ers đã tạo h^ệu ứng \u0007^ếng xèng qu¼ băng thâu \u0007ừ t^ếng nhảng đṠng xu vứ\u0007 vào trong ch^ếc máy xay bằng sứ của vợ, và sau đó ch:ng lự^ ǹược gh^ lạ^ 1 lần nảa theo ¬ỹ \u0007Mặc dù bà 4hông \u0007án thành với nhảng mục \u0007^êu quyền bầu cẏ của chủ nghĩa nỷ quyền cuố^ \u0007hế 4ỷ 19-đầu \u0007hế 4ỷ 20, Goldman nh^ệ\u0007 l^ệ\u0007 cổ vŞ cho Luyền của chụ nữ, và ngày nay được xem như một ngƝờ^ sáng lập nêngchủ nghĩa nỷ quyền vô ch4nh \u0013hủ, \u0007hánh thức chế độEd𰁷ard được m^êu \u0007ả \u0007heo lời /ella là vô cùng Luyến rŞ, lịch \u0007hiệ\u0013, quyết đoán và cứng cḪ^. rhàng luôn cố hết sức bảo vệ Bella và cuộc sống của cô hǱn bấ\u0007 cứ \u0007hứ gì 4hác. rhàng sở hỷu g^Ṡng nói du dưǱng chṞ có ở đầu \u0007hế 4ỉ ha^ mươ^, và vô cùng \u0007ruyền cảm. Thành phố này được đặt tên \u0007heͯ m^r Thomas Br^sbanK là Thống ǹốc Ne mou\u0007h Wales \u0007ừ năm̠1821–182ª. 穔heo lệh của ông, v\u0011ng đấ\u0007 ban źầu hình thành \u0007ṱ ¬hu \u0007huộc địa dành cho những ngườ^ tù nhân 4hổ sa^ vào nǆm 1̸24 tḐ^ Redcl^ffe, c࣡ch đó 28 4m về \u0013h4a bắc. Srác nhà toán hṠc \u0007\u0007ường nỗ lực \u0007hu được sự phân loạ^ (hoặc danh sách) đầy đủ của mṌt 4há^ n^ệm \u0007oán hṠc. Trong \u0007rư𱺭ng hợ\u0013 㑣ác nhóm đơn g^ản hỷu hựn, mục ǹ4ch này nhanh chóng dỦn \u0007ớ^ sự 4hó 4hăn và sự sâu sợc \u0007rong toán hṠc. Theo định lý Lagrange, nhóm hỷu mắ tồn tạ^ của mộ\u0007 vệ t^nh \u0007rong Khoang hở Enc4e lần đầu được dự đoán bở^ Jeffrey N. Ýu)z^ và Jeffrey D. mcargle vào năm 198c, dựa /rên nhảng rìa hunh sóng của 4hoang hở, \u0007hứ gợ^ ra một sự nh^ễu loạn hấ\u0013 dỡn. Vào năm 1986gýhoal\u0007er và đṠng ng\u0007^ệp suy ra đưNovell dắa \u0007rên g^ao thức mựng của ýình \u0007rên erox Netor4 Sys/ems(Nm) vh \u0007ạo ra các /^êu chuẩn của riêng mình \u0007ừ IDP và mPP, đƝḪc đặt \u0007ên lh Interne\u0007or4 Pac4e\u0007 Exchange (IP) và ýeLuenced Pac4et 𰁅xchange (mPX). rác dịc\u0015 vụ f^le và in chựy \u0007rên Ne\u0007Ware rrác \"sở \u0007h:\" châu 𰀐u đầu \u0007iên lan rộng g^ữa các g^a đình quý \u0007ộc và hoàng gia vào \u0007hế 4ỷ 1q, và cho đến thế 4ỷ 17 được gṠi là seragl^os; \u0007ạ^ \u0007hờ^ đ^ểm đó, ch:ng được gṠ^ là menager^es, mộ\u0007 \u0013hần mở rộng của nội các của sự \u0007ò mò. rhúng lan rộng từ Phác và Ý \u0011andler s^nh ra \u0007ạ𰁩 ýan Ìranc^sco,gCal^forn^a, con trai của ýandra )and;er (née Wal\u0013ole), mộ\u0007 \u0007rƝậng cao đẳng thành \u0013hố Ian Ìranc^sco ean đã nghỉ hưu, và Louis 'andler, 4ế \u0007oán v^ên. Ýha của ông là một ngƝờ^ t ref nạn ngƝời Do Thái \u0007ừ Đức, và ông l^ên hệ /radysaurus là \u0007hành v^Án duy nhấ\u0007 của \u0013hân hṠ Bradysaur^nae. Nó là loà^ care^asaur được b^ế\u0007 đến nh^ều nhấ\u0007 và có \u0007hể được co^ là mộ\u0007 loự^ \u0007ổ \u0007iên tố\u0007 mà nhảng ngưậi 4hác \u0013há\u0007 \u0007r^ển.Kích th𰆰ớc lớn của nó cho thấy rằng, ngay cả rấ\u0007 sớm /rong lịch sử tiến hNguyên /hủy, osech𰁩 gṠ^ là o-sech^gvớ^ o là mộ\u0007 \u0007iền /ố 44nh ngả và sechi (節: tiế\u0007) là một mùa; \u0007iếng Việ\u0007 có âm nôm tưĐng đưǱng là \"\u0007ết\". Theo lịch cổ \u0007hì mỖ\u0007 năm có năm (5) se44u (節句: \u0007iế\u0007 câu) và \u0007ết nguyên ňán vốn du nhẋc \u0007Ỗ Trung zoa là một. Trong ba \n",
            "0.860107421875\n"
          ]
        }
      ],
      "source": [
        "# FROM DATASET ################################################################\n",
        "\n",
        "# compute\n",
        "__l = tokun.pipeline.postprocess(IO['vi'][0])\n",
        "__r = tokun.pipeline.postprocess(IO['vi'][1])\n",
        "\n",
        "# print\n",
        "print(__l)\n",
        "print(__r)\n",
        "print(tokun.evaluation.compare(__l, __r))"
      ]
    },
    {
      "cell_type": "code",
      "execution_count": null,
      "metadata": {
        "collapsed": true,
        "id": "eJmv4xjnTH4t"
      },
      "outputs": [],
      "source": [
        "%tensorboard --logdir .logs"
      ]
    },
    {
      "cell_type": "code",
      "execution_count": 112,
      "metadata": {
        "id": "P6KBZcFw8JXo"
      },
      "outputs": [],
      "source": [
        "__std = tf.math.reduce_std(EMBEDDINGS[N_TOKEN_SIZES[-1]]['en'], axis=0)\n",
        "__noise = tf.random.normal(shape=(256,), mean=0., stddev=tf.math.reduce_mean(__std).numpy())"
      ]
    },
    {
      "cell_type": "code",
      "execution_count": 113,
      "metadata": {
        "id": "7ysd903RYTt8",
        "colab": {
          "base_uri": "https://localhost:8080/"
        },
        "outputId": "cbb42e55-5345-45ca-df22-a6a3ee2f18e8"
      },
      "outputs": [
        {
          "output_type": "stream",
          "name": "stdout",
          "text": [
            "Une uni/é lex^cale ou \u0007o4en lexical ou plus simplemen\u0007 to4en est un cou\u0013le com\u0013osé d'un nom e\u0007 d'une valeur octionne;le (e.g. 1q5677).Æ\u0003Æ\u0003\u0003\u0003\u0003Æ\u0003Æ\n",
            "_혡ࠗÐ=!𰁞\u0010͞M)\u0017O𰁿\u0011혗gÄ=Mñl\u0017!gù\u0017O𰃉Ã훢\u0011Ð후ì홍í\u0011u\u001bg!^혢𰁷\u0011혗ý\u0017!ñ홍ñτl\u0017ûM\u0017\u001b\u0010§혽!gÄ혽4\u0011\u0017gÄ\"竭τ\u001b훩ͧdÖ=!g!ÄÆg+ñ穧`Ö혽!\u0017M?𽚢\u0011\u0017u²gw稐𰁞Ä혡!\u0017\u0011ù+gέ+\u0006§.M\u0006Ã횬PPL£혃𰁩©\u0003i^\u0003©穩𰀃\n",
            "땕ne㐠ì^ϩ 퍬홥땸㓩홣ae 후혠/팴e퍮혠࠻\u0017홸^땣a;횹u ͬu퍳혠땳㒩홭pleý\tn ͯ䡅𭍥홮딎estun㒹óuͬ팠홣땯㑉穰o땳é¹홠nͮo퍭혠땥㐐혠dung8a𠏂ࡵࡲ혠땯穴inn홥le̨팮g딮㓐1q67\u0003΄딃펄혃딃㓆𽘃\u0003\n"
          ]
        }
      ],
      "source": [
        "__s = \"\"\"Une unité lexicale ou token lexical ou plus simplement token est un couple composé d'un nom et d'une valeur optionnelle (e.g. 135677).\"\"\"\n",
        "__x = tokun.pipeline.preprocess(__s, token_size=math.prod(N_TOKEN_DIM), expand=N_SEQUENCE_AXIS * [1])\n",
        "__e = tf.cast(MODEL._encoder(__x), dtype=tf.dtypes.float32)\n",
        "\n",
        "print(tokun.pipeline.postprocess(MODEL._decoder(__e)))\n",
        "print(tokun.pipeline.postprocess(MODEL._decoder(__e + 0.4 * __std)))\n",
        "print(tokun.pipeline.postprocess(MODEL._decoder(__e + 0.1 * __noise)))"
      ]
    },
    {
      "cell_type": "code",
      "execution_count": 100,
      "metadata": {
        "id": "66nzoc7m4uvd"
      },
      "outputs": [],
      "source": [
        "__s = \"\"\"[ This program prints \"Hello World!\" and a newline to the screen; its\n",
        "  length is 106 active command characters. [It is not the shortest.]\n",
        "\n",
        "  This loop is an \"initial comment loop\", a simple way of adding a comment\n",
        "  to a BF program such that you don't have to worry about any command\n",
        "  characters. Any \".\", \",\", \"+\", \"-\", \"<\" and \">\" characters are simply\n",
        "  ignored, the \"[\" and \"]\" characters just have to be balanced. This\n",
        "  loop and the commands it contains are ignored because the current cell\n",
        "  defaults to a value of 0; the 0 value causes this loop to be skipped.\n",
        "]\n",
        "++++++++                Set Cell #0 to 8\n",
        "[\n",
        "    >++++               Add 4 to Cell #1; this will always set Cell #1 to 4\n",
        "    [                   as the cell will be cleared by the loop\n",
        "        >++             Add 2 to Cell #2\n",
        "        >+++            Add 3 to Cell #3\n",
        "        >+++            Add 3 to Cell #4\n",
        "        >+              Add 1 to Cell #5\n",
        "        <<<<-           Decrement the loop counter in Cell #1\n",
        "    ]                   Loop until Cell #1 is zero; number of iterations is 4\n",
        "    >+                  Add 1 to Cell #2\n",
        "    >+                  Add 1 to Cell #3\n",
        "    >-                  Subtract 1 from Cell #4\n",
        "    >>+                 Add 1 to Cell #6\n",
        "    [<]                 Move back to the first zero cell you find; this will\n",
        "                        be Cell #1 which was cleared by the previous loop\n",
        "    <-                  Decrement the loop Counter in Cell #0\n",
        "]                       Loop until Cell #0 is zero; number of iterations is 8\n",
        "\n",
        "The result of this is:\n",
        "Cell no :   0   1   2   3   4   5   6\n",
        "Contents:   0   0  72 104  88  32   8\n",
        "Pointer :   ^\n",
        "\n",
        ">>.                     Cell #2 has value 72 which is 'H'\n",
        ">---.                   Subtract 3 from Cell #3 to get 101 which is 'e'\n",
        "+++++++..+++.           Likewise for 'llo' from Cell #3\n",
        ">>.                     Cell #5 is 32 for the space\n",
        "<-.                     Subtract 1 from Cell #4 for 87 to give a 'W'\n",
        "<.                      Cell #3 was set to 'o' from the end of 'Hello'\n",
        "+++.------.--------.    Cell #3 for 'rl' and 'd'\n",
        ">>+.                    Add 1 to Cell #5 gives us an exclamation point\n",
        ">++.                    And finally a newline from Cell #6\"\"\"\n",
        "\n",
        "__x, __e, __p, __y = tokun.pipeline.sample(model=MODEL, text=__s, token_size=math.prod(N_TOKEN_DIM), expand=N_SEQUENCE_AXIS * [1])"
      ]
    },
    {
      "cell_type": "code",
      "execution_count": 101,
      "metadata": {
        "id": "1O86EWCMY7rm",
        "colab": {
          "base_uri": "https://localhost:8080/"
        },
        "outputId": "992c10bb-d0f0-436b-c4a4-1490e4e35831"
      },
      "outputs": [
        {
          "output_type": "execute_result",
          "data": {
            "text/plain": [
              "0.9065207478340174"
            ]
          },
          "metadata": {},
          "execution_count": 101
        }
      ],
      "source": [
        "tokun.evaluation.compare(__s, __y)"
      ]
    },
    {
      "cell_type": "code",
      "execution_count": 102,
      "metadata": {
        "id": "aOZkMtZW813A",
        "colab": {
          "base_uri": "https://localhost:8080/"
        },
        "outputId": "792474e2-5a22-413c-a443-28ac41199af5"
      },
      "outputs": [
        {
          "output_type": "stream",
          "name": "stdout",
          "text": [
            "[ This \u0013rogram \u0013r^n/s \"zello World!\" and a nelineg\u0007o \u0007he screen; 𰁞\u0007s\n",
            "  leng\u0007\u0015 is .06 active command characters. [It ^s not the shortes\u0007.j\n",
            "\n",
            "  Th^s loo\u0013 ^s an \"^n^/^al commen\u0007 loo\u0013\", a simcle way of add^ng a comment\n",
            "  \u0007o a BÌ crogram such ʹha\u0007 you don'\u0007 have \u0007o orry abou\u0007 any command\n",
            "  characters. Any \".\", \",\", \"+\", \"-\", \"<\" and \">\" characters are s^m\u0013ly\n",
            "  ignored, \u0007he \"[\" and \"j\" characters just have to be balanced. Th^s\n",
            "  ;oo\u0013 and \u0007he commands ^t contains 𰁡re 𰁩gnored because \u0007he current cell\n",
            "  defaul/s \u0007o a value of 0; \u0007he 0 value causes \u0007ͨ𰁩s looc \u0007o be s4^p\u0013ed.\n",
            "]\n",
            "\u000e+++++++                met Ýell #0 \u0007o 8\n",
            "[À    >\u000e+++               Add 4 \u0007o rell #1; \u0007his w^ll a¬ays se\u0007 Cell #1 \u0007o ¬\n",
            "    [                   as \u0007he cell Ã^ll be cͬeared by \u0007he loo\u0013\n",
            "        >\u000e+             Add 2 to Cell #2\n",
            "        >\u000e++            Add q \u0007o rell #qÀ        >+++            Add q \u0007o rell #4\n",
            "        >+              Add 1 \u0007o rel; #5À        <<\u0016<-           Decrement \u0007he looc coun/er ^n Cell #1\n",
            "    j                   Looc until Cell #1 ^s )ero; number of itera\u0007^ons 𰁩s 4\n",
            "    >+                  Add 1 to Cell #2\n",
            "    >+                  Add 1 \u0007o Ýell #q\n",
            "    >-                  mub\u0007rac\u0007 1 from rell #4\n",
            "    >>+Ð        g       Add 1 \u0007o rell #6\n",
            "    [<j                 Move bac4 \u0007o \u0007he firs/ 𰁺ero cell you f^nd; \u0007his ^ll\n",
            "                        be (ell #1 hich was cleared by \u0007he crev^ous loo\u0013\n",
            "    <- Ð                Decremen\u0007 \u0007he loop Counter ^n Cell #0\n",
            "]             g         Loo\u0013 un\u0007^l (ell #0 ^s )ero; number of 𰁩/erat^ons is 8\n",
            "\n",
            "The result of th^s is:\n",
            "Cel¬ no :   0   1   2   q   4   ª   6\n",
            "ron\u0007ents:   0   0  72 104  88  ë2   8\n",
            "Po^n\u0007er :   ^\n",
            "\n",
            ">>.     g               Ýell #2 has value 72 wh^ch ^s 'z'\n",
            ">---.                   mub\u0007rac\u0007 q from rell #q \u0007o ge\u0007 1\u000b1 hich ^s 'e'\n",
            "++++++\u000e..+++.           L^4e^se for 'llo' from (ell #q\n",
            ">>.                     rell #5 ^s q2 for \u0007he s\u0013ace\n",
            "<-.                     mu\u001etrac\u0007 1 from Ýell #4 for 87 /o g𰁩ve a 'W'\n",
            "<.                      rell #q as se\u0007 \u0007o 'o' from the end of ''ello'\n",
            "+++.------.--------.    Cell #3 for 'rl' and 'd'\n",
            ">>+.                    Add 1 to Cell #ª gives us an exclama\u0007^on \u0013o^nt\n",
            ">++.                    Andgfinally a newl^ne from rell #6\u0003\u0003\u0003\u0003\u0003\u0003\u0003\u0003\u0003Æ\u0003Æ\u0003\u0003\n"
          ]
        }
      ],
      "source": [
        "print(__y)"
      ]
    },
    {
      "cell_type": "code",
      "execution_count": 106,
      "metadata": {
        "id": "BeTbE8iK4-37"
      },
      "outputs": [],
      "source": []
    }
  ],
  "metadata": {
    "accelerator": "TPU",
    "colab": {
      "gpuType": "V28",
      "machine_shape": "hm",
      "provenance": []
    },
    "kernelspec": {
      "display_name": "Python 3",
      "name": "python3"
    }
  },
  "nbformat": 4,
  "nbformat_minor": 0
}
