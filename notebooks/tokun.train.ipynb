{
  "cells": [
    {
      "cell_type": "markdown",
      "metadata": {
        "id": "3xXM7DoPpds1"
      },
      "source": [
        "## Import deps"
      ]
    },
    {
      "cell_type": "code",
      "execution_count": 22,
      "metadata": {
        "colab": {
          "base_uri": "https://localhost:8080/"
        },
        "id": "W24EKFXaO5yC",
        "outputId": "6c410edc-2d19-4d50-edb1-803f381ee9c3"
      },
      "outputs": [
        {
          "output_type": "stream",
          "name": "stdout",
          "text": [
            "Requirement already satisfied: tensorboard_plugin_profile in /usr/local/lib/python3.10/dist-packages (2.15.1)\n",
            "Requirement already satisfied: mlable in /usr/local/lib/python3.10/dist-packages (0.6.5)\n",
            "Requirement already satisfied: tokun in /usr/local/lib/python3.10/dist-packages (0.9.3)\n",
            "Requirement already satisfied: gviz-api>=1.9.0 in /usr/local/lib/python3.10/dist-packages (from tensorboard_plugin_profile) (1.10.0)\n",
            "Requirement already satisfied: protobuf<5.0.0dev,>=3.19.6 in /usr/local/lib/python3.10/dist-packages (from tensorboard_plugin_profile) (3.20.3)\n",
            "Requirement already satisfied: setuptools>=41.0.0 in /usr/local/lib/python3.10/dist-packages (from tensorboard_plugin_profile) (67.7.2)\n",
            "Requirement already satisfied: six>=1.10.0 in /usr/local/lib/python3.10/dist-packages (from tensorboard_plugin_profile) (1.16.0)\n",
            "Requirement already satisfied: werkzeug>=0.11.15 in /usr/local/lib/python3.10/dist-packages (from tensorboard_plugin_profile) (3.0.3)\n",
            "Requirement already satisfied: tensorflow>=2.15 in /usr/local/lib/python3.10/dist-packages (from mlable) (2.15.0)\n",
            "Requirement already satisfied: tensorflow-datasets>=4.9 in /usr/local/lib/python3.10/dist-packages (from tokun) (4.9.6)\n",
            "Requirement already satisfied: absl-py>=1.0.0 in /usr/local/lib/python3.10/dist-packages (from tensorflow>=2.15->mlable) (1.4.0)\n",
            "Requirement already satisfied: astunparse>=1.6.0 in /usr/local/lib/python3.10/dist-packages (from tensorflow>=2.15->mlable) (1.6.3)\n",
            "Requirement already satisfied: flatbuffers>=23.5.26 in /usr/local/lib/python3.10/dist-packages (from tensorflow>=2.15->mlable) (24.3.25)\n",
            "Requirement already satisfied: gast!=0.5.0,!=0.5.1,!=0.5.2,>=0.2.1 in /usr/local/lib/python3.10/dist-packages (from tensorflow>=2.15->mlable) (0.6.0)\n",
            "Requirement already satisfied: google-pasta>=0.1.1 in /usr/local/lib/python3.10/dist-packages (from tensorflow>=2.15->mlable) (0.2.0)\n",
            "Requirement already satisfied: h5py>=2.9.0 in /usr/local/lib/python3.10/dist-packages (from tensorflow>=2.15->mlable) (3.11.0)\n",
            "Requirement already satisfied: libclang>=13.0.0 in /usr/local/lib/python3.10/dist-packages (from tensorflow>=2.15->mlable) (18.1.1)\n",
            "Requirement already satisfied: ml-dtypes~=0.2.0 in /usr/local/lib/python3.10/dist-packages (from tensorflow>=2.15->mlable) (0.2.0)\n",
            "Requirement already satisfied: numpy<2.0.0,>=1.23.5 in /usr/local/lib/python3.10/dist-packages (from tensorflow>=2.15->mlable) (1.25.2)\n",
            "Requirement already satisfied: opt-einsum>=2.3.2 in /usr/local/lib/python3.10/dist-packages (from tensorflow>=2.15->mlable) (3.3.0)\n",
            "Requirement already satisfied: packaging in /usr/local/lib/python3.10/dist-packages (from tensorflow>=2.15->mlable) (24.1)\n",
            "Requirement already satisfied: termcolor>=1.1.0 in /usr/local/lib/python3.10/dist-packages (from tensorflow>=2.15->mlable) (2.4.0)\n",
            "Requirement already satisfied: typing-extensions>=3.6.6 in /usr/local/lib/python3.10/dist-packages (from tensorflow>=2.15->mlable) (4.12.2)\n",
            "Requirement already satisfied: wrapt<1.15,>=1.11.0 in /usr/local/lib/python3.10/dist-packages (from tensorflow>=2.15->mlable) (1.14.1)\n",
            "Requirement already satisfied: tensorflow-io-gcs-filesystem>=0.23.1 in /usr/local/lib/python3.10/dist-packages (from tensorflow>=2.15->mlable) (0.37.0)\n",
            "Requirement already satisfied: grpcio<2.0,>=1.24.3 in /usr/local/lib/python3.10/dist-packages (from tensorflow>=2.15->mlable) (1.64.1)\n",
            "Requirement already satisfied: tensorboard<2.16,>=2.15 in /usr/local/lib/python3.10/dist-packages (from tensorflow>=2.15->mlable) (2.15.2)\n",
            "Requirement already satisfied: tensorflow-estimator<2.16,>=2.15.0 in /usr/local/lib/python3.10/dist-packages (from tensorflow>=2.15->mlable) (2.15.0)\n",
            "Requirement already satisfied: keras<2.16,>=2.15.0 in /usr/local/lib/python3.10/dist-packages (from tensorflow>=2.15->mlable) (2.15.0)\n",
            "Requirement already satisfied: click in /usr/local/lib/python3.10/dist-packages (from tensorflow-datasets>=4.9->tokun) (8.1.7)\n",
            "Requirement already satisfied: dm-tree in /usr/local/lib/python3.10/dist-packages (from tensorflow-datasets>=4.9->tokun) (0.1.8)\n",
            "Requirement already satisfied: immutabledict in /usr/local/lib/python3.10/dist-packages (from tensorflow-datasets>=4.9->tokun) (4.2.0)\n",
            "Requirement already satisfied: promise in /usr/local/lib/python3.10/dist-packages (from tensorflow-datasets>=4.9->tokun) (2.3)\n",
            "Requirement already satisfied: psutil in /usr/local/lib/python3.10/dist-packages (from tensorflow-datasets>=4.9->tokun) (5.9.5)\n",
            "Requirement already satisfied: pyarrow in /usr/local/lib/python3.10/dist-packages (from tensorflow-datasets>=4.9->tokun) (16.1.0)\n",
            "Requirement already satisfied: requests>=2.19.0 in /usr/local/lib/python3.10/dist-packages (from tensorflow-datasets>=4.9->tokun) (2.31.0)\n",
            "Requirement already satisfied: simple-parsing in /usr/local/lib/python3.10/dist-packages (from tensorflow-datasets>=4.9->tokun) (0.1.5)\n",
            "Requirement already satisfied: tensorflow-metadata in /usr/local/lib/python3.10/dist-packages (from tensorflow-datasets>=4.9->tokun) (1.15.0)\n",
            "Requirement already satisfied: toml in /usr/local/lib/python3.10/dist-packages (from tensorflow-datasets>=4.9->tokun) (0.10.2)\n",
            "Requirement already satisfied: tqdm in /usr/local/lib/python3.10/dist-packages (from tensorflow-datasets>=4.9->tokun) (4.66.4)\n",
            "Requirement already satisfied: array-record>=0.5.0 in /usr/local/lib/python3.10/dist-packages (from tensorflow-datasets>=4.9->tokun) (0.5.1)\n",
            "Requirement already satisfied: etils[enp,epath,epy,etree]>=1.6.0 in /usr/local/lib/python3.10/dist-packages (from tensorflow-datasets>=4.9->tokun) (1.7.0)\n",
            "Requirement already satisfied: MarkupSafe>=2.1.1 in /usr/local/lib/python3.10/dist-packages (from werkzeug>=0.11.15->tensorboard_plugin_profile) (2.1.5)\n",
            "Requirement already satisfied: wheel<1.0,>=0.23.0 in /usr/local/lib/python3.10/dist-packages (from astunparse>=1.6.0->tensorflow>=2.15->mlable) (0.43.0)\n",
            "Requirement already satisfied: fsspec in /usr/local/lib/python3.10/dist-packages (from etils[enp,epath,epy,etree]>=1.6.0->tensorflow-datasets>=4.9->tokun) (2024.6.1)\n",
            "Requirement already satisfied: importlib_resources in /usr/local/lib/python3.10/dist-packages (from etils[enp,epath,epy,etree]>=1.6.0->tensorflow-datasets>=4.9->tokun) (6.4.0)\n",
            "Requirement already satisfied: zipp in /usr/local/lib/python3.10/dist-packages (from etils[enp,epath,epy,etree]>=1.6.0->tensorflow-datasets>=4.9->tokun) (3.19.2)\n",
            "Requirement already satisfied: charset-normalizer<4,>=2 in /usr/local/lib/python3.10/dist-packages (from requests>=2.19.0->tensorflow-datasets>=4.9->tokun) (3.3.2)\n",
            "Requirement already satisfied: idna<4,>=2.5 in /usr/local/lib/python3.10/dist-packages (from requests>=2.19.0->tensorflow-datasets>=4.9->tokun) (3.7)\n",
            "Requirement already satisfied: urllib3<3,>=1.21.1 in /usr/local/lib/python3.10/dist-packages (from requests>=2.19.0->tensorflow-datasets>=4.9->tokun) (2.0.7)\n",
            "Requirement already satisfied: certifi>=2017.4.17 in /usr/local/lib/python3.10/dist-packages (from requests>=2.19.0->tensorflow-datasets>=4.9->tokun) (2024.6.2)\n",
            "Requirement already satisfied: google-auth<3,>=1.6.3 in /usr/local/lib/python3.10/dist-packages (from tensorboard<2.16,>=2.15->tensorflow>=2.15->mlable) (2.27.0)\n",
            "Requirement already satisfied: google-auth-oauthlib<2,>=0.5 in /usr/local/lib/python3.10/dist-packages (from tensorboard<2.16,>=2.15->tensorflow>=2.15->mlable) (1.2.0)\n",
            "Requirement already satisfied: markdown>=2.6.8 in /usr/local/lib/python3.10/dist-packages (from tensorboard<2.16,>=2.15->tensorflow>=2.15->mlable) (3.6)\n",
            "Requirement already satisfied: tensorboard-data-server<0.8.0,>=0.7.0 in /usr/local/lib/python3.10/dist-packages (from tensorboard<2.16,>=2.15->tensorflow>=2.15->mlable) (0.7.2)\n",
            "Requirement already satisfied: docstring-parser~=0.15 in /usr/local/lib/python3.10/dist-packages (from simple-parsing->tensorflow-datasets>=4.9->tokun) (0.16)\n",
            "Requirement already satisfied: cachetools<6.0,>=2.0.0 in /usr/local/lib/python3.10/dist-packages (from google-auth<3,>=1.6.3->tensorboard<2.16,>=2.15->tensorflow>=2.15->mlable) (5.3.3)\n",
            "Requirement already satisfied: pyasn1-modules>=0.2.1 in /usr/local/lib/python3.10/dist-packages (from google-auth<3,>=1.6.3->tensorboard<2.16,>=2.15->tensorflow>=2.15->mlable) (0.4.0)\n",
            "Requirement already satisfied: rsa<5,>=3.1.4 in /usr/local/lib/python3.10/dist-packages (from google-auth<3,>=1.6.3->tensorboard<2.16,>=2.15->tensorflow>=2.15->mlable) (4.9)\n",
            "Requirement already satisfied: requests-oauthlib>=0.7.0 in /usr/local/lib/python3.10/dist-packages (from google-auth-oauthlib<2,>=0.5->tensorboard<2.16,>=2.15->tensorflow>=2.15->mlable) (2.0.0)\n",
            "Requirement already satisfied: pyasn1<0.7.0,>=0.4.6 in /usr/local/lib/python3.10/dist-packages (from pyasn1-modules>=0.2.1->google-auth<3,>=1.6.3->tensorboard<2.16,>=2.15->tensorflow>=2.15->mlable) (0.6.0)\n",
            "Requirement already satisfied: oauthlib>=3.0.0 in /usr/local/lib/python3.10/dist-packages (from requests-oauthlib>=0.7.0->google-auth-oauthlib<2,>=0.5->tensorboard<2.16,>=2.15->tensorflow>=2.15->mlable) (3.2.2)\n"
          ]
        }
      ],
      "source": [
        "!pip install -U tensorboard_plugin_profile mlable tokun"
      ]
    },
    {
      "cell_type": "code",
      "execution_count": 23,
      "metadata": {
        "id": "W6x6jSIuGHfm",
        "colab": {
          "base_uri": "https://localhost:8080/"
        },
        "outputId": "e71c9c7c-c2e2-4497-b675-3ab8ba4a7f6d"
      },
      "outputs": [
        {
          "output_type": "stream",
          "name": "stdout",
          "text": [
            "The tensorboard extension is already loaded. To reload it, use:\n",
            "  %reload_ext tensorboard\n"
          ]
        }
      ],
      "source": [
        "%load_ext tensorboard"
      ]
    },
    {
      "cell_type": "code",
      "execution_count": 24,
      "metadata": {
        "id": "VXU-Ebl2pddk"
      },
      "outputs": [],
      "source": [
        "import datetime\n",
        "import functools\n",
        "import itertools\n",
        "import math\n",
        "import os\n",
        "import random\n",
        "import urllib.request\n",
        "\n",
        "import tensorflow as tf\n",
        "import tensorflow_datasets as tfds\n",
        "\n",
        "import mlable.data\n",
        "import mlable.metrics\n",
        "\n",
        "import tokun.data\n",
        "import tokun.evaluation\n",
        "import tokun.meta\n",
        "import tokun.model\n",
        "import tokun.pipeline"
      ]
    },
    {
      "cell_type": "code",
      "execution_count": 25,
      "metadata": {
        "colab": {
          "base_uri": "https://localhost:8080/"
        },
        "id": "Pn1ywhSrpin9",
        "outputId": "88781336-b424-4577-fcd0-9293ee871e24"
      },
      "outputs": [
        {
          "output_type": "stream",
          "name": "stdout",
          "text": [
            "Tensorflow version 2.15.0\n"
          ]
        }
      ],
      "source": [
        "print(\"Tensorflow version \" + tf.__version__)"
      ]
    },
    {
      "cell_type": "markdown",
      "metadata": {
        "id": "_pQCOmISAQBu"
      },
      "source": [
        "## Setup the GPU / TPU"
      ]
    },
    {
      "cell_type": "code",
      "execution_count": 5,
      "metadata": {
        "id": "AWMvVNSAJK_n"
      },
      "outputs": [],
      "source": [
        "# MIXED PRECISION #############################################################\n",
        "\n",
        "tf.keras.mixed_precision.set_global_policy('mixed_bfloat16')"
      ]
    },
    {
      "cell_type": "code",
      "execution_count": 6,
      "metadata": {
        "colab": {
          "base_uri": "https://localhost:8080/"
        },
        "id": "vFIMfPmgQa0h",
        "outputId": "8669bee9-181b-41cb-aba9-6c34dbcb9819"
      },
      "outputs": [
        {
          "output_type": "stream",
          "name": "stdout",
          "text": [
            "<tensorflow.python.distribute.tpu_strategy.TPUStrategyV2 object at 0x7a553c3929b0>\n"
          ]
        }
      ],
      "source": [
        "# DEVICES #####################################################################\n",
        "\n",
        "tf.debugging.set_log_device_placement(False)\n",
        "\n",
        "CPU = tf.config.list_logical_devices('CPU')\n",
        "GPU = tf.config.list_logical_devices('GPU')\n",
        "TPU = tf.config.list_logical_devices('TPU')\n",
        "\n",
        "if TPU:\n",
        "    RESOLVER = tf.distribute.cluster_resolver.TPUClusterResolver()\n",
        "    tf.config.experimental_connect_to_cluster(RESOLVER)\n",
        "    tf.tpu.experimental.initialize_tpu_system(RESOLVER)\n",
        "    DISTRIBUTION_STRATEGY = tf.distribute.TPUStrategy(RESOLVER)\n",
        "elif GPU:\n",
        "    DISTRIBUTION_STRATEGY = tf.distribute.MirroredStrategy(GPU)\n",
        "else:\n",
        "    DISTRIBUTION_STRATEGY = tf.distribute.MirroredStrategy(CPU)\n",
        "\n",
        "print(DISTRIBUTION_STRATEGY)"
      ]
    },
    {
      "cell_type": "markdown",
      "metadata": {
        "id": "f9066X5EOyAX"
      },
      "source": [
        "## Mode"
      ]
    },
    {
      "cell_type": "code",
      "execution_count": 55,
      "metadata": {
        "id": "lFSPMtQaO1fu"
      },
      "outputs": [],
      "source": [
        "# TOGGLE ######################################################################\n",
        "\n",
        "IMPORT = False\n",
        "TRAINING = True\n",
        "RANDOM = True"
      ]
    },
    {
      "cell_type": "markdown",
      "metadata": {
        "id": "0t1jfsJlM3SX"
      },
      "source": [
        "## Defining The Metadata"
      ]
    },
    {
      "cell_type": "code",
      "execution_count": 56,
      "metadata": {
        "id": "8Z74MlibMWnu"
      },
      "outputs": [],
      "source": [
        "# MODEL PARAMETERS ############################################################\n",
        "\n",
        "N_SEQUENCE_AXIS = 1\n",
        "N_FEATURE_AXIS = -1\n",
        "\n",
        "N_TOKEN_DIM = [4, 16] # G, for each block\n",
        "N_ENCODING_DIM = 256 # U\n",
        "N_EMBEDDING_DIM = N_ENCODING_DIM # E"
      ]
    },
    {
      "cell_type": "code",
      "execution_count": 57,
      "metadata": {
        "id": "21J7WEkhSwph"
      },
      "outputs": [],
      "source": [
        "# TRAINING PARAMETERS #########################################################\n",
        "\n",
        "N_EPOCHS = 8\n",
        "\n",
        "N_BATCH_DIM = 128 # number of samples per batch\n",
        "N_SAMPLE_DIM = 256 # number of characters per sample (=> 4 * N_SAMPLE_DIM integers per sample)\n",
        "\n",
        "R_0, B_1, B_2 = tokun.meta.rates(pretrained=IMPORT, normalization=True, base=0.001)\n",
        "\n",
        "CLASS_WEIGHTS = {__c: 0.3 if __c == 0 else 1. for __c in range(N_ENCODING_DIM)} # there are 3 times more 0s than other bytes"
      ]
    },
    {
      "cell_type": "code",
      "execution_count": 58,
      "metadata": {
        "id": "jm6y63XRBz07"
      },
      "outputs": [],
      "source": [
        "# DERIVED #####################################################################\n",
        "\n",
        "N_TOKEN_SIZES = list(itertools.accumulate(N_TOKEN_DIM, lambda x, y: x * y)) # in bytes\n",
        "N_OFFSET_TICKS = [2 ** __i for __i in range(int(math.log(N_TOKEN_SIZES[-1] // 4, 2)))] # in characters\n",
        "\n",
        "VERSION = tokun.meta.version(units=N_TOKEN_DIM, axis=N_SEQUENCE_AXIS)\n",
        "DATETIME = datetime.datetime.now().strftime(\"%Y%m%d-%H%M%S\")"
      ]
    },
    {
      "cell_type": "code",
      "execution_count": 59,
      "metadata": {
        "id": "xfIZb86Fg0dQ"
      },
      "outputs": [],
      "source": [
        "# IMPORT ######################################################################\n",
        "\n",
        "LABEL = '7.3'\n",
        "URL_IMPORT = 'https://github.com/apehex/tokun/raw/main/models/{}/{}/{}.keras'.format(*VERSION, LABEL)\n",
        "PATH_IMPORT = 'model.keras'\n",
        "\n",
        "if IMPORT:\n",
        "    urllib.request.urlretrieve(URL_IMPORT, PATH_IMPORT)"
      ]
    },
    {
      "cell_type": "code",
      "execution_count": 60,
      "metadata": {
        "id": "m88JtcyGiSZ1"
      },
      "outputs": [],
      "source": [
        "# EXPORT ######################################################################\n",
        "\n",
        "PATH_LOG = os.path.join('.logs/', *VERSION, DATETIME)\n",
        "PATH_EXPORT = 'model.keras'"
      ]
    },
    {
      "cell_type": "markdown",
      "metadata": {
        "id": "dEyFtkcFNGe4"
      },
      "source": [
        "## Loading The Data"
      ]
    },
    {
      "cell_type": "code",
      "execution_count": 61,
      "metadata": {
        "id": "rTK1MPV8qek5"
      },
      "outputs": [],
      "source": [
        "# RANDOM DATASET ##############################################################\n",
        "\n",
        "RANDOM_TRAIN = tokun.data.random_dataset(size=N_BATCH_DIM * 2**10, sample_size=N_SAMPLE_DIM, lower_plane=0, upper_plane=0x40000)\n",
        "RANDOM_TEST = tokun.data.random_dataset(size=N_BATCH_DIM * 2**8, sample_size=N_SAMPLE_DIM, lower_plane=0, upper_plane=0x40000)"
      ]
    },
    {
      "cell_type": "code",
      "execution_count": 62,
      "metadata": {
        "id": "4a3SQUQHNJ6M"
      },
      "outputs": [],
      "source": [
        "# MLQA DATASET ################################################################\n",
        "\n",
        "LANG = ['ar', 'de', 'en', 'es', 'hi', 'vi', 'zh']\n",
        "MLQA_TRAIN = {__l: tfds.load('mlqa/' + __l, split='test', as_supervised=False, shuffle_files=True, data_dir='~/.cache/tensorflow/', batch_size=None) for __l in LANG}\n",
        "MLQA_TEST = {__l: tfds.load('mlqa/' + __l, split='validation', as_supervised=False, shuffle_files=True, data_dir='~/.cache/tensorflow/', batch_size=None) for __l in LANG}"
      ]
    },
    {
      "cell_type": "markdown",
      "metadata": {
        "id": "8cheN52OEchs"
      },
      "source": [
        "## Preprocess"
      ]
    },
    {
      "cell_type": "code",
      "execution_count": 63,
      "metadata": {
        "id": "Gp2WitYVhs8I"
      },
      "outputs": [],
      "source": [
        "# MLQA ########################################################################\n",
        "\n",
        "PIPELINE = [\n",
        "    # join the features\n",
        "    ((lambda x: tf.strings.join(inputs=[x['context'], x['question'], x['answers']['text']], separator='\\u001d')), True),\n",
        "    # offset by 1 to 15 character => (1,) scalar bytes\n",
        "    *[(functools.partial(tokun.pipeline.offset, ticks=__t), False) for __t in N_OFFSET_TICKS], # (offsets 0, ..., (2 ^ i) - 1) + (offsets 2 ^ i, ..., 2 ^ (i+1) - 1)\n",
        "    # encode => (4 * S,) int (4 UTF-32 bytes per character)\n",
        "    (functools.partial(tokun.pipeline.encode, token_size=N_TOKEN_SIZES[-1], sample_size=N_SAMPLE_DIM), True),\n",
        "    # reshape => (4 * S,) int\n",
        "    (functools.partial(tf.reshape, shape=(4 * N_SAMPLE_DIM,)), True),\n",
        "    # one-hot encoding for the targets => (4 * S, E) int (bool)\n",
        "    ((lambda x: (x, tf.one_hot(x, depth=N_ENCODING_DIM, axis=-1))), True)]\n",
        "\n",
        "OPERATIONS, REPLACE = zip(*PIPELINE)\n",
        "\n",
        "MLQA_TRAIN = {__l: mlable.data.process(dataset=__d, pipeline=OPERATIONS, replace=REPLACE) for __l, __d in MLQA_TRAIN.items()}\n",
        "MLQA_TEST = {__l: mlable.data.process(dataset=__d, pipeline=OPERATIONS, replace=REPLACE) for __l, __d in MLQA_TEST.items()}"
      ]
    },
    {
      "cell_type": "code",
      "execution_count": 64,
      "metadata": {
        "id": "RmPWQV6GzkFb"
      },
      "outputs": [],
      "source": [
        "# RANDOM ######################################################################\n",
        "\n",
        "PIPELINE = [\n",
        "    # reshape each sample => (4 * S,) int\n",
        "    (functools.partial(tf.reshape, shape=(4 * N_SAMPLE_DIM,)), True),\n",
        "    # one-hot encoding for the targets => (4 * S, E) int (bool)\n",
        "    ((lambda x: (x, tf.one_hot(x, depth=N_ENCODING_DIM, axis=-1))), True)]\n",
        "\n",
        "OPERATIONS, REPLACE = zip(*PIPELINE)\n",
        "\n",
        "RANDOM_TRAIN = mlable.data.process(dataset=RANDOM_TRAIN, pipeline=OPERATIONS, replace=REPLACE)\n",
        "RANDOM_TEST = mlable.data.process(dataset=RANDOM_TEST, pipeline=OPERATIONS, replace=REPLACE)"
      ]
    },
    {
      "cell_type": "code",
      "execution_count": 65,
      "metadata": {
        "id": "wnzCjLkrlI8d"
      },
      "outputs": [],
      "source": [
        "# TOGGLE ######################################################################\n",
        "\n",
        "DATASET_TRAIN = RANDOM_TRAIN if RANDOM else MLQA_TRAIN['ar'].concatenate(MLQA_TRAIN['en']).concatenate(MLQA_TRAIN['es']).concatenate(MLQA_TRAIN['de']).concatenate(MLQA_TRAIN['hi']).concatenate(MLQA_TRAIN['vi']).concatenate(MLQA_TRAIN['zh'])\n",
        "DATASET_TEST = MLQA_TEST['ar'].concatenate(MLQA_TEST['en']).concatenate(MLQA_TEST['es']).concatenate(MLQA_TEST['de']).concatenate(MLQA_TEST['hi']).concatenate(MLQA_TEST['vi']).concatenate(MLQA_TEST['zh'])"
      ]
    },
    {
      "cell_type": "code",
      "execution_count": 66,
      "metadata": {
        "colab": {
          "base_uri": "https://localhost:8080/"
        },
        "id": "VQ3quJQ4EUKf",
        "outputId": "cc032183-1192-4fe1-9fc4-b3b71b51a71d"
      },
      "outputs": [
        {
          "output_type": "stream",
          "name": "stdout",
          "text": [
            "(TensorSpec(shape=(1024,), dtype=tf.int32, name=None), TensorSpec(shape=(1024, 256), dtype=tf.float32, name=None))\n",
            "(TensorSpec(shape=(1024,), dtype=tf.int32, name=None), TensorSpec(shape=(1024, 256), dtype=tf.float32, name=None))\n",
            "(TensorSpec(shape=(1024,), dtype=tf.int32, name=None), TensorSpec(shape=(1024, 256), dtype=tf.float32, name=None))\n",
            "(TensorSpec(shape=(1024,), dtype=tf.uint8, name=None), TensorSpec(shape=(1024, 256), dtype=tf.float32, name=None))\n",
            "train: -2\n",
            "test:  67,184\n"
          ]
        }
      ],
      "source": [
        "# INSPECT #####################################################################\n",
        "\n",
        "print(RANDOM_TRAIN.element_spec)\n",
        "print(RANDOM_TEST.element_spec)\n",
        "\n",
        "print(DATASET_TRAIN.element_spec)\n",
        "print(DATASET_TEST.element_spec)\n",
        "\n",
        "print('train: {:,}'.format(DATASET_TRAIN.cardinality().numpy()))\n",
        "print('test:  {:,}'.format(DATASET_TEST.cardinality().numpy()))"
      ]
    },
    {
      "cell_type": "markdown",
      "metadata": {
        "id": "VbkaXey44V5Q"
      },
      "source": [
        "## Init The Model"
      ]
    },
    {
      "cell_type": "code",
      "execution_count": 67,
      "metadata": {
        "id": "iEpY1-vFIFX7"
      },
      "outputs": [],
      "source": [
        "# COMPILE ########################################################################\n",
        "\n",
        "with DISTRIBUTION_STRATEGY.scope():\n",
        "    # metrics\n",
        "    byte_accuracy = mlable.metrics.CategoricalGroupAccuracy(group=1, name='byte_accuracy')\n",
        "    character_accuracy = mlable.metrics.CategoricalGroupAccuracy(group=4, name='character_accuracy')\n",
        "    token_accuracy = mlable.metrics.CategoricalGroupAccuracy(group=N_TOKEN_SIZES[-1], name='token_accuracy')\n",
        "    # weights\n",
        "    MODEL = tokun.model.AutoEncoder(sequence_axis=N_SEQUENCE_AXIS, feature_axis=N_FEATURE_AXIS, token_dim=N_TOKEN_DIM, encoding_dim=N_ENCODING_DIM, embedding_dim=N_EMBEDDING_DIM, activation='gelu')\n",
        "    if IMPORT and os.path.isfile(PATH_IMPORT): MODEL = tf.keras.models.load_model(PATH_IMPORT, compile=False)\n",
        "    # compile\n",
        "    MODEL.compile(\n",
        "        optimizer=tf.keras.optimizers.Adam(learning_rate=R_0, beta_1=B_1, beta_2=B_2),\n",
        "        loss=tf.keras.losses.CategoricalCrossentropy(from_logits=False, label_smoothing=0., axis=-1, reduction='sum_over_batch_size', name='cce_loss'),\n",
        "        metrics=[byte_accuracy, character_accuracy, token_accuracy])"
      ]
    },
    {
      "cell_type": "markdown",
      "metadata": {
        "id": "jRkNkXthBwar"
      },
      "source": [
        "## Train"
      ]
    },
    {
      "cell_type": "code",
      "execution_count": null,
      "metadata": {
        "colab": {
          "base_uri": "https://localhost:8080/"
        },
        "id": "beTpALmzFdu1",
        "outputId": "616ba6ec-1e83-42a0-881c-b2ba87a83b24"
      },
      "outputs": [
        {
          "output_type": "stream",
          "name": "stdout",
          "text": [
            "Epoch 1/8\n",
            "   1024/Unknown - 102s 90ms/step - loss: 1.9310 - byte_accuracy: 0.6085 - character_accuracy: 0.1395 - token_accuracy: 4.5776e-05\n",
            "Epoch 1: saving model to model.keras\n",
            "1024/1024 [==============================] - 141s 128ms/step - loss: 1.9310 - byte_accuracy: 0.6085 - character_accuracy: 0.1395 - token_accuracy: 4.5776e-05 - val_loss: 1.0942 - val_byte_accuracy: 0.7840 - val_character_accuracy: 0.2030 - val_token_accuracy: 1.1815e-04\n",
            "Epoch 2/8\n",
            "1024/1024 [==============================] - ETA: 0s - loss: 0.2171 - byte_accuracy: 0.9757 - character_accuracy: 0.9146 - token_accuracy: 0.5662\n",
            "Epoch 2: saving model to model.keras\n",
            "1024/1024 [==============================] - 127s 124ms/step - loss: 0.2171 - byte_accuracy: 0.9757 - character_accuracy: 0.9146 - token_accuracy: 0.5662 - val_loss: 0.0617 - val_byte_accuracy: 0.9941 - val_character_accuracy: 0.9765 - val_token_accuracy: 0.6877\n",
            "Epoch 3/8\n",
            "1024/1024 [==============================] - ETA: 0s - loss: 0.1353 - byte_accuracy: 0.9830 - character_accuracy: 0.9550 - token_accuracy: 0.8776\n",
            "Epoch 3: saving model to model.keras\n",
            "1024/1024 [==============================] - 128s 125ms/step - loss: 0.1353 - byte_accuracy: 0.9830 - character_accuracy: 0.9550 - token_accuracy: 0.8776 - val_loss: 0.0104 - val_byte_accuracy: 0.9999 - val_character_accuracy: 0.9996 - val_token_accuracy: 0.9940\n",
            "Epoch 4/8\n",
            "1024/1024 [==============================] - ETA: 0s - loss: 0.0647 - byte_accuracy: 0.9915 - character_accuracy: 0.9783 - token_accuracy: 0.9485\n",
            "Epoch 4: saving model to model.keras\n",
            "1024/1024 [==============================] - 128s 125ms/step - loss: 0.0647 - byte_accuracy: 0.9915 - character_accuracy: 0.9783 - token_accuracy: 0.9485 - val_loss: 0.0025 - val_byte_accuracy: 1.0000 - val_character_accuracy: 1.0000 - val_token_accuracy: 0.9998\n",
            "Epoch 5/8\n",
            "1024/1024 [==============================] - ETA: 0s - loss: 0.0497 - byte_accuracy: 0.9931 - character_accuracy: 0.9821 - token_accuracy: 0.9599\n",
            "Epoch 5: saving model to model.keras\n",
            "1024/1024 [==============================] - 127s 124ms/step - loss: 0.0497 - byte_accuracy: 0.9931 - character_accuracy: 0.9821 - token_accuracy: 0.9599 - val_loss: 0.0012 - val_byte_accuracy: 1.0000 - val_character_accuracy: 1.0000 - val_token_accuracy: 0.9999\n",
            "Epoch 6/8\n",
            "1024/1024 [==============================] - ETA: 0s - loss: 0.0394 - byte_accuracy: 0.9945 - character_accuracy: 0.9847 - token_accuracy: 0.9510\n",
            "Epoch 6: saving model to model.keras\n",
            "1024/1024 [==============================] - 128s 125ms/step - loss: 0.0394 - byte_accuracy: 0.9945 - character_accuracy: 0.9847 - token_accuracy: 0.9510 - val_loss: 5.1746e-04 - val_byte_accuracy: 1.0000 - val_character_accuracy: 1.0000 - val_token_accuracy: 0.9999\n",
            "Epoch 7/8\n",
            " 143/1024 [===>..........................] - ETA: 1:22 - loss: 0.2183 - byte_accuracy: 0.9662 - character_accuracy: 0.9064 - token_accuracy: 0.7218"
          ]
        }
      ],
      "source": [
        "# TRAIN #######################################################################\n",
        "\n",
        "if TRAINING:\n",
        "    with DISTRIBUTION_STRATEGY.scope():\n",
        "        # callbacks\n",
        "        cp_callback = tf.keras.callbacks.ModelCheckpoint(PATH_EXPORT, monitor='val_loss', verbose=1, save_best_only=False, save_weights_only=False, mode='auto', save_freq='epoch')\n",
        "        tb_callback = tf.keras.callbacks.TensorBoard(log_dir=PATH_LOG, histogram_freq=1, embeddings_freq=0, profile_batch=(16, 32), write_graph=False, write_images=True)\n",
        "        # fit model\n",
        "        TRAINING_HISTORY = MODEL.fit(\n",
        "            x=DATASET_TRAIN.batch(N_BATCH_DIM).prefetch(tf.data.AUTOTUNE),\n",
        "            batch_size=None,\n",
        "            epochs=N_EPOCHS,\n",
        "            validation_split=None,\n",
        "            validation_data=DATASET_TEST.batch(N_BATCH_DIM).prefetch(tf.data.AUTOTUNE),\n",
        "            validation_freq=list(range(1, N_EPOCHS + 1, 1)),\n",
        "            class_weight=CLASS_WEIGHTS,\n",
        "            verbose=1,\n",
        "            callbacks=[cp_callback, tb_callback])"
      ]
    },
    {
      "cell_type": "code",
      "execution_count": null,
      "metadata": {
        "id": "EuRwWdjpPQBM"
      },
      "outputs": [],
      "source": [
        "MODEL.summary()"
      ]
    },
    {
      "cell_type": "markdown",
      "metadata": {
        "id": "NMqMBhAidTZ9"
      },
      "source": [
        "## Export"
      ]
    },
    {
      "cell_type": "code",
      "execution_count": null,
      "metadata": {
        "id": "00maJbmdeeBi"
      },
      "outputs": [],
      "source": [
        "# SAMPLES #####################################################################\n",
        "\n",
        "IO = {}\n",
        "TOKENS = {__i: {} for __i in N_TOKEN_SIZES} # length in bytes\n",
        "EMBEDDINGS = {__i: {} for __i in N_TOKEN_SIZES} # same\n",
        "\n",
        "for __lang, __dataset in MLQA_TEST.items():\n",
        "    # compute predictions\n",
        "    __batch = iter(__dataset.batch(N_BATCH_DIM)) # iterate over batches of samples\n",
        "    __inputs, __targets = next(__batch)\n",
        "    __outputs = MODEL(__inputs)\n",
        "    # sample predictions (targets, preditions)\n",
        "    IO[__lang] = (__targets, __outputs)"
      ]
    },
    {
      "cell_type": "code",
      "execution_count": null,
      "metadata": {
        "id": "3SIXwdQb1BPA"
      },
      "outputs": [],
      "source": [
        "# TOKENS ######################################################################\n",
        "\n",
        "# unique (G ^ i)-tokens\n",
        "for __lang, __sample in IO.items():\n",
        "    for __size in TOKENS:\n",
        "        TOKENS[__size][__lang] = tokun.pipeline.chunk(seq=tokun.pipeline.postprocess(__sample[0]), size=__size // 4, repeats=False)\n",
        "\n",
        "# unique tokens, for all languages\n",
        "for __size in TOKENS:\n",
        "    TOKENS[__size]['all'] = list(set(__t for _, __s in TOKENS[__size].items() for __t in __s))"
      ]
    },
    {
      "cell_type": "code",
      "execution_count": null,
      "metadata": {
        "id": "tuIEmJcDVk71"
      },
      "outputs": [],
      "source": [
        "# EMBEDDINGS ##################################################################\n",
        "\n",
        "for __depth, __size in enumerate(N_TOKEN_SIZES):\n",
        "    for __lang, __tokens in TOKENS[__size].items():\n",
        "        # re-encode without token repeats\n",
        "        __input = tokun.pipeline.preprocess(text=''.join(__tokens), token_size=math.prod(N_TOKEN_DIM), expand=N_SEQUENCE_AXIS * [1])\n",
        "        # UTF-32 embedding\n",
        "        __embedding = MODEL._encoder._encoder.layers[0](__input)\n",
        "        # iterative CNN tokenization\n",
        "        for __i in range(__depth + 1):\n",
        "            __embedding = MODEL._encoder._encoder.layers[__i + 1](__embedding)\n",
        "        # mixed precision: bfloat16 => float32\n",
        "        __embedding = tf.cast(__embedding, dtype=tf.dtypes.float32)\n",
        "        # remove the (tokenized) padding\n",
        "        EMBEDDINGS[__size][__lang] = tf.squeeze(__embedding)[:len(__tokens)] # TODO squeeze?"
      ]
    },
    {
      "cell_type": "code",
      "execution_count": null,
      "metadata": {
        "id": "9GIVWLr2Rblq"
      },
      "outputs": [],
      "source": [
        "# NEIGHBORHOODS ###############################################################\n",
        "\n",
        "__unit = N_TOKEN_SIZES[-1]\n",
        "__count = 256\n",
        "\n",
        "TOKENS['local'] = {'all': []}\n",
        "EMBEDDINGS['local'] = {'all': []}\n",
        "\n",
        "for __lang, __tokens in TOKENS[__unit].items():\n",
        "    # stats on the embeddings for the current language\n",
        "    __std = tf.math.reduce_std(EMBEDDINGS[__unit][__lang], axis=1, keepdims=True)\n",
        "    __radius = 2. ** (1 - math.log(__unit, 4)) * tf.reduce_mean(__std).numpy()\n",
        "    # choose a single token\n",
        "    __t = tokun.pipeline.preprocess(text=random.choice(__tokens), token_size=math.prod(N_TOKEN_DIM), expand=N_SEQUENCE_AXIS * [1])\n",
        "    # encode it\n",
        "    __e = tf.cast(MODEL._encoder(__t), dtype=tf.dtypes.float32)\n",
        "    # add noise to generate random neighbors\n",
        "    __n = tokun.evaluation.neighbors(point=__e, radius=__radius, count=__count)\n",
        "    # decode the noisy embeddings\n",
        "    __d = MODEL._decoder(__n)\n",
        "    # postprocess\n",
        "    __m = tokun.pipeline.chunk(seq=tokun.pipeline.postprocess(__d), size=__unit // 4, repeats=True)\n",
        "    # save\n",
        "    TOKENS['local']['all'].extend(__m)\n",
        "    EMBEDDINGS['local']['all'].append(tf.squeeze(__n))\n",
        "\n",
        "# merge all the embedding tensors\n",
        "EMBEDDINGS['local']['all'] = tf.concat(values=EMBEDDINGS['local']['all'], axis=0)"
      ]
    },
    {
      "cell_type": "code",
      "execution_count": null,
      "metadata": {
        "id": "fzVnrexqVo5K"
      },
      "outputs": [],
      "source": [
        "# SAVE ########################################################################\n",
        "\n",
        "for __size in TOKENS:\n",
        "    mlable.data.write(data=[__c + ' ' + mlable.data.label(__c) for __c in TOKENS[__size]['all']][:8192], path='./metadata.' + str(__size) + '.label.tsv', tsv=False)\n",
        "    mlable.data.write(data=TOKENS[__size]['all'][:8192], path='./metadata.' + str(__size) + '.tsv', tsv=False)\n",
        "    mlable.data.write(data=EMBEDDINGS[__size]['all'].numpy()[:8192], path='./embeddings.' + str(__size) + '.tsv', tsv=True)"
      ]
    },
    {
      "cell_type": "markdown",
      "metadata": {
        "id": "FHtROW1K1R7c"
      },
      "source": [
        "## Dataviz"
      ]
    },
    {
      "cell_type": "code",
      "execution_count": null,
      "metadata": {
        "id": "EiRVgG-oSfb7"
      },
      "outputs": [],
      "source": [
        "# DATA ########################################################################\n",
        "\n",
        "SAMPLES = [\n",
        "    \"\"\"위키백과, 우리 모두의 백과사전.\\nt-분포 확률적 임베딩(t-SNE)은 데이터의 차원 축소에 사용되는 기계 학습 알고리즘 중 하나로, 2002년 샘 로이스Sam Rowise와 제프리 힌튼에 의해 개발되었다.[1] t-SNE는 비선형 차원 축소 기법으로, 고차원 데이터를 특히 2, 3차원 등으로 줄여 가시화하는데에 유용하게 사용된다. 구체적으로 t-SNE는 비슷한 데이터는 근접한 2, 3차원의 지점으로, 다른 데이터는 멀리 떨어진 지점으로 맵핑한다.\"\"\",\n",
        "    \"\"\"class Encoder(tf.keras.models.Model):\\n    def __init__(self, depth: int, token_dim: int, encoding_dim: int, embedding_dim: int, batch_dim: int=None, attention: bool=False, **kwargs) -> None:\\n        super(Encoder, self).__init__(**kwargs)\\n        self._encoder = tf.keras.Sequential([\\n            tf.keras.Input(shape=(encoding_dim,), batch_size=batch_dim, name='input'), # (B * G ^ D, U)\\n            tf.keras.layers.Dense(units=embedding_dim, activation=None, use_bias=False, kernel_initializer='glorot_uniform', bias_initializer=None, name='embed-1'),] # (B * G ^ D, U) => (B * G ^ D, E)\\n            + [tokun.layers.TokenizeBlock(left_axis=-2, right_axis=-1, token_dim=token_dim, attention=attention, name='tokenize' + (__i + 1) * '-4') for __i in range(depth)]) # (B * G ^ i, E) => (B * G ^ (i-1), E)\\n\\n    def call(self, x: tf.Tensor) -> tf.Tensor:\\n        return self._encoder(x)\\n\"\"\",\n",
        "    \"\"\"class AutoEncoder(tf.keras.models.Model):\\n    def __init__(self, token_dim: int, encoding_dim: int, embedding_dim: int, batch_dim: int=None, **kwargs) -> None:\\n        super(AutoEncoder, self).__init__(**kwargs)\\n        self._encoder = Encoder(token_dim=token_dim, encoding_dim=encoding_dim, embedding_dim=embedding_dim, batch_dim=batch_dim)\\n        self._decoder = Decoder(token_dim=token_dim, encoding_dim=encoding_dim, embedding_dim=embedding_dim, batch_dim=batch_dim)\\n\\n    def call(self, x: tf.Tensor) -> tf.Tensor:\\n        return self._decoder(self._encoder(x))\"\"\",\n",
        "    \"\"\"class AutoEncoder(tf.keras.models.Model):\\n  def __init__(self, token_dim: int, encoding_dim: int, embedding_dim: int, batch_dim: int=None, **kwargs) -> None:\\n    super(AutoEncoder, self).__init__(**kwargs)\\n    self._encoder = Encoder(token_dim=token_dim, encoding_dim=encoding_dim, embedding_dim=embedding_dim, batch_dim=batch_dim)\\n    self._decoder = Decoder(token_dim=token_dim, encoding_dim=encoding_dim, embedding_dim=embedding_dim, batch_dim=batch_dim)\\n\\n  def call(self, x: tf.Tensor) -> tf.Tensor:\\n    return self._decoder(self._encoder(x))\"\"\"]"
      ]
    },
    {
      "cell_type": "code",
      "execution_count": null,
      "metadata": {
        "id": "R-iGpXb15m83"
      },
      "outputs": [],
      "source": [
        "# COMPUTE ######################################################################\n",
        "\n",
        "__i = 0\n",
        "__x, __e, __p, __y = tokun.pipeline.sample(model=MODEL, text=SAMPLES[__i], token_size=math.prod(N_TOKEN_DIM), expand=N_SEQUENCE_AXIS * [1])"
      ]
    },
    {
      "cell_type": "code",
      "execution_count": null,
      "metadata": {
        "id": "wKdaYXR5SyY9"
      },
      "outputs": [],
      "source": [
        "print('# INPUT ################################################################\\n\\n' + SAMPLES[__i])\n",
        "print('\\n# OUTPUT ###############################################################\\n\\n' + __y)\n",
        "print('\\n# SCORE ################################################################\\n\\n' + str(tokun.evaluation.compare(SAMPLES[__i], __y)))"
      ]
    },
    {
      "cell_type": "code",
      "execution_count": null,
      "metadata": {
        "id": "lK2XC4zLNco4"
      },
      "outputs": [],
      "source": [
        "# FROM DATASET ################################################################\n",
        "\n",
        "# compute\n",
        "__l = tokun.pipeline.postprocess(IO['vi'][0])\n",
        "__r = tokun.pipeline.postprocess(IO['vi'][1])\n",
        "\n",
        "# print\n",
        "print(__l)\n",
        "print(__r)\n",
        "print(tokun.evaluation.compare(__l, __r))"
      ]
    },
    {
      "cell_type": "code",
      "execution_count": null,
      "metadata": {
        "collapsed": true,
        "id": "eJmv4xjnTH4t"
      },
      "outputs": [],
      "source": [
        "%tensorboard --logdir .logs"
      ]
    },
    {
      "cell_type": "code",
      "execution_count": null,
      "metadata": {
        "id": "P6KBZcFw8JXo"
      },
      "outputs": [],
      "source": [
        "__std = tf.math.reduce_std(EMBEDDINGS[N_TOKEN_SIZES[-1]]['en'], axis=1)\n",
        "__noise = tf.random.normal(shape=(256,), mean=0., stddev=tf.math.reduce_mean(__std).numpy())"
      ]
    },
    {
      "cell_type": "code",
      "execution_count": null,
      "metadata": {
        "id": "7ysd903RYTt8"
      },
      "outputs": [],
      "source": [
        "__s = \"\"\"Une unité lexicale ou token lexical ou plus simplement token est un couple composé d'un nom et d'une valeur optionnelle (e.g. 135677).\"\"\"\n",
        "__x = tokun.pipeline.preprocess(__s, token_size=math.prod(N_TOKEN_DIM), expand=N_SEQUENCE_AXIS * [1])\n",
        "__e = tf.cast(MODEL._encoder(__x), dtype=tf.dtypes.float32)\n",
        "\n",
        "print(tokun.pipeline.postprocess(MODEL._decoder(__e)))\n",
        "print(tokun.pipeline.postprocess(MODEL._decoder(__e + 0.02 * __noise)))"
      ]
    },
    {
      "cell_type": "code",
      "execution_count": null,
      "metadata": {
        "id": "66nzoc7m4uvd"
      },
      "outputs": [],
      "source": [
        "__s = \"\"\"[ This program prints \"Hello World!\" and a newline to the screen; its\n",
        "  length is 106 active command characters. [It is not the shortest.]\n",
        "\n",
        "  This loop is an \"initial comment loop\", a simple way of adding a comment\n",
        "  to a BF program such that you don't have to worry about any command\n",
        "  characters. Any \".\", \",\", \"+\", \"-\", \"<\" and \">\" characters are simply\n",
        "  ignored, the \"[\" and \"]\" characters just have to be balanced. This\n",
        "  loop and the commands it contains are ignored because the current cell\n",
        "  defaults to a value of 0; the 0 value causes this loop to be skipped.\n",
        "]\n",
        "++++++++                Set Cell #0 to 8\n",
        "[\n",
        "    >++++               Add 4 to Cell #1; this will always set Cell #1 to 4\n",
        "    [                   as the cell will be cleared by the loop\n",
        "        >++             Add 2 to Cell #2\n",
        "        >+++            Add 3 to Cell #3\n",
        "        >+++            Add 3 to Cell #4\n",
        "        >+              Add 1 to Cell #5\n",
        "        <<<<-           Decrement the loop counter in Cell #1\n",
        "    ]                   Loop until Cell #1 is zero; number of iterations is 4\n",
        "    >+                  Add 1 to Cell #2\n",
        "    >+                  Add 1 to Cell #3\n",
        "    >-                  Subtract 1 from Cell #4\n",
        "    >>+                 Add 1 to Cell #6\n",
        "    [<]                 Move back to the first zero cell you find; this will\n",
        "                        be Cell #1 which was cleared by the previous loop\n",
        "    <-                  Decrement the loop Counter in Cell #0\n",
        "]                       Loop until Cell #0 is zero; number of iterations is 8\n",
        "\n",
        "The result of this is:\n",
        "Cell no :   0   1   2   3   4   5   6\n",
        "Contents:   0   0  72 104  88  32   8\n",
        "Pointer :   ^\n",
        "\n",
        ">>.                     Cell #2 has value 72 which is 'H'\n",
        ">---.                   Subtract 3 from Cell #3 to get 101 which is 'e'\n",
        "+++++++..+++.           Likewise for 'llo' from Cell #3\n",
        ">>.                     Cell #5 is 32 for the space\n",
        "<-.                     Subtract 1 from Cell #4 for 87 to give a 'W'\n",
        "<.                      Cell #3 was set to 'o' from the end of 'Hello'\n",
        "+++.------.--------.    Cell #3 for 'rl' and 'd'\n",
        ">>+.                    Add 1 to Cell #5 gives us an exclamation point\n",
        ">++.                    And finally a newline from Cell #6\"\"\"\n",
        "\n",
        "__x, __e, __p, __y = tokun.pipeline.sample(model=MODEL, text=__s, token_size=math.prod(N_TOKEN_DIM), expand=N_SEQUENCE_AXIS * [1])"
      ]
    },
    {
      "cell_type": "code",
      "execution_count": null,
      "metadata": {
        "id": "1O86EWCMY7rm"
      },
      "outputs": [],
      "source": [
        "tokun.evaluation.compare(__s, __y)"
      ]
    },
    {
      "cell_type": "code",
      "execution_count": null,
      "metadata": {
        "id": "aOZkMtZW813A"
      },
      "outputs": [],
      "source": [
        "print(__y)"
      ]
    },
    {
      "cell_type": "code",
      "execution_count": null,
      "metadata": {
        "id": "BeTbE8iK4-37"
      },
      "outputs": [],
      "source": []
    }
  ],
  "metadata": {
    "accelerator": "TPU",
    "colab": {
      "gpuType": "V28",
      "machine_shape": "hm",
      "provenance": []
    },
    "kernelspec": {
      "display_name": "Python 3",
      "name": "python3"
    }
  },
  "nbformat": 4,
  "nbformat_minor": 0
}